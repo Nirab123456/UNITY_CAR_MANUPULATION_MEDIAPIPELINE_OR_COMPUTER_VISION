{
 "cells": [
  {
   "cell_type": "code",
   "execution_count": 32,
   "metadata": {},
   "outputs": [],
   "source": [
    "from peaceful_pie.unity_comms import UnityComms\n",
    "import argparse\n",
    "import gym\n",
    "from gym import Env\n",
    "from gym.spaces import Box, MultiBinary,Discrete\n",
    "import numpy as np\n",
    "import os\n",
    "from torch.utils.tensorboard import SummaryWriter\n",
    "from stable_baselines3 import PPO\n",
    "from stable_baselines3.common.callbacks import BaseCallback\n",
    "import gym\n",
    "from gym import spaces\n",
    "from gym.wrappers import FrameStack\n",
    "from collections import deque\n",
    "# Import UnityComms from peaceful_pie.unity_comms\n",
    "from peaceful_pie.unity_comms import UnityComms\n",
    "from peaceful_pie.unity_comms import UnityComms\n",
    "from peaceful_pie import ray_results_helper\n",
    "import pandas as pd\n",
    "import matplotlib.pyplot as plt"
   ]
  },
  {
   "cell_type": "code",
   "execution_count": 33,
   "metadata": {},
   "outputs": [],
   "source": [
    "import os\n",
    "import uuid\n",
    "\n",
    "import torch\n",
    "from torch import nn\n",
    "from torchrl.collectors import MultiaSyncDataCollector\n",
    "from torchrl.data import LazyMemmapStorage, MultiStep, TensorDictReplayBuffer\n",
    "from torchrl.envs import (\n",
    "    EnvCreator,\n",
    "    ExplorationType,\n",
    "    ParallelEnv,\n",
    "    RewardScaling,\n",
    "    StepCounter,\n",
    ")\n",
    "from torchrl.envs.libs.gym import GymEnv\n",
    "from torchrl.envs.transforms import (\n",
    "    CatFrames,\n",
    "    Compose,\n",
    "    GrayScale,\n",
    "    ObservationNorm,\n",
    "    Resize,\n",
    "    ToTensorImage,\n",
    "    TransformedEnv,\n",
    ")\n",
    "from torchrl.modules import DuelingCnnDQNet, EGreedyWrapper, QValueActor\n",
    "\n",
    "from torchrl.objectives import DQNLoss, SoftUpdate\n",
    "from torchrl.record.loggers.csv import CSVLogger\n",
    "from torchrl.trainers import (\n",
    "    LogReward,\n",
    "    Recorder,\n",
    "    ReplayBufferTrainer,\n",
    "    Trainer,\n",
    "    UpdateWeights,\n",
    ")"
   ]
  },
  {
   "cell_type": "code",
   "execution_count": 34,
   "metadata": {},
   "outputs": [],
   "source": [
    "import gym \n",
    "import retro\n",
    "import numpy as np\n",
    "import  gym\n",
    "from gym import Env\n",
    "\n",
    "\n",
    "from torch.utils.tensorboard import SummaryWriter\n",
    "import retro\n",
    "import cv2\n",
    "from gym.spaces import Box,MultiBinary\n",
    "import numpy as np\n",
    "import optuna\n",
    "import tqdm as notebook_tqdm\n",
    "from stable_baselines3.common.vec_env import DummyVecEnv, VecVideoRecorder ,VecFrameStack\n",
    "from stable_baselines3 import PPO\n",
    "from stable_baselines3.common.evaluation import evaluate_policy\n",
    "from stable_baselines3.common.monitor import Monitor"
   ]
  },
  {
   "cell_type": "code",
   "execution_count": 35,
   "metadata": {},
   "outputs": [],
   "source": [
    "def unity_comms(port: int):\n",
    "    unity_comms = UnityComms(port)\n",
    "    return unity_comms\n"
   ]
  },
  {
   "cell_type": "code",
   "execution_count": 36,
   "metadata": {},
   "outputs": [],
   "source": [
    "port = 5000  # Replace with your desired port number\n",
    "unity_comms_instance = unity_comms(port)"
   ]
  },
  {
   "cell_type": "code",
   "execution_count": 37,
   "metadata": {},
   "outputs": [],
   "source": [
    "unity_comms_instance \n",
    "unity_comms = unity_comms_instance"
   ]
  },
  {
   "cell_type": "code",
   "execution_count": 38,
   "metadata": {},
   "outputs": [],
   "source": [
    "class MyVector3:\n",
    "    def __init__(self, x, y, z):\n",
    "        self.x = x\n",
    "        self.y = y\n",
    "        self.z = z"
   ]
  },
  {
   "cell_type": "code",
   "execution_count": 39,
   "metadata": {},
   "outputs": [],
   "source": [
    "import numpy as np"
   ]
  },
  {
   "cell_type": "code",
   "execution_count": 40,
   "metadata": {},
   "outputs": [],
   "source": [
    "import torch\n",
    "\n",
    "class UnityEnv(Env):\n",
    "    def __init__(self, unity_comms, i):\n",
    "        self.unity_comms = unity_comms\n",
    "        self.action_space = torch.tensor([0, 1, 2, 3, 4, 5, 6, 7, 8, 9, 10, 11, 12, 13, 14])  # 15 possible actions\n",
    "        self.observation_space = spaces.Box(low=-np.inf, high=np.inf, shape=(3,), dtype=np.float32)\n",
    "        self.initial_position = None\n",
    "        self.prev_position = None\n",
    "        self.prev_velocity = 0\n",
    "        self.frame_count = 0\n",
    "        self.i = i\n",
    "\n",
    "\n",
    "    def action(self):\n",
    "        actions = {\n",
    "            0: [np.array([1.0, 0.0, 0.0])],  # GoForward\n",
    "            1: [np.array([-1.0, 0.0, 0.0])],  # GoReverse\n",
    "            2: [np.array([0.0, 1.0, 0.0])],  # TurnLeft\n",
    "            3: [np.array([0.0, -1.0, 0.0])],  # TurnRight\n",
    "            4: [np.array([0.0, 0.0, 1.0])],  # Handbrake\n",
    "            5: [np.array([1.0, 1.0, 0.0])],  # GoForward + TurnLeft\n",
    "            6: [np.array([1.0, -1.0, 0.0])],  # GoForward + TurnRight\n",
    "            7: [np.array([1.0, 0.0, 1.0])],  # GoForward + Handbrake\n",
    "            8: [np.array([-1.0, 1.0, 0.0])],  # GoReverse + TurnLeft\n",
    "            9: [np.array([-1.0, -1.0, 0.0])],  # GoReverse + TurnRight\n",
    "            10: [np.array([-1.0, 0.0, 1.0])],  # GoReverse + Handbrake\n",
    "            11: [np.array([1.0, 1.0, 1.0])],  # GoForward + TurnLeft + Handbrake\n",
    "            12: [np.array([1.0, -1.0, 1.0])],  # GoForward + TurnRight + Handbrake\n",
    "            13: [np.array([-1.0, 1.0, 1.0])],  # GoReverse + TurnLeft + Handbrake\n",
    "            14: [np.array([-1.0, -1.0, 1.0])]  # GoReverse + TurnRight + Handbrake\n",
    "        }\n",
    "        return actions\n",
    "\n",
    "    def step(self, action):\n",
    "        if action.item() in self.action_space:\n",
    "            action_methods = self.action()[action.item()]\n",
    "            for method in action_methods:\n",
    "                action_method = method.tolist()\n",
    "                if action_method == [1.0, 0.0, 0.0]:\n",
    "                    getattr(self.unity_comms, f\"GoForward_{self.i}\")()\n",
    "                elif action_method == [-1.0, 0.0, 0.0]:\n",
    "                    getattr(self.unity_comms, f\"GoReverse_{self.i}\")()\n",
    "                elif action_method == [0.0, 1.0, 0.0]:\n",
    "                    getattr(self.unity_comms, f\"TurnLeft_{self.i}\")()\n",
    "                elif action_method == [0.0, -1.0, 0.0]:\n",
    "                    getattr(self.unity_comms, f\"TurnRight_{self.i}\")()\n",
    "                elif action_method == [0.0, 0.0, 1.0]:\n",
    "                    getattr(self.unity_comms, f\"Handbrake_{self.i}\")()\n",
    "                elif action_method == [1.0, 1.0, 0.0]:\n",
    "                    getattr(self.unity_comms, f\"GoForward_{self.i}\")()\n",
    "                    getattr(self.unity_comms, f\"TurnLeft_{self.i}\")()\n",
    "                elif action_method == [1.0, -1.0, 0.0]:\n",
    "                    getattr(self.unity_comms, f\"GoForward_{self.i}\")()\n",
    "                    getattr(self.unity_comms, f\"TurnRight_{self.i}\")()\n",
    "                elif action_method == [1.0, 0.0, 1.0]:\n",
    "                    getattr(self.unity_comms, f\"GoForward_{self.i}\")()\n",
    "                    getattr(self.unity_comms, f\"Handbrake_{self.i}\")()\n",
    "                elif action_method == [-1.0, 1.0, 0.0]:\n",
    "                    getattr(self.unity_comms, f\"GoReverse_{self.i}\")()\n",
    "                    getattr(self.unity_comms, f\"TurnLeft_{self.i}\")()\n",
    "                elif action_method == [-1.0, -1.0, 0.0]:\n",
    "                    getattr(self.unity_comms, f\"GoReverse_{self.i}\")()\n",
    "                    getattr(self.unity_comms, f\"TurnRight_{self.i}\")()\n",
    "                elif action_method == [-1.0, 0.0, 1.0]:\n",
    "                    getattr(self.unity_comms, f\"GoReverse_{self.i}\")()\n",
    "                    getattr(self.unity_comms, f\"Handbrake_{self.i}\")()\n",
    "                elif action_method == [1.0, 1.0, 1.0]:\n",
    "                    getattr(self.unity_comms, f\"GoForward_{self.i}\")()\n",
    "                    getattr(self.unity_comms, f\"TurnLeft_{self.i}\")()\n",
    "                    getattr(self.unity_comms, f\"Handbrake_{self.i}\")()\n",
    "                elif action_method == [1.0, -1.0, 1.0]:\n",
    "                    getattr(self.unity_comms, f\"GoForward_{self.i}\")()\n",
    "                    getattr(self.unity_comms, f\"TurnRight_{self.i}\")()\n",
    "                    getattr(self.unity_comms, f\"Handbrake_{self.i}\")()\n",
    "                elif action_method == [-1.0, 1.0, 1.0]:\n",
    "                    getattr(self.unity_comms, f\"GoReverse_{self.i}\")()\n",
    "                    getattr(self.unity_comms, f\"TurnLeft_{self.i}\")()\n",
    "                    getattr(self.unity_comms, f\"Handbrake_{self.i}\")()\n",
    "                elif action_method == [-1.0, -1.0, 1.0]:\n",
    "                    getattr(self.unity_comms, f\"GoReverse_{self.i}\")()\n",
    "                    getattr(self.unity_comms, f\"TurnRight_{self.i}\")()\n",
    "                    getattr(self.unity_comms, f\"Handbrake_{self.i}\")()\n",
    "        else:\n",
    "            raise ValueError(\"Invalid action index\")\n",
    "\n",
    "\n",
    "        self.prev_position = self.Get_position()\n",
    "        self.prev_velocity = self.Get_velocity()\n",
    "\n",
    "        position = self.Get_position()\n",
    "        velocity = self.Get_velocity()\n",
    "        # Concatenate the position and velocity to form the observation\n",
    "        observation = np.array([position[0], position[1], velocity], dtype=np.float32)\n",
    "\n",
    "        reward = self.Get_reward()\n",
    "        done = self.done()\n",
    "\n",
    "        # Update the info dictionary with relevant information\n",
    "        info = {\n",
    "            'episode_reward': reward,  # Replace with the actual episode reward\n",
    "            'episode_length': self.frame_count,  # Replace with the actual episode length\n",
    "            'current_observation': observation,\n",
    "            'action_taken': action,\n",
    "            'obstacle_visible': self.Is_obstacle_visible(),\n",
    "            'reward_visible': self.Is_reward_visible(),\n",
    "            'goal_reached': self.Goal(),\n",
    "            'car_collision_detected': self.Get_carCollisionDetected(),\n",
    "            'velocity_incremented': self.Check_valocity_increment(),\n",
    "        }\n",
    "        return observation, reward, done, info\n",
    "\n",
    "    def RayCast(self):\n",
    "        ray_results = getattr(self.unity_comms, f\"GetRayCastsResults_{self.i}\")()\n",
    "        distance = np.array(ray_results['rayDistances'], dtype=np.float32)\n",
    "        types = np.array(ray_results['rayHitObjectTypes'], dtype=np.int32)\n",
    "        num_types = ray_results['NumObjectTypes']\n",
    "        self.actual_result = ray_results_helper.ray_results_to_feature_np(\n",
    "            ray_results_helper.RayResults(\n",
    "                NumObjectTypes=num_types,\n",
    "                rayDistances=distance,\n",
    "                rayHitObjectTypes=types,\n",
    "            )\n",
    "        )  \n",
    "\n",
    "        return self.actual_result\n",
    "    \n",
    "\n",
    "    def Is_obstacle_visible(self):\n",
    "        actual_result=self.RayCast()\n",
    "        obstacle_channel = actual_result[0]  # Extract the obstacle channel from the actual result\n",
    "        if np.max(obstacle_channel) > 0:\n",
    "            return True\n",
    "        return False\n",
    "\n",
    "    def Is_reward_visible(self):\n",
    "        actual_result=self.RayCast()\n",
    "        reward_channel = actual_result[1]  # Extract the reward channel from the actual result\n",
    "        if np.max(reward_channel) > 0:\n",
    "            return True\n",
    "        return False\n",
    "\n",
    "    def Goal(self):\n",
    "        if self.Is_reward_visible() == True:\n",
    "            goal_channel = self.actual_result[1]\n",
    "            if np.max(goal_channel) > 1:\n",
    "                return True\n",
    "        return False\n",
    "\n",
    "\n",
    "    def Get_reward(self):\n",
    "        obstacle_penalty = -1.0  # Penalty for encountering an obstacle\n",
    "        reward_bonus = .7 # Reward for finding a reward object\n",
    "        goal_reward = 1  # Reward for reaching the goal\n",
    "        car_collision_penalty = -1.0  # Penalty for colliding with the car\n",
    "        valocity_reward = 0.1 #reward for moving forward\n",
    "\n",
    "        reward = 0.0\n",
    "\n",
    "        if self.Is_obstacle_visible()== True:\n",
    "            reward += obstacle_penalty\n",
    "\n",
    "        if self.Is_reward_visible()== True:\n",
    "            reward += reward_bonus\n",
    "\n",
    "        reward += self.Step_panalty()\n",
    "\n",
    "        if self.Goal() == True:\n",
    "            reward += goal_reward\n",
    "\n",
    "        if self.Get_carCollisionDetected() == True:\n",
    "            reward += car_collision_penalty\n",
    "\n",
    "        if self.Check_valocity_increment()== True:\n",
    "            reward += valocity_reward\n",
    "\n",
    "        return reward\n",
    "\n",
    "    def reset(self):\n",
    "        self.RayCast()\n",
    "        Reset_Car = getattr(self.unity_comms, f\"ResetPosition_{self.i}\")()  \n",
    "        Reset_Agent = getattr(self.unity_comms, f\"ResetPosition_Plane_{self.i}\")()\n",
    "        position =self.Get_position()\n",
    "        position = np.array(position, dtype=np.float32)\n",
    "        self.frame_count=0\n",
    "        return position\n",
    "\n",
    "    def done(self):\n",
    "        if self.Get_carCollisionDetected() == True:\n",
    "            self.frame_count=0\n",
    "            return True\n",
    "        elif self.Get_movingPlaneCollision() == True:\n",
    "            self.frame_count=0\n",
    "            return True\n",
    "        elif self.Get_planeCollision() == True:\n",
    "            self.frame_count=0\n",
    "            return True\n",
    "        elif self.Check_stuck() == True:\n",
    "            self.frame_count=0\n",
    "            return True\n",
    "        else:\n",
    "            self.frame_count += 1\n",
    "            return False\n",
    "\n",
    "    def Get_carCollisionDetected(self):\n",
    "        collision_count = 0\n",
    "        collision = collision = getattr(self.unity_comms, f\"CarCollisionDetected_{self.i}\")()\n",
    "        if collision == 1:\n",
    "            collision_count += 1\n",
    "            if collision_count >=2:\n",
    "                collision_count = 0\n",
    "                return True\n",
    "\n",
    "        return False\n",
    "    \n",
    "    def Get_movingPlaneCollision(self):\n",
    "        collision_count = 0\n",
    "        collision = getattr(self.unity_comms, f\"GetMovingPlaneCollision_{self.i}\")()\n",
    "        if collision == 1:\n",
    "            collision_count += 1\n",
    "            if collision_count >= 1:\n",
    "                collision_count = 0\n",
    "                return True\n",
    "\n",
    "        return False\n",
    "    \n",
    "    def Get_planeCollision(self):\n",
    "        collision_count = 0\n",
    "        collision = getattr(self.unity_comms, f\"GetPlaneCollision_{self.i}\")()\n",
    "        if collision == 1:\n",
    "            collision_count += 1\n",
    "            if collision_count > 0:\n",
    "                collision_count = 0\n",
    "                return True\n",
    "\n",
    "        return False\n",
    "    \n",
    "    \n",
    "    def Get_rewardCollision(self):\n",
    "        collision = getattr(self.unity_comms, f\"GetRewardCollision_{self.i}\")()\n",
    "        self.rewardcollision = collision\n",
    "\n",
    "    def Step_panalty(self):\n",
    "        if self.done() == True:\n",
    "            return -1\n",
    "        else:\n",
    "            return 0\n",
    "\n",
    "\n",
    "    def Get_velocity(self):\n",
    "        valocity =  getattr(self.unity_comms, f\"CarSpeedUI_{self.i}\")()\n",
    "        return valocity\n",
    "\n",
    "    def Check_valocity_increment(self):\n",
    "        valocity = self.Get_velocity()\n",
    "        if valocity > self.prev_velocity:\n",
    "            self.prev_velocity = valocity\n",
    "            return True\n",
    "        else:\n",
    "            return False\n",
    "\n",
    "    def Check_stuck(self):\n",
    "        position_threshold = 0.01\n",
    "        consecutive_steps = 20\n",
    "        position_counter = 0\n",
    "        \n",
    "        if self.prev_position is None:\n",
    "            self.prev_position = self.get_position()\n",
    "\n",
    "        for _ in range(consecutive_steps):\n",
    "            x, y, z = self.Get_position()\n",
    "\n",
    "            position_diff = np.linalg.norm(np.array([x, y, z]) - np.array(self.prev_position))\n",
    "            if position_diff < position_threshold:\n",
    "                position_counter += 1\n",
    "            else:\n",
    "                position_counter = 0\n",
    "\n",
    "            self.prev_position = [x, y, z]\n",
    "\n",
    "        if position_counter >= consecutive_steps:\n",
    "            return True\n",
    "        else:\n",
    "            return False\n",
    "\n",
    "\n",
    "    def Get_position(self):\n",
    "        position = getattr(self.unity_comms, f\"GetPosition_{self.i}\")()\n",
    "        # Extract x, y, and z components from position\n",
    "        x = position['x']\n",
    "        y = position['y']\n",
    "        z = position['z']\n",
    "        return x, y, z\n",
    "\n",
    "\n"
   ]
  },
  {
   "cell_type": "code",
   "execution_count": 41,
   "metadata": {},
   "outputs": [],
   "source": [
    "base_env=UnityEnv(unity_comms,9000)"
   ]
  },
  {
   "cell_type": "code",
   "execution_count": 42,
   "metadata": {},
   "outputs": [],
   "source": [
    "ray=base_env.RayCast()"
   ]
  },
  {
   "cell_type": "code",
   "execution_count": 43,
   "metadata": {},
   "outputs": [
    {
     "data": {
      "text/plain": [
       "array([[[0., 0., 0., ..., 0., 0., 0.],\n",
       "        [0., 0., 0., ..., 0., 0., 0.],\n",
       "        [0., 0., 0., ..., 0., 0., 0.],\n",
       "        ...,\n",
       "        [0., 0., 0., ..., 0., 0., 0.],\n",
       "        [0., 0., 0., ..., 0., 0., 0.],\n",
       "        [0., 0., 0., ..., 0., 0., 0.]],\n",
       "\n",
       "       [[0., 0., 0., ..., 0., 0., 0.],\n",
       "        [0., 0., 0., ..., 0., 0., 0.],\n",
       "        [0., 0., 0., ..., 0., 0., 0.],\n",
       "        ...,\n",
       "        [0., 0., 0., ..., 0., 0., 0.],\n",
       "        [0., 0., 0., ..., 0., 0., 0.],\n",
       "        [0., 0., 0., ..., 0., 0., 0.]],\n",
       "\n",
       "       [[0., 0., 0., ..., 0., 0., 0.],\n",
       "        [0., 0., 0., ..., 0., 0., 0.],\n",
       "        [0., 0., 0., ..., 0., 0., 0.],\n",
       "        ...,\n",
       "        [0., 0., 0., ..., 0., 0., 0.],\n",
       "        [0., 0., 0., ..., 0., 0., 0.],\n",
       "        [0., 0., 0., ..., 0., 0., 0.]]], dtype=float32)"
      ]
     },
     "execution_count": 43,
     "metadata": {},
     "output_type": "execute_result"
    }
   ],
   "source": [
    "ray"
   ]
  },
  {
   "cell_type": "code",
   "execution_count": 53,
   "metadata": {},
   "outputs": [],
   "source": [
    "import h5py\n",
    "\n",
    "# Create an HDF5 file\n",
    "file_path = \"dataset.h5\"\n",
    "hdf5_file = h5py.File(file_path, \"w\")\n",
    "\n",
    "# Assuming your nested arrays are stored in a list called \"nested_arrays\"\n",
    "nested_arrays = []  # Placeholder for nested arrays\n",
    "\n",
    "# Loop over the iterations\n",
    "for i in range(10000):\n",
    "    nested_array = base_env.RayCast()\n",
    "    nested_arrays.append(nested_array)\n",
    "\n",
    "# Concatenate the nested arrays along a new axis\n",
    "concatenated_array = np.stack(nested_arrays, axis=0)\n",
    "\n",
    "# Create a dataset and save the concatenated array\n",
    "hdf5_file.create_dataset(\"nested_arrays_dataset\", data=concatenated_array)\n",
    "\n",
    "# Close the HDF5 file\n",
    "hdf5_file.close()\n"
   ]
  },
  {
   "cell_type": "code",
   "execution_count": 46,
   "metadata": {},
   "outputs": [],
   "source": [
    "import h5py\n",
    "file_path = \"dataset.h5\"\n",
    "hdf5_file = h5py.File(file_path, \"r\")\n",
    "\n",
    "# Load the dataset into a variable\n",
    "dataset = hdf5_file[\"nested_arrays_dataset\"]\n",
    "\n",
    "# Access the data as a NumPy array\n",
    "nested_arrays = dataset[:]\n",
    "\n",
    "# Close the HDF5 file\n",
    "hdf5_file.close()"
   ]
  },
  {
   "cell_type": "code",
   "execution_count": 48,
   "metadata": {},
   "outputs": [
    {
     "data": {
      "text/plain": [
       "(10, 3, 70, 20)"
      ]
     },
     "execution_count": 48,
     "metadata": {},
     "output_type": "execute_result"
    }
   ],
   "source": [
    "nested_arrays.shape"
   ]
  },
  {
   "cell_type": "code",
   "execution_count": 49,
   "metadata": {},
   "outputs": [],
   "source": [
    "nested_tensor = torch.from_numpy(nested_arrays)"
   ]
  },
  {
   "cell_type": "code",
   "execution_count": 50,
   "metadata": {},
   "outputs": [
    {
     "data": {
      "text/plain": [
       "torch.Size([10, 3, 70, 20])"
      ]
     },
     "execution_count": 50,
     "metadata": {},
     "output_type": "execute_result"
    }
   ],
   "source": [
    "nested_tensor.shape"
   ]
  },
  {
   "cell_type": "code",
   "execution_count": 11,
   "metadata": {},
   "outputs": [
    {
     "name": "stdout",
     "output_type": "stream",
     "text": [
      "requests.exceptions.ConnectionError => ignoring, retrying\n",
      "requests.exceptions.ConnectionError => ignoring, retrying\n",
      "requests.exceptions.ConnectionError => ignoring, retrying\n",
      "requests.exceptions.ConnectionError => ignoring, retrying\n",
      "requests.exceptions.ConnectionError => ignoring, retrying\n",
      "requests.exceptions.ConnectionError => ignoring, retrying\n"
     ]
    },
    {
     "data": {
      "text/plain": [
       "array([2445.6     ,  -20.194426, -314.5     ], dtype=float32)"
      ]
     },
     "execution_count": 11,
     "metadata": {},
     "output_type": "execute_result"
    }
   ],
   "source": [
    "base_env.reset()"
   ]
  },
  {
   "cell_type": "code",
   "execution_count": 18,
   "metadata": {},
   "outputs": [
    {
     "name": "stdout",
     "output_type": "stream",
     "text": [
      "Observation: [ 2.4540999e+03 -2.0668186e+01  6.9777772e-02]\n",
      "Reward: -1.0\n",
      "Done: True\n",
      "Info: {'episode_reward': -1.0, 'episode_length': 0, 'current_observation': array([ 2.4540999e+03, -2.0668186e+01,  6.9777772e-02], dtype=float32), 'action_taken': tensor(0), 'obstacle_visible': True, 'reward_visible': False, 'goal_reached': False, 'car_collision_detected': False, 'velocity_incremented': False}\n"
     ]
    }
   ],
   "source": [
    "# Assuming you have created an instance of UnityEnv called 'env'\n",
    "action = torch.tensor(0)  # Choose an action index within the valid range\n",
    "observation, reward, done, info = base_env.step(action)\n",
    "\n",
    "# Print the results\n",
    "print(\"Observation:\", observation)\n",
    "print(\"Reward:\", reward)\n",
    "print(\"Done:\", done)\n",
    "print(\"Info:\", info)\n"
   ]
  },
  {
   "cell_type": "code",
   "execution_count": 19,
   "metadata": {},
   "outputs": [],
   "source": [
    "ray = base_env.RayCast()"
   ]
  },
  {
   "cell_type": "code",
   "execution_count": 22,
   "metadata": {},
   "outputs": [
    {
     "data": {
      "text/plain": [
       "<matplotlib.image.AxesImage at 0x1d351cadf40>"
      ]
     },
     "execution_count": 22,
     "metadata": {},
     "output_type": "execute_result"
    },
    {
     "data": {
      "image/png": "[encoded data removed]",
      "text/plain": [
       "<Figure size 640x480 with 1 Axes>"
      ]
     },
     "metadata": {},
     "output_type": "display_data"
    }
   ],
   "source": [
    "plt.imshow(ray[0])"
   ]
  },
  {
   "cell_type": "code",
   "execution_count": 23,
   "metadata": {},
   "outputs": [],
   "source": [
    "class NestedCNN(nn.Module):\n",
    "    def __init__(self, n):\n",
    "        super(NestedCNN, self).__init__()\n",
    "        self.n = n\n",
    "        self.cnn_module = nn.Sequential(\n",
    "            nn.Conv2d(1, 16, kernel_size=3, stride=1),\n",
    "            nn.ReLU(),\n",
    "            nn.MaxPool2d(kernel_size=2, stride=2),\n",
    "            nn.Conv2d(16, 32, kernel_size=3, stride=1),\n",
    "            nn.ReLU(),\n",
    "            nn.MaxPool2d(kernel_size=2, stride=2),\n",
    "            nn.Conv2d(32, 64, kernel_size=3, stride=1),\n",
    "            nn.ReLU(),\n",
    "            nn.MaxPool2d(kernel_size=(2, 1), stride=(2, 1)),  # Modified MaxPool2d layer\n",
    "            nn.Flatten(),\n",
    "            nn.Linear(448, 1),\n",
    "            nn.ReLU(),\n",
    "            nn.ReLU()\n",
    "        )\n",
    "\n",
    "    def forward(self, input):\n",
    "        outputs = []\n",
    "        for i in range(self.n):\n",
    "            nested_input = input[:, i, :, :].unsqueeze(1)\n",
    "            output = nested_input\n",
    "            print(\"Nested Input shape:\", output.shape)\n",
    "            \n",
    "            output = self.cnn_module[0](output)\n",
    "            print(\"Conv2d 1 Output shape:\", output.shape)\n",
    "            \n",
    "            output = self.cnn_module[1](output)\n",
    "            print(\"ReLU 1 Output shape:\", output.shape)\n",
    "            \n",
    "            output = self.cnn_module[2](output)\n",
    "            print(\"MaxPool2d 1 Output shape:\", output.shape)\n",
    "            \n",
    "            output = self.cnn_module[3](output)\n",
    "            print(\"Conv2d 2 Output shape:\", output.shape)\n",
    "            \n",
    "            output = self.cnn_module[4](output)\n",
    "            print(\"ReLU 2 Output shape:\", output.shape)\n",
    "            \n",
    "            output = self.cnn_module[5](output)\n",
    "            print(\"MaxPool2d 2 Output shape:\", output.shape)\n",
    "            \n",
    "            output = self.cnn_module[6](output)\n",
    "            print(\"Conv2d 3 Output shape:\", output.shape)\n",
    "            \n",
    "            output = self.cnn_module[7](output)\n",
    "            print(\"ReLU 3 Output shape:\", output.shape)\n",
    "            \n",
    "            output = self.cnn_module[8](output)\n",
    "            print(\"MaxPool2d 3 Output shape:\", output.shape)\n",
    "            \n",
    "            output = self.cnn_module[9](output)\n",
    "            print(\"Flatten Output shape:\", output.shape)\n",
    "\n",
    "            \n",
    "            output = self.cnn_module[10](output)\n",
    "            print(\"Linear 1 Output shape:\", output.shape)\n",
    "            \n",
    "            output = self.cnn_module[11](output)\n",
    "            print(\"ReLU 4 Output shape:\", output.shape)\n",
    "            \n",
    "            output = self.cnn_module[12](output)\n",
    "            print(\"Relu_Final Output shape:\", output.shape)\n",
    "            \n",
    "            outputs.append(output)\n",
    "        \n",
    "        outputs = torch.stack(outputs, dim=1)\n",
    "        return outputs\n"
   ]
  },
  {
   "cell_type": "code",
   "execution_count": 55,
   "metadata": {},
   "outputs": [],
   "source": [
    "cnn_module= NestedCNN(2)"
   ]
  },
  {
   "cell_type": "code",
   "execution_count": 25,
   "metadata": {},
   "outputs": [],
   "source": [
    "# Convert the numpy array to a torch tensor\n",
    "ray_tensor = torch.from_numpy(ray)\n",
    "\n",
    "# Add a batch dimension to the tensor\n",
    "ray_tensor = ray_tensor.unsqueeze(0)"
   ]
  },
  {
   "cell_type": "code",
   "execution_count": 26,
   "metadata": {},
   "outputs": [
    {
     "data": {
      "text/plain": [
       "torch.Size([1, 3, 70, 100])"
      ]
     },
     "execution_count": 26,
     "metadata": {},
     "output_type": "execute_result"
    }
   ],
   "source": [
    "ray_tensor.shape"
   ]
  },
  {
   "cell_type": "code",
   "execution_count": 192,
   "metadata": {},
   "outputs": [],
   "source": [
    "x = torch.randn(10, 2, 70,20)"
   ]
  },
  {
   "cell_type": "code",
   "execution_count": 54,
   "metadata": {},
   "outputs": [
    {
     "name": "stdout",
     "output_type": "stream",
     "text": [
      "Nested Input shape: torch.Size([1, 1, 70, 100])\n",
      "Conv2d 1 Output shape: torch.Size([1, 16, 68, 98])\n",
      "ReLU 1 Output shape: torch.Size([1, 16, 68, 98])\n",
      "MaxPool2d 1 Output shape: torch.Size([1, 16, 34, 49])\n",
      "Conv2d 2 Output shape: torch.Size([1, 32, 32, 47])\n",
      "ReLU 2 Output shape: torch.Size([1, 32, 32, 47])\n",
      "MaxPool2d 2 Output shape: torch.Size([1, 32, 16, 23])\n",
      "Conv2d 3 Output shape: torch.Size([1, 64, 14, 21])\n",
      "ReLU 3 Output shape: torch.Size([1, 64, 14, 21])\n",
      "MaxPool2d 3 Output shape: torch.Size([1, 64, 7, 21])\n",
      "Flatten Output shape: torch.Size([1, 9408])\n"
     ]
    },
    {
     "ename": "RuntimeError",
     "evalue": "mat1 and mat2 shapes cannot be multiplied (1x9408 and 448x1)",
     "output_type": "error",
     "traceback": [
      "\u001b[1;31m---------------------------------------------------------------------------\u001b[0m",
      "\u001b[1;31mRuntimeError\u001b[0m                              Traceback (most recent call last)",
      "\u001b[1;32md:\\RL_UNITY\\full_car_envs\\my_experiment\\Assets\\subAssets\\Python\\environment\\Env5000\\TORCH_RL.ipynb Cell 27\u001b[0m in \u001b[0;36m<cell line: 1>\u001b[1;34m()\u001b[0m\n\u001b[1;32m----> <a href='vscode-notebook-cell:/d%3A/RL_UNITY/full_car_envs/my_experiment/Assets/subAssets/Python/environment/Env5000/TORCH_RL.ipynb#Y154sZmlsZQ%3D%3D?line=0'>1</a>\u001b[0m prob\u001b[39m=\u001b[39mcnn_module\u001b[39m.\u001b[39;49mforward(ray_tensor)\n",
      "\u001b[1;32md:\\RL_UNITY\\full_car_envs\\my_experiment\\Assets\\subAssets\\Python\\environment\\Env5000\\TORCH_RL.ipynb Cell 27\u001b[0m in \u001b[0;36mNestedCNN.forward\u001b[1;34m(self, input)\u001b[0m\n\u001b[0;32m     <a href='vscode-notebook-cell:/d%3A/RL_UNITY/full_car_envs/my_experiment/Assets/subAssets/Python/environment/Env5000/TORCH_RL.ipynb#Y154sZmlsZQ%3D%3D?line=54'>55</a>\u001b[0m output \u001b[39m=\u001b[39m \u001b[39mself\u001b[39m\u001b[39m.\u001b[39mcnn_module[\u001b[39m9\u001b[39m](output)\n\u001b[0;32m     <a href='vscode-notebook-cell:/d%3A/RL_UNITY/full_car_envs/my_experiment/Assets/subAssets/Python/environment/Env5000/TORCH_RL.ipynb#Y154sZmlsZQ%3D%3D?line=55'>56</a>\u001b[0m \u001b[39mprint\u001b[39m(\u001b[39m\"\u001b[39m\u001b[39mFlatten Output shape:\u001b[39m\u001b[39m\"\u001b[39m, output\u001b[39m.\u001b[39mshape)\n\u001b[1;32m---> <a href='vscode-notebook-cell:/d%3A/RL_UNITY/full_car_envs/my_experiment/Assets/subAssets/Python/environment/Env5000/TORCH_RL.ipynb#Y154sZmlsZQ%3D%3D?line=58'>59</a>\u001b[0m output \u001b[39m=\u001b[39m \u001b[39mself\u001b[39;49m\u001b[39m.\u001b[39;49mcnn_module[\u001b[39m10\u001b[39;49m](output)\n\u001b[0;32m     <a href='vscode-notebook-cell:/d%3A/RL_UNITY/full_car_envs/my_experiment/Assets/subAssets/Python/environment/Env5000/TORCH_RL.ipynb#Y154sZmlsZQ%3D%3D?line=59'>60</a>\u001b[0m \u001b[39mprint\u001b[39m(\u001b[39m\"\u001b[39m\u001b[39mLinear 1 Output shape:\u001b[39m\u001b[39m\"\u001b[39m, output\u001b[39m.\u001b[39mshape)\n\u001b[0;32m     <a href='vscode-notebook-cell:/d%3A/RL_UNITY/full_car_envs/my_experiment/Assets/subAssets/Python/environment/Env5000/TORCH_RL.ipynb#Y154sZmlsZQ%3D%3D?line=61'>62</a>\u001b[0m output \u001b[39m=\u001b[39m \u001b[39mself\u001b[39m\u001b[39m.\u001b[39mcnn_module[\u001b[39m11\u001b[39m](output)\n",
      "File \u001b[1;32mc:\\Users\\rifat\\miniconda3\\envs\\tf\\lib\\site-packages\\torch\\nn\\modules\\module.py:1501\u001b[0m, in \u001b[0;36mModule._call_impl\u001b[1;34m(self, *args, **kwargs)\u001b[0m\n\u001b[0;32m   1496\u001b[0m \u001b[39m# If we don't have any hooks, we want to skip the rest of the logic in\u001b[39;00m\n\u001b[0;32m   1497\u001b[0m \u001b[39m# this function, and just call forward.\u001b[39;00m\n\u001b[0;32m   1498\u001b[0m \u001b[39mif\u001b[39;00m \u001b[39mnot\u001b[39;00m (\u001b[39mself\u001b[39m\u001b[39m.\u001b[39m_backward_hooks \u001b[39mor\u001b[39;00m \u001b[39mself\u001b[39m\u001b[39m.\u001b[39m_backward_pre_hooks \u001b[39mor\u001b[39;00m \u001b[39mself\u001b[39m\u001b[39m.\u001b[39m_forward_hooks \u001b[39mor\u001b[39;00m \u001b[39mself\u001b[39m\u001b[39m.\u001b[39m_forward_pre_hooks\n\u001b[0;32m   1499\u001b[0m         \u001b[39mor\u001b[39;00m _global_backward_pre_hooks \u001b[39mor\u001b[39;00m _global_backward_hooks\n\u001b[0;32m   1500\u001b[0m         \u001b[39mor\u001b[39;00m _global_forward_hooks \u001b[39mor\u001b[39;00m _global_forward_pre_hooks):\n\u001b[1;32m-> 1501\u001b[0m     \u001b[39mreturn\u001b[39;00m forward_call(\u001b[39m*\u001b[39;49margs, \u001b[39m*\u001b[39;49m\u001b[39m*\u001b[39;49mkwargs)\n\u001b[0;32m   1502\u001b[0m \u001b[39m# Do not call functions when jit is used\u001b[39;00m\n\u001b[0;32m   1503\u001b[0m full_backward_hooks, non_full_backward_hooks \u001b[39m=\u001b[39m [], []\n",
      "File \u001b[1;32mc:\\Users\\rifat\\miniconda3\\envs\\tf\\lib\\site-packages\\torch\\nn\\modules\\linear.py:114\u001b[0m, in \u001b[0;36mLinear.forward\u001b[1;34m(self, input)\u001b[0m\n\u001b[0;32m    113\u001b[0m \u001b[39mdef\u001b[39;00m \u001b[39mforward\u001b[39m(\u001b[39mself\u001b[39m, \u001b[39minput\u001b[39m: Tensor) \u001b[39m-\u001b[39m\u001b[39m>\u001b[39m Tensor:\n\u001b[1;32m--> 114\u001b[0m     \u001b[39mreturn\u001b[39;00m F\u001b[39m.\u001b[39;49mlinear(\u001b[39minput\u001b[39;49m, \u001b[39mself\u001b[39;49m\u001b[39m.\u001b[39;49mweight, \u001b[39mself\u001b[39;49m\u001b[39m.\u001b[39;49mbias)\n",
      "\u001b[1;31mRuntimeError\u001b[0m: mat1 and mat2 shapes cannot be multiplied (1x9408 and 448x1)"
     ]
    }
   ],
   "source": [
    "prob=cnn_module.forward(ray_tensor)"
   ]
  },
  {
   "cell_type": "code",
   "execution_count": null,
   "metadata": {},
   "outputs": [],
   "source": []
  },
  {
   "cell_type": "code",
   "execution_count": 209,
   "metadata": {},
   "outputs": [
    {
     "data": {
      "text/plain": [
       "torch.Size([1])"
      ]
     },
     "execution_count": 209,
     "metadata": {},
     "output_type": "execute_result"
    }
   ],
   "source": [
    "prob[0][0].shape"
   ]
  },
  {
   "cell_type": "code",
   "execution_count": 183,
   "metadata": {},
   "outputs": [
    {
     "data": {
      "text/plain": [
       "torch.Size([1, 2, 1])"
      ]
     },
     "execution_count": 183,
     "metadata": {},
     "output_type": "execute_result"
    }
   ],
   "source": [
    "prob.shape"
   ]
  },
  {
   "cell_type": "code",
   "execution_count": 142,
   "metadata": {},
   "outputs": [
    {
     "data": {
      "text/plain": [
       "1376256"
      ]
     },
     "execution_count": 142,
     "metadata": {},
     "output_type": "execute_result"
    }
   ],
   "source": [
    "5376*256"
   ]
  },
  {
   "cell_type": "code",
   "execution_count": null,
   "metadata": {},
   "outputs": [],
   "source": [
    "1376256"
   ]
  },
  {
   "cell_type": "code",
   "execution_count": 197,
   "metadata": {},
   "outputs": [
    {
     "data": {
      "text/plain": [
       "<matplotlib.image.AxesImage at 0x26f2aa38f40>"
      ]
     },
     "execution_count": 197,
     "metadata": {},
     "output_type": "execute_result"
    },
    {
     "data": {
      "image/png": "[encoded data removed]",
      "text/plain": [
       "<Figure size 640x480 with 1 Axes>"
      ]
     },
     "metadata": {},
     "output_type": "display_data"
    }
   ],
   "source": [
    "plt.imshow(base_env.RayCast()[1])"
   ]
  },
  {
   "cell_type": "code",
   "execution_count": 13,
   "metadata": {},
   "outputs": [],
   "source": [
    "from tensordict.nn.distributions import NormalParamExtractor\n"
   ]
  },
  {
   "cell_type": "code",
   "execution_count": 14,
   "metadata": {},
   "outputs": [],
   "source": [
    "num_actions = len(base_env.action_space)"
   ]
  },
  {
   "cell_type": "code",
   "execution_count": 15,
   "metadata": {},
   "outputs": [
    {
     "data": {
      "text/plain": [
       "15"
      ]
     },
     "execution_count": 15,
     "metadata": {},
     "output_type": "execute_result"
    }
   ],
   "source": [
    "num_actions"
   ]
  },
  {
   "cell_type": "code",
   "execution_count": 16,
   "metadata": {},
   "outputs": [],
   "source": [
    "device = torch.device(\"cuda\" if torch.cuda.is_available() else \"cpu\")"
   ]
  },
  {
   "cell_type": "code",
   "execution_count": 17,
   "metadata": {},
   "outputs": [],
   "source": [
    "\n",
    "\n",
    "actor_net = nn.Sequential(\n",
    "    nn.Linear(20, 256, bias=True),\n",
    "    nn.Tanh(),\n",
    "    nn.Linear(256, 128, bias=True),\n",
    "    nn.Tanh(),\n",
    "    nn.Linear(128, num_actions, bias=True),\n",
    "    NormalParamExtractor()\n",
    ").to(device)"
   ]
  },
  {
   "cell_type": "code",
   "execution_count": 18,
   "metadata": {},
   "outputs": [
    {
     "data": {
      "text/plain": [
       "Sequential(\n",
       "  (0): Linear(in_features=20, out_features=256, bias=True)\n",
       "  (1): Tanh()\n",
       "  (2): Linear(in_features=256, out_features=128, bias=True)\n",
       "  (3): Tanh()\n",
       "  (4): Linear(in_features=128, out_features=15, bias=True)\n",
       "  (5): NormalParamExtractor()\n",
       ")"
      ]
     },
     "execution_count": 18,
     "metadata": {},
     "output_type": "execute_result"
    }
   ],
   "source": [
    "actor_net"
   ]
  },
  {
   "cell_type": "code",
   "execution_count": 19,
   "metadata": {},
   "outputs": [],
   "source": [
    "from tensordict.nn import TensorDictModule\n"
   ]
  },
  {
   "cell_type": "code",
   "execution_count": 20,
   "metadata": {},
   "outputs": [],
   "source": [
    "in_keys = ['' ,'' ]\n",
    "policy_module = TensorDictModule(actor_net, in_keys=in_keys, out_keys=[\"loc\", \"scale\"])\n"
   ]
  },
  {
   "cell_type": "code",
   "execution_count": 21,
   "metadata": {},
   "outputs": [
    {
     "data": {
      "text/plain": [
       "TensorDictModule(\n",
       "    module=Sequential(\n",
       "      (0): Linear(in_features=20, out_features=256, bias=True)\n",
       "      (1): Tanh()\n",
       "      (2): Linear(in_features=256, out_features=128, bias=True)\n",
       "      (3): Tanh()\n",
       "      (4): Linear(in_features=128, out_features=15, bias=True)\n",
       "      (5): NormalParamExtractor()\n",
       "    ),\n",
       "    device=cuda:0,\n",
       "    in_keys=['', ''],\n",
       "    out_keys=['loc', 'scale'])"
      ]
     },
     "execution_count": 21,
     "metadata": {},
     "output_type": "execute_result"
    }
   ],
   "source": [
    "policy_module"
   ]
  },
  {
   "cell_type": "code",
   "execution_count": 22,
   "metadata": {},
   "outputs": [],
   "source": [
    "from torchrl.modules import ProbabilisticActor, TanhNormal, ValueOperator\n"
   ]
  },
  {
   "cell_type": "code",
   "execution_count": 23,
   "metadata": {},
   "outputs": [],
   "source": [
    "device = torch.device(\"cuda\" if torch.cuda.is_available() else \"cpu\")"
   ]
  },
  {
   "cell_type": "code",
   "execution_count": 23,
   "metadata": {},
   "outputs": [],
   "source": [
    "policy_module = ProbabilisticActor(\n",
    "    module=policy_module,\n",
    "    spec=base_env.action_space,\n",
    "    in_keys=['' ,'' ],\n",
    "    distribution_class=TanhNormal,\n",
    "    distribution_kwargs={\n",
    "        \"num_actions\": num_actions,\n",
    "    },\n",
    "    return_log_prob=True,\n",
    ")\n"
   ]
  },
  {
   "cell_type": "code",
   "execution_count": 24,
   "metadata": {},
   "outputs": [],
   "source": [
    "from torchrl.modules import ProbabilisticActor, TanhNormal, ValueOperator\n"
   ]
  },
  {
   "cell_type": "code",
   "execution_count": 25,
   "metadata": {},
   "outputs": [],
   "source": [
    "policy_module = ProbabilisticActor(\n",
    "    module=policy_module,\n",
    "    spec=base_env.action_space,\n",
    "    in_keys=['' ,'' ],\n",
    "    distribution_class=TanhNormal,\n",
    "    distribution_kwargs={\n",
    "        \"num_actions\": num_actions,\n",
    "    },\n",
    "    return_log_prob=True,\n",
    ")\n",
    "\n",
    "\n",
    "demo_params = {\n",
    "    \"module.param1\": base_env.RayCast()[0],\n",
    "    \"module.param2\": base_env.RayCast()[1],\n",
    "    # Add more parameter-value pairs as needed\n",
    "}\n",
    "\n",
    "\n",
    "# Define the minimum and maximum values for the action space\n",
    "action_space_min = torch.tensor([-1.0])\n",
    "action_space_max = torch.tensor([1.0])\n",
    "\n",
    "# Set the parameters for each module in the ModuleList\n",
    "for key, value in demo_params.items():\n",
    "    module_key, param_name = key.split(\".\", 1)\n",
    "    module = getattr(policy_module, module_key)\n",
    "    setattr(module, param_name, value)\n",
    "\n",
    "policy_module = ProbabilisticActor(\n",
    "    module=policy_module,\n",
    "    spec=base_env.action_space,\n",
    "    in_keys=[\"loc\", \"scale\"],\n",
    "    distribution_class=TanhNormal,\n",
    "    distribution_kwargs={\n",
    "        \"min\": action_space_min,\n",
    "        \"max\": action_space_max,\n",
    "    },\n",
    "    return_log_prob=True\n",
    ")\n"
   ]
  },
  {
   "cell_type": "code",
   "execution_count": 74,
   "metadata": {},
   "outputs": [
    {
     "ename": "RuntimeError",
     "evalue": "Could not infer dtype of set",
     "output_type": "error",
     "traceback": [
      "\u001b[1;31m---------------------------------------------------------------------------\u001b[0m",
      "\u001b[1;31mRuntimeError\u001b[0m                              Traceback (most recent call last)",
      "\u001b[1;32md:\\RL_UNITY\\full_car_envs\\my_experiment\\Assets\\subAssets\\Python\\environment\\Env5000\\TORCH_RL.ipynb Cell 34\u001b[0m in \u001b[0;36m<cell line: 2>\u001b[1;34m()\u001b[0m\n\u001b[0;32m      <a href='vscode-notebook-cell:/d%3A/RL_UNITY/full_car_envs/my_experiment/Assets/subAssets/Python/environment/Env5000/TORCH_RL.ipynb#Y130sZmlsZQ%3D%3D?line=0'>1</a>\u001b[0m \u001b[39m# Forward pass through the policy module\u001b[39;00m\n\u001b[0;32m      <a href='vscode-notebook-cell:/d%3A/RL_UNITY/full_car_envs/my_experiment/Assets/subAssets/Python/environment/Env5000/TORCH_RL.ipynb#Y130sZmlsZQ%3D%3D?line=1'>2</a>\u001b[0m \u001b[39mwith\u001b[39;00m torch\u001b[39m.\u001b[39mno_grad():\n\u001b[1;32m----> <a href='vscode-notebook-cell:/d%3A/RL_UNITY/full_car_envs/my_experiment/Assets/subAssets/Python/environment/Env5000/TORCH_RL.ipynb#Y130sZmlsZQ%3D%3D?line=2'>3</a>\u001b[0m     output \u001b[39m=\u001b[39m policy_module({raycast})\n\u001b[0;32m      <a href='vscode-notebook-cell:/d%3A/RL_UNITY/full_car_envs/my_experiment/Assets/subAssets/Python/environment/Env5000/TORCH_RL.ipynb#Y130sZmlsZQ%3D%3D?line=4'>5</a>\u001b[0m \u001b[39m# Extract the action from the output\u001b[39;00m\n\u001b[0;32m      <a href='vscode-notebook-cell:/d%3A/RL_UNITY/full_car_envs/my_experiment/Assets/subAssets/Python/environment/Env5000/TORCH_RL.ipynb#Y130sZmlsZQ%3D%3D?line=5'>6</a>\u001b[0m action \u001b[39m=\u001b[39m output[\u001b[39m'\u001b[39m\u001b[39maction\u001b[39m\u001b[39m'\u001b[39m]\u001b[39m.\u001b[39msqueeze()\u001b[39m.\u001b[39mitem()\n",
      "File \u001b[1;32mc:\\Users\\rifat\\miniconda3\\envs\\tf\\lib\\site-packages\\torch\\nn\\modules\\module.py:1501\u001b[0m, in \u001b[0;36mModule._call_impl\u001b[1;34m(self, *args, **kwargs)\u001b[0m\n\u001b[0;32m   1496\u001b[0m \u001b[39m# If we don't have any hooks, we want to skip the rest of the logic in\u001b[39;00m\n\u001b[0;32m   1497\u001b[0m \u001b[39m# this function, and just call forward.\u001b[39;00m\n\u001b[0;32m   1498\u001b[0m \u001b[39mif\u001b[39;00m \u001b[39mnot\u001b[39;00m (\u001b[39mself\u001b[39m\u001b[39m.\u001b[39m_backward_hooks \u001b[39mor\u001b[39;00m \u001b[39mself\u001b[39m\u001b[39m.\u001b[39m_backward_pre_hooks \u001b[39mor\u001b[39;00m \u001b[39mself\u001b[39m\u001b[39m.\u001b[39m_forward_hooks \u001b[39mor\u001b[39;00m \u001b[39mself\u001b[39m\u001b[39m.\u001b[39m_forward_pre_hooks\n\u001b[0;32m   1499\u001b[0m         \u001b[39mor\u001b[39;00m _global_backward_pre_hooks \u001b[39mor\u001b[39;00m _global_backward_hooks\n\u001b[0;32m   1500\u001b[0m         \u001b[39mor\u001b[39;00m _global_forward_hooks \u001b[39mor\u001b[39;00m _global_forward_pre_hooks):\n\u001b[1;32m-> 1501\u001b[0m     \u001b[39mreturn\u001b[39;00m forward_call(\u001b[39m*\u001b[39;49margs, \u001b[39m*\u001b[39;49m\u001b[39m*\u001b[39;49mkwargs)\n\u001b[0;32m   1502\u001b[0m \u001b[39m# Do not call functions when jit is used\u001b[39;00m\n\u001b[0;32m   1503\u001b[0m full_backward_hooks, non_full_backward_hooks \u001b[39m=\u001b[39m [], []\n",
      "File \u001b[1;32mc:\\Users\\rifat\\miniconda3\\envs\\tf\\lib\\site-packages\\tensordict\\nn\\functional_modules.py:431\u001b[0m, in \u001b[0;36m_make_decorator.<locals>.new_fun\u001b[1;34m(self, *args, **kwargs)\u001b[0m\n\u001b[0;32m    429\u001b[0m \u001b[39melse\u001b[39;00m:\n\u001b[0;32m    430\u001b[0m     \u001b[39mtry\u001b[39;00m:\n\u001b[1;32m--> 431\u001b[0m         \u001b[39mreturn\u001b[39;00m \u001b[39mgetattr\u001b[39;49m(\u001b[39mtype\u001b[39;49m(\u001b[39mself\u001b[39;49m), fun_name)(\u001b[39mself\u001b[39;49m, \u001b[39m*\u001b[39;49margs, \u001b[39m*\u001b[39;49m\u001b[39m*\u001b[39;49mkwargs)\n\u001b[0;32m    432\u001b[0m     \u001b[39mexcept\u001b[39;00m \u001b[39mTypeError\u001b[39;00m \u001b[39mas\u001b[39;00m err:\n\u001b[0;32m    433\u001b[0m         pattern \u001b[39m=\u001b[39m \u001b[39mr\u001b[39m\u001b[39m\"\u001b[39m\u001b[39m.*takes \u001b[39m\u001b[39m\\\u001b[39m\u001b[39md+ positional arguments but \u001b[39m\u001b[39m\\\u001b[39m\u001b[39md+ were given|got multiple values for argument\u001b[39m\u001b[39m\"\u001b[39m\n",
      "File \u001b[1;32mc:\\Users\\rifat\\miniconda3\\envs\\tf\\lib\\site-packages\\tensordict\\nn\\common.py:266\u001b[0m, in \u001b[0;36mdispatch.__call__.<locals>.wrapper\u001b[1;34m(_self, *args, **kwargs)\u001b[0m\n\u001b[0;32m    261\u001b[0m         \u001b[39mexcept\u001b[39;00m \u001b[39mKeyError\u001b[39;00m:\n\u001b[0;32m    262\u001b[0m             \u001b[39mraise\u001b[39;00m \u001b[39mKeyError\u001b[39;00m(\n\u001b[0;32m    263\u001b[0m                 \u001b[39mf\u001b[39m\u001b[39m\"\u001b[39m\u001b[39mThe key \u001b[39m\u001b[39m{\u001b[39;00mexpected_key\u001b[39m}\u001b[39;00m\u001b[39m wasn\u001b[39m\u001b[39m'\u001b[39m\u001b[39mt found in the keyword arguments \u001b[39m\u001b[39m\"\u001b[39m\n\u001b[0;32m    264\u001b[0m                 \u001b[39mf\u001b[39m\u001b[39m\"\u001b[39m\u001b[39mbut is expected to execute that function.\u001b[39m\u001b[39m\"\u001b[39m\n\u001b[0;32m    265\u001b[0m             )\n\u001b[1;32m--> 266\u001b[0m tensordict \u001b[39m=\u001b[39m make_tensordict(\n\u001b[0;32m    267\u001b[0m     tensordict_values,\n\u001b[0;32m    268\u001b[0m     batch_size\u001b[39m=\u001b[39;49mtorch\u001b[39m.\u001b[39;49mSize([]) \u001b[39mif\u001b[39;49;00m \u001b[39mnot\u001b[39;49;00m \u001b[39mself\u001b[39;49m\u001b[39m.\u001b[39;49mauto_batch_size \u001b[39melse\u001b[39;49;00m \u001b[39mNone\u001b[39;49;00m,\n\u001b[0;32m    269\u001b[0m )\n\u001b[0;32m    270\u001b[0m out \u001b[39m=\u001b[39m func(_self, tensordict, \u001b[39m*\u001b[39margs, \u001b[39m*\u001b[39m\u001b[39m*\u001b[39mkwargs)\n\u001b[0;32m    271\u001b[0m out \u001b[39m=\u001b[39m \u001b[39mtuple\u001b[39m(out[key] \u001b[39mfor\u001b[39;00m key \u001b[39min\u001b[39;00m dest)\n",
      "File \u001b[1;32mc:\\Users\\rifat\\miniconda3\\envs\\tf\\lib\\site-packages\\tensordict\\tensordict.py:7150\u001b[0m, in \u001b[0;36mmake_tensordict\u001b[1;34m(input_dict, batch_size, device, **kwargs)\u001b[0m\n\u001b[0;32m   7148\u001b[0m \u001b[39mif\u001b[39;00m input_dict \u001b[39mis\u001b[39;00m \u001b[39mnot\u001b[39;00m \u001b[39mNone\u001b[39;00m:\n\u001b[0;32m   7149\u001b[0m     kwargs\u001b[39m.\u001b[39mupdate(input_dict)\n\u001b[1;32m-> 7150\u001b[0m \u001b[39mreturn\u001b[39;00m TensorDict\u001b[39m.\u001b[39;49mfrom_dict(kwargs, batch_size\u001b[39m=\u001b[39;49mbatch_size, device\u001b[39m=\u001b[39;49mdevice)\n",
      "File \u001b[1;32mc:\\Users\\rifat\\miniconda3\\envs\\tf\\lib\\site-packages\\tensordict\\tensordict.py:3464\u001b[0m, in \u001b[0;36mTensorDict.from_dict\u001b[1;34m(cls, input_dict, batch_size, device)\u001b[0m\n\u001b[0;32m   3462\u001b[0m         input_dict[key] \u001b[39m=\u001b[39m TensorDict(value, batch_size_set, device\u001b[39m=\u001b[39mdevice)\n\u001b[0;32m   3463\u001b[0m \u001b[39m# _run_checks=False breaks because a tensor may have the same batch-size as the tensordict\u001b[39;00m\n\u001b[1;32m-> 3464\u001b[0m out \u001b[39m=\u001b[39m \u001b[39mcls\u001b[39;49m(\n\u001b[0;32m   3465\u001b[0m     input_dict,\n\u001b[0;32m   3466\u001b[0m     batch_size\u001b[39m=\u001b[39;49mbatch_size_set,\n\u001b[0;32m   3467\u001b[0m     device\u001b[39m=\u001b[39;49mdevice,\n\u001b[0;32m   3468\u001b[0m )\n\u001b[0;32m   3469\u001b[0m \u001b[39mif\u001b[39;00m batch_size \u001b[39mis\u001b[39;00m \u001b[39mNone\u001b[39;00m:\n\u001b[0;32m   3470\u001b[0m     _set_max_batch_size(out)\n",
      "File \u001b[1;32mc:\\Users\\rifat\\miniconda3\\envs\\tf\\lib\\site-packages\\tensordict\\tensordict.py:3399\u001b[0m, in \u001b[0;36mTensorDict.__init__\u001b[1;34m(self, source, batch_size, device, names, _run_checks, _is_shared, _is_memmap)\u001b[0m\n\u001b[0;32m   3397\u001b[0m \u001b[39mif\u001b[39;00m source \u001b[39mis\u001b[39;00m \u001b[39mnot\u001b[39;00m \u001b[39mNone\u001b[39;00m:\n\u001b[0;32m   3398\u001b[0m     \u001b[39mfor\u001b[39;00m key, value \u001b[39min\u001b[39;00m source\u001b[39m.\u001b[39mitems():\n\u001b[1;32m-> 3399\u001b[0m         \u001b[39mself\u001b[39;49m\u001b[39m.\u001b[39;49mset(key, value)\n",
      "File \u001b[1;32mc:\\Users\\rifat\\miniconda3\\envs\\tf\\lib\\site-packages\\tensordict\\tensordict.py:3689\u001b[0m, in \u001b[0;36mTensorDict.set\u001b[1;34m(self, key, value, inplace)\u001b[0m\n\u001b[0;32m   3686\u001b[0m \u001b[39mif\u001b[39;00m \u001b[39mself\u001b[39m\u001b[39m.\u001b[39mis_locked \u001b[39mand\u001b[39;00m \u001b[39mnot\u001b[39;00m inplace:\n\u001b[0;32m   3687\u001b[0m     \u001b[39mraise\u001b[39;00m \u001b[39mRuntimeError\u001b[39;00m(TensorDictBase\u001b[39m.\u001b[39mLOCK_ERROR)\n\u001b[1;32m-> 3689\u001b[0m value \u001b[39m=\u001b[39m \u001b[39mself\u001b[39;49m\u001b[39m.\u001b[39;49m_validate_value(value)\n\u001b[0;32m   3690\u001b[0m \u001b[39m# not calling set_ to avoid re-validate key\u001b[39;00m\n\u001b[0;32m   3691\u001b[0m \u001b[39mreturn\u001b[39;00m \u001b[39mself\u001b[39m\u001b[39m.\u001b[39m_set(key, value, inplace\u001b[39m=\u001b[39minplace)\n",
      "File \u001b[1;32mc:\\Users\\rifat\\miniconda3\\envs\\tf\\lib\\site-packages\\tensordict\\tensordict.py:1538\u001b[0m, in \u001b[0;36mTensorDictBase._validate_value\u001b[1;34m(self, value, check_shape)\u001b[0m\n\u001b[0;32m   1536\u001b[0m \u001b[39melse\u001b[39;00m:\n\u001b[0;32m   1537\u001b[0m     \u001b[39mtry\u001b[39;00m:\n\u001b[1;32m-> 1538\u001b[0m         value \u001b[39m=\u001b[39m \u001b[39mself\u001b[39;49m\u001b[39m.\u001b[39;49m_convert_to_tensor(value)\n\u001b[0;32m   1539\u001b[0m     \u001b[39mexcept\u001b[39;00m \u001b[39mValueError\u001b[39;00m:\n\u001b[0;32m   1540\u001b[0m         \u001b[39mraise\u001b[39;00m \u001b[39mValueError\u001b[39;00m(\n\u001b[0;32m   1541\u001b[0m             \u001b[39mf\u001b[39m\u001b[39m\"\u001b[39m\u001b[39mwe only supports tensorclasses, tensordicts,\u001b[39m\u001b[39m\"\u001b[39m\n\u001b[0;32m   1542\u001b[0m             \u001b[39mf\u001b[39m\u001b[39m\"\u001b[39m\u001b[39m numeric scalars and tensors. Got \u001b[39m\u001b[39m{\u001b[39;00m\u001b[39mtype\u001b[39m(value)\u001b[39m}\u001b[39;00m\u001b[39m\"\u001b[39m\n\u001b[0;32m   1543\u001b[0m         )\n",
      "File \u001b[1;32mc:\\Users\\rifat\\miniconda3\\envs\\tf\\lib\\site-packages\\tensordict\\tensordict.py:1508\u001b[0m, in \u001b[0;36mTensorDictBase._convert_to_tensor\u001b[1;34m(self, array)\u001b[0m\n\u001b[0;32m   1506\u001b[0m \u001b[39mif\u001b[39;00m \u001b[39misinstance\u001b[39m(array, np\u001b[39m.\u001b[39mbool_):\n\u001b[0;32m   1507\u001b[0m     array \u001b[39m=\u001b[39m array\u001b[39m.\u001b[39mitem()\n\u001b[1;32m-> 1508\u001b[0m \u001b[39mreturn\u001b[39;00m torch\u001b[39m.\u001b[39;49mas_tensor(array, device\u001b[39m=\u001b[39;49m\u001b[39mself\u001b[39;49m\u001b[39m.\u001b[39;49mdevice)\n",
      "\u001b[1;31mRuntimeError\u001b[0m: Could not infer dtype of set"
     ]
    }
   ],
   "source": [
    "# Forward pass through the policy module\n",
    "with torch.no_grad():\n",
    "    output = policy_module({raycast})\n",
    "\n",
    "# Extract the action from the output\n",
    "action = output['action'].squeeze().item()\n"
   ]
  },
  {
   "attachments": {},
   "cell_type": "markdown",
   "metadata": {},
   "source": []
  },
  {
   "cell_type": "code",
   "execution_count": 42,
   "metadata": {},
   "outputs": [
    {
     "ename": "AttributeError",
     "evalue": "'ModuleList' object has no attribute 'param_name'",
     "output_type": "error",
     "traceback": [
      "\u001b[1;31m---------------------------------------------------------------------------\u001b[0m",
      "\u001b[1;31mAttributeError\u001b[0m                            Traceback (most recent call last)",
      "File \u001b[1;32mc:\\Users\\rifat\\miniconda3\\envs\\tf\\lib\\site-packages\\tensordict\\nn\\common.py:837\u001b[0m, in \u001b[0;36mTensorDictModule.__getattr__\u001b[1;34m(self, name)\u001b[0m\n\u001b[0;32m    836\u001b[0m \u001b[39mtry\u001b[39;00m:\n\u001b[1;32m--> 837\u001b[0m     \u001b[39mreturn\u001b[39;00m \u001b[39msuper\u001b[39;49m()\u001b[39m.\u001b[39;49m\u001b[39m__getattr__\u001b[39;49m(name)\n\u001b[0;32m    838\u001b[0m \u001b[39mexcept\u001b[39;00m \u001b[39mAttributeError\u001b[39;00m \u001b[39mas\u001b[39;00m err1:\n",
      "File \u001b[1;32mc:\\Users\\rifat\\miniconda3\\envs\\tf\\lib\\site-packages\\torch\\nn\\modules\\module.py:1614\u001b[0m, in \u001b[0;36mModule.__getattr__\u001b[1;34m(self, name)\u001b[0m\n\u001b[0;32m   1613\u001b[0m         \u001b[39mreturn\u001b[39;00m modules[name]\n\u001b[1;32m-> 1614\u001b[0m \u001b[39mraise\u001b[39;00m \u001b[39mAttributeError\u001b[39;00m(\u001b[39m\"\u001b[39m\u001b[39m'\u001b[39m\u001b[39m{}\u001b[39;00m\u001b[39m'\u001b[39m\u001b[39m object has no attribute \u001b[39m\u001b[39m'\u001b[39m\u001b[39m{}\u001b[39;00m\u001b[39m'\u001b[39m\u001b[39m\"\u001b[39m\u001b[39m.\u001b[39mformat(\n\u001b[0;32m   1615\u001b[0m     \u001b[39mtype\u001b[39m(\u001b[39mself\u001b[39m)\u001b[39m.\u001b[39m\u001b[39m__name__\u001b[39m, name))\n",
      "\u001b[1;31mAttributeError\u001b[0m: 'ProbabilisticActor' object has no attribute 'param_name'",
      "\nThe above exception was the direct cause of the following exception:\n",
      "\u001b[1;31mAttributeError\u001b[0m                            Traceback (most recent call last)",
      "\u001b[1;32md:\\RL_UNITY\\full_car_envs\\my_experiment\\Assets\\subAssets\\Python\\environment\\Env5000\\TORCH_RL.ipynb Cell 27\u001b[0m in \u001b[0;36m<cell line: 4>\u001b[1;34m()\u001b[0m\n\u001b[0;32m      <a href='vscode-notebook-cell:/d%3A/RL_UNITY/full_car_envs/my_experiment/Assets/subAssets/Python/environment/Env5000/TORCH_RL.ipynb#Y114sZmlsZQ%3D%3D?line=1'>2</a>\u001b[0m x \u001b[39m=\u001b[39m torch\u001b[39m.\u001b[39mrandn(\u001b[39m2\u001b[39m, \u001b[39m20\u001b[39m, \u001b[39m70\u001b[39m)\u001b[39m.\u001b[39mto(device)\n\u001b[0;32m      <a href='vscode-notebook-cell:/d%3A/RL_UNITY/full_car_envs/my_experiment/Assets/subAssets/Python/environment/Env5000/TORCH_RL.ipynb#Y114sZmlsZQ%3D%3D?line=2'>3</a>\u001b[0m params \u001b[39m=\u001b[39m {\u001b[39m'\u001b[39m\u001b[39mparam_name\u001b[39m\u001b[39m'\u001b[39m: demo_params}  \u001b[39m# Replace with actual parameters\u001b[39;00m\n\u001b[1;32m----> <a href='vscode-notebook-cell:/d%3A/RL_UNITY/full_car_envs/my_experiment/Assets/subAssets/Python/environment/Env5000/TORCH_RL.ipynb#Y114sZmlsZQ%3D%3D?line=3'>4</a>\u001b[0m policy_module(x, params\u001b[39m=\u001b[39;49mparams)\n",
      "File \u001b[1;32mc:\\Users\\rifat\\miniconda3\\envs\\tf\\lib\\site-packages\\torch\\nn\\modules\\module.py:1501\u001b[0m, in \u001b[0;36mModule._call_impl\u001b[1;34m(self, *args, **kwargs)\u001b[0m\n\u001b[0;32m   1496\u001b[0m \u001b[39m# If we don't have any hooks, we want to skip the rest of the logic in\u001b[39;00m\n\u001b[0;32m   1497\u001b[0m \u001b[39m# this function, and just call forward.\u001b[39;00m\n\u001b[0;32m   1498\u001b[0m \u001b[39mif\u001b[39;00m \u001b[39mnot\u001b[39;00m (\u001b[39mself\u001b[39m\u001b[39m.\u001b[39m_backward_hooks \u001b[39mor\u001b[39;00m \u001b[39mself\u001b[39m\u001b[39m.\u001b[39m_backward_pre_hooks \u001b[39mor\u001b[39;00m \u001b[39mself\u001b[39m\u001b[39m.\u001b[39m_forward_hooks \u001b[39mor\u001b[39;00m \u001b[39mself\u001b[39m\u001b[39m.\u001b[39m_forward_pre_hooks\n\u001b[0;32m   1499\u001b[0m         \u001b[39mor\u001b[39;00m _global_backward_pre_hooks \u001b[39mor\u001b[39;00m _global_backward_hooks\n\u001b[0;32m   1500\u001b[0m         \u001b[39mor\u001b[39;00m _global_forward_hooks \u001b[39mor\u001b[39;00m _global_forward_pre_hooks):\n\u001b[1;32m-> 1501\u001b[0m     \u001b[39mreturn\u001b[39;00m forward_call(\u001b[39m*\u001b[39;49margs, \u001b[39m*\u001b[39;49m\u001b[39m*\u001b[39;49mkwargs)\n\u001b[0;32m   1502\u001b[0m \u001b[39m# Do not call functions when jit is used\u001b[39;00m\n\u001b[0;32m   1503\u001b[0m full_backward_hooks, non_full_backward_hooks \u001b[39m=\u001b[39m [], []\n",
      "File \u001b[1;32mc:\\Users\\rifat\\miniconda3\\envs\\tf\\lib\\site-packages\\tensordict\\nn\\functional_modules.py:415\u001b[0m, in \u001b[0;36m_make_decorator.<locals>.new_fun\u001b[1;34m(self, *args, **kwargs)\u001b[0m\n\u001b[0;32m    413\u001b[0m     args \u001b[39m=\u001b[39m args[:\u001b[39m-\u001b[39m\u001b[39m1\u001b[39m]\n\u001b[0;32m    414\u001b[0m     \u001b[39m# get the previous params, and tell the submodules not to look for params anymore\u001b[39;00m\n\u001b[1;32m--> 415\u001b[0m old_params \u001b[39m=\u001b[39m _assign_params(\n\u001b[0;32m    416\u001b[0m     \u001b[39mself\u001b[39;49m, params, make_stateless\u001b[39m=\u001b[39;49m\u001b[39mFalse\u001b[39;49;00m, return_old_tensordict\u001b[39m=\u001b[39;49m\u001b[39mTrue\u001b[39;49;00m\n\u001b[0;32m    417\u001b[0m )\n\u001b[0;32m    418\u001b[0m \u001b[39mtry\u001b[39;00m:\n\u001b[0;32m    419\u001b[0m     out \u001b[39m=\u001b[39m \u001b[39mgetattr\u001b[39m(\u001b[39mtype\u001b[39m(\u001b[39mself\u001b[39m), fun_name)(\u001b[39mself\u001b[39m, \u001b[39m*\u001b[39margs, \u001b[39m*\u001b[39m\u001b[39m*\u001b[39mkwargs)\n",
      "File \u001b[1;32mc:\\Users\\rifat\\miniconda3\\envs\\tf\\lib\\site-packages\\tensordict\\nn\\functional_modules.py:492\u001b[0m, in \u001b[0;36m_assign_params\u001b[1;34m(module, params, make_stateless, return_old_tensordict)\u001b[0m\n\u001b[0;32m    485\u001b[0m \u001b[39mdef\u001b[39;00m \u001b[39m_assign_params\u001b[39m(\n\u001b[0;32m    486\u001b[0m     module: nn\u001b[39m.\u001b[39mModule,\n\u001b[0;32m    487\u001b[0m     params: TensorDict,\n\u001b[0;32m    488\u001b[0m     make_stateless: \u001b[39mbool\u001b[39m,\n\u001b[0;32m    489\u001b[0m     return_old_tensordict: \u001b[39mbool\u001b[39m,\n\u001b[0;32m    490\u001b[0m ) \u001b[39m-\u001b[39m\u001b[39m>\u001b[39m TensorDict \u001b[39m|\u001b[39m \u001b[39mNone\u001b[39;00m:\n\u001b[0;32m    491\u001b[0m     \u001b[39mif\u001b[39;00m params \u001b[39mis\u001b[39;00m \u001b[39mnot\u001b[39;00m \u001b[39mNone\u001b[39;00m:\n\u001b[1;32m--> 492\u001b[0m         \u001b[39mreturn\u001b[39;00m _swap_state(module, params, make_stateless, return_old_tensordict)\n\u001b[0;32m    494\u001b[0m     \u001b[39mreturn\u001b[39;00m \u001b[39mNone\u001b[39;00m\n",
      "File \u001b[1;32mc:\\Users\\rifat\\miniconda3\\envs\\tf\\lib\\site-packages\\tensordict\\nn\\functional_modules.py:314\u001b[0m, in \u001b[0;36m_swap_state\u001b[1;34m(model, tensordict, is_stateless, return_old_tensordict, old_tensordict)\u001b[0m\n\u001b[0;32m    312\u001b[0m is_param \u001b[39m=\u001b[39m key \u001b[39min\u001b[39;00m model\u001b[39m.\u001b[39m\u001b[39m__dict__\u001b[39m\u001b[39m.\u001b[39mget(\u001b[39m\"\u001b[39m\u001b[39m_parameters\u001b[39m\u001b[39m\"\u001b[39m)\n\u001b[0;32m    313\u001b[0m \u001b[39mif\u001b[39;00m return_old_tensordict:\n\u001b[1;32m--> 314\u001b[0m     old_attr \u001b[39m=\u001b[39m \u001b[39mgetattr\u001b[39;49m(model, key)\n\u001b[0;32m    315\u001b[0m     \u001b[39mif\u001b[39;00m old_attr \u001b[39mis\u001b[39;00m \u001b[39mNone\u001b[39;00m:\n\u001b[0;32m    316\u001b[0m         old_attr \u001b[39m=\u001b[39m torch\u001b[39m.\u001b[39mzeros(\u001b[39m*\u001b[39mvalue\u001b[39m.\u001b[39mshape, \u001b[39m0\u001b[39m)\n",
      "File \u001b[1;32mc:\\Users\\rifat\\miniconda3\\envs\\tf\\lib\\site-packages\\tensordict\\nn\\common.py:842\u001b[0m, in \u001b[0;36mTensorDictModule.__getattr__\u001b[1;34m(self, name)\u001b[0m\n\u001b[0;32m    840\u001b[0m     \u001b[39mreturn\u001b[39;00m \u001b[39mgetattr\u001b[39m(\u001b[39msuper\u001b[39m()\u001b[39m.\u001b[39m\u001b[39m__getattr__\u001b[39m(\u001b[39m\"\u001b[39m\u001b[39mmodule\u001b[39m\u001b[39m\"\u001b[39m), name)\n\u001b[0;32m    841\u001b[0m \u001b[39mexcept\u001b[39;00m \u001b[39mException\u001b[39;00m \u001b[39mas\u001b[39;00m err2:\n\u001b[1;32m--> 842\u001b[0m     \u001b[39mraise\u001b[39;00m err2 \u001b[39mfrom\u001b[39;00m \u001b[39merr1\u001b[39;00m\n",
      "File \u001b[1;32mc:\\Users\\rifat\\miniconda3\\envs\\tf\\lib\\site-packages\\tensordict\\nn\\common.py:840\u001b[0m, in \u001b[0;36mTensorDictModule.__getattr__\u001b[1;34m(self, name)\u001b[0m\n\u001b[0;32m    838\u001b[0m \u001b[39mexcept\u001b[39;00m \u001b[39mAttributeError\u001b[39;00m \u001b[39mas\u001b[39;00m err1:\n\u001b[0;32m    839\u001b[0m     \u001b[39mtry\u001b[39;00m:\n\u001b[1;32m--> 840\u001b[0m         \u001b[39mreturn\u001b[39;00m \u001b[39mgetattr\u001b[39;49m(\u001b[39msuper\u001b[39;49m()\u001b[39m.\u001b[39;49m\u001b[39m__getattr__\u001b[39;49m(\u001b[39m\"\u001b[39;49m\u001b[39mmodule\u001b[39;49m\u001b[39m\"\u001b[39;49m), name)\n\u001b[0;32m    841\u001b[0m     \u001b[39mexcept\u001b[39;00m \u001b[39mException\u001b[39;00m \u001b[39mas\u001b[39;00m err2:\n\u001b[0;32m    842\u001b[0m         \u001b[39mraise\u001b[39;00m err2 \u001b[39mfrom\u001b[39;00m \u001b[39merr1\u001b[39;00m\n",
      "File \u001b[1;32mc:\\Users\\rifat\\miniconda3\\envs\\tf\\lib\\site-packages\\torch\\nn\\modules\\module.py:1614\u001b[0m, in \u001b[0;36mModule.__getattr__\u001b[1;34m(self, name)\u001b[0m\n\u001b[0;32m   1612\u001b[0m     \u001b[39mif\u001b[39;00m name \u001b[39min\u001b[39;00m modules:\n\u001b[0;32m   1613\u001b[0m         \u001b[39mreturn\u001b[39;00m modules[name]\n\u001b[1;32m-> 1614\u001b[0m \u001b[39mraise\u001b[39;00m \u001b[39mAttributeError\u001b[39;00m(\u001b[39m\"\u001b[39m\u001b[39m'\u001b[39m\u001b[39m{}\u001b[39;00m\u001b[39m'\u001b[39m\u001b[39m object has no attribute \u001b[39m\u001b[39m'\u001b[39m\u001b[39m{}\u001b[39;00m\u001b[39m'\u001b[39m\u001b[39m\"\u001b[39m\u001b[39m.\u001b[39mformat(\n\u001b[0;32m   1615\u001b[0m     \u001b[39mtype\u001b[39m(\u001b[39mself\u001b[39m)\u001b[39m.\u001b[39m\u001b[39m__name__\u001b[39m, name))\n",
      "\u001b[1;31mAttributeError\u001b[0m: 'ModuleList' object has no attribute 'param_name'"
     ]
    }
   ],
   "source": [
    "# Test the policy module\n",
    "x = torch.randn(2, 20, 70).to(device)\n",
    "params = {'param_name': demo_params}  # Replace with actual parameters\n",
    "policy_module(x, params=params)\n"
   ]
  },
  {
   "cell_type": "code",
   "execution_count": 39,
   "metadata": {},
   "outputs": [],
   "source": [
    "x = torch.randn(2, 20, 70).to(device)\n",
    "params = {'param_name': demo_params}  # Replace with actual parameters"
   ]
  },
  {
   "cell_type": "code",
   "execution_count": 40,
   "metadata": {},
   "outputs": [
    {
     "data": {
      "text/plain": [
       "{'param_name': {'module.param1': array([[0., 0., 0., ..., 0., 0., 0.],\n",
       "         [0., 0., 0., ..., 0., 0., 0.],\n",
       "         [0., 0., 0., ..., 0., 0., 0.],\n",
       "         ...,\n",
       "         [0., 0., 0., ..., 0., 0., 0.],\n",
       "         [0., 0., 0., ..., 0., 0., 0.],\n",
       "         [0., 0., 0., ..., 0., 0., 0.]], dtype=float32),\n",
       "  'module.param2': array([[0., 0., 0., ..., 0., 0., 0.],\n",
       "         [0., 0., 0., ..., 0., 0., 0.],\n",
       "         [0., 0., 0., ..., 0., 0., 0.],\n",
       "         ...,\n",
       "         [0., 0., 0., ..., 0., 0., 0.],\n",
       "         [0., 0., 0., ..., 0., 0., 0.],\n",
       "         [0., 0., 0., ..., 0., 0., 0.]], dtype=float32)}}"
      ]
     },
     "execution_count": 40,
     "metadata": {},
     "output_type": "execute_result"
    }
   ],
   "source": [
    "params"
   ]
  },
  {
   "cell_type": "code",
   "execution_count": 41,
   "metadata": {},
   "outputs": [
    {
     "ename": "AttributeError",
     "evalue": "'ModuleList' object has no attribute 'param_name'",
     "output_type": "error",
     "traceback": [
      "\u001b[1;31m---------------------------------------------------------------------------\u001b[0m",
      "\u001b[1;31mAttributeError\u001b[0m                            Traceback (most recent call last)",
      "File \u001b[1;32mc:\\Users\\rifat\\miniconda3\\envs\\tf\\lib\\site-packages\\tensordict\\nn\\common.py:837\u001b[0m, in \u001b[0;36mTensorDictModule.__getattr__\u001b[1;34m(self, name)\u001b[0m\n\u001b[0;32m    836\u001b[0m \u001b[39mtry\u001b[39;00m:\n\u001b[1;32m--> 837\u001b[0m     \u001b[39mreturn\u001b[39;00m \u001b[39msuper\u001b[39;49m()\u001b[39m.\u001b[39;49m\u001b[39m__getattr__\u001b[39;49m(name)\n\u001b[0;32m    838\u001b[0m \u001b[39mexcept\u001b[39;00m \u001b[39mAttributeError\u001b[39;00m \u001b[39mas\u001b[39;00m err1:\n",
      "File \u001b[1;32mc:\\Users\\rifat\\miniconda3\\envs\\tf\\lib\\site-packages\\torch\\nn\\modules\\module.py:1614\u001b[0m, in \u001b[0;36mModule.__getattr__\u001b[1;34m(self, name)\u001b[0m\n\u001b[0;32m   1613\u001b[0m         \u001b[39mreturn\u001b[39;00m modules[name]\n\u001b[1;32m-> 1614\u001b[0m \u001b[39mraise\u001b[39;00m \u001b[39mAttributeError\u001b[39;00m(\u001b[39m\"\u001b[39m\u001b[39m'\u001b[39m\u001b[39m{}\u001b[39;00m\u001b[39m'\u001b[39m\u001b[39m object has no attribute \u001b[39m\u001b[39m'\u001b[39m\u001b[39m{}\u001b[39;00m\u001b[39m'\u001b[39m\u001b[39m\"\u001b[39m\u001b[39m.\u001b[39mformat(\n\u001b[0;32m   1615\u001b[0m     \u001b[39mtype\u001b[39m(\u001b[39mself\u001b[39m)\u001b[39m.\u001b[39m\u001b[39m__name__\u001b[39m, name))\n",
      "\u001b[1;31mAttributeError\u001b[0m: 'ProbabilisticActor' object has no attribute 'param_name'",
      "\nThe above exception was the direct cause of the following exception:\n",
      "\u001b[1;31mAttributeError\u001b[0m                            Traceback (most recent call last)",
      "\u001b[1;32md:\\RL_UNITY\\full_car_envs\\my_experiment\\Assets\\subAssets\\Python\\environment\\Env5000\\TORCH_RL.ipynb Cell 29\u001b[0m in \u001b[0;36m<cell line: 3>\u001b[1;34m()\u001b[0m\n\u001b[0;32m      <a href='vscode-notebook-cell:/d%3A/RL_UNITY/full_car_envs/my_experiment/Assets/subAssets/Python/environment/Env5000/TORCH_RL.ipynb#Y111sZmlsZQ%3D%3D?line=0'>1</a>\u001b[0m \u001b[39m# Test the policy module\u001b[39;00m\n\u001b[1;32m----> <a href='vscode-notebook-cell:/d%3A/RL_UNITY/full_car_envs/my_experiment/Assets/subAssets/Python/environment/Env5000/TORCH_RL.ipynb#Y111sZmlsZQ%3D%3D?line=2'>3</a>\u001b[0m policy_module(x, params\u001b[39m=\u001b[39;49mparams)\n",
      "File \u001b[1;32mc:\\Users\\rifat\\miniconda3\\envs\\tf\\lib\\site-packages\\torch\\nn\\modules\\module.py:1501\u001b[0m, in \u001b[0;36mModule._call_impl\u001b[1;34m(self, *args, **kwargs)\u001b[0m\n\u001b[0;32m   1496\u001b[0m \u001b[39m# If we don't have any hooks, we want to skip the rest of the logic in\u001b[39;00m\n\u001b[0;32m   1497\u001b[0m \u001b[39m# this function, and just call forward.\u001b[39;00m\n\u001b[0;32m   1498\u001b[0m \u001b[39mif\u001b[39;00m \u001b[39mnot\u001b[39;00m (\u001b[39mself\u001b[39m\u001b[39m.\u001b[39m_backward_hooks \u001b[39mor\u001b[39;00m \u001b[39mself\u001b[39m\u001b[39m.\u001b[39m_backward_pre_hooks \u001b[39mor\u001b[39;00m \u001b[39mself\u001b[39m\u001b[39m.\u001b[39m_forward_hooks \u001b[39mor\u001b[39;00m \u001b[39mself\u001b[39m\u001b[39m.\u001b[39m_forward_pre_hooks\n\u001b[0;32m   1499\u001b[0m         \u001b[39mor\u001b[39;00m _global_backward_pre_hooks \u001b[39mor\u001b[39;00m _global_backward_hooks\n\u001b[0;32m   1500\u001b[0m         \u001b[39mor\u001b[39;00m _global_forward_hooks \u001b[39mor\u001b[39;00m _global_forward_pre_hooks):\n\u001b[1;32m-> 1501\u001b[0m     \u001b[39mreturn\u001b[39;00m forward_call(\u001b[39m*\u001b[39;49margs, \u001b[39m*\u001b[39;49m\u001b[39m*\u001b[39;49mkwargs)\n\u001b[0;32m   1502\u001b[0m \u001b[39m# Do not call functions when jit is used\u001b[39;00m\n\u001b[0;32m   1503\u001b[0m full_backward_hooks, non_full_backward_hooks \u001b[39m=\u001b[39m [], []\n",
      "File \u001b[1;32mc:\\Users\\rifat\\miniconda3\\envs\\tf\\lib\\site-packages\\tensordict\\nn\\functional_modules.py:415\u001b[0m, in \u001b[0;36m_make_decorator.<locals>.new_fun\u001b[1;34m(self, *args, **kwargs)\u001b[0m\n\u001b[0;32m    413\u001b[0m     args \u001b[39m=\u001b[39m args[:\u001b[39m-\u001b[39m\u001b[39m1\u001b[39m]\n\u001b[0;32m    414\u001b[0m     \u001b[39m# get the previous params, and tell the submodules not to look for params anymore\u001b[39;00m\n\u001b[1;32m--> 415\u001b[0m old_params \u001b[39m=\u001b[39m _assign_params(\n\u001b[0;32m    416\u001b[0m     \u001b[39mself\u001b[39;49m, params, make_stateless\u001b[39m=\u001b[39;49m\u001b[39mFalse\u001b[39;49;00m, return_old_tensordict\u001b[39m=\u001b[39;49m\u001b[39mTrue\u001b[39;49;00m\n\u001b[0;32m    417\u001b[0m )\n\u001b[0;32m    418\u001b[0m \u001b[39mtry\u001b[39;00m:\n\u001b[0;32m    419\u001b[0m     out \u001b[39m=\u001b[39m \u001b[39mgetattr\u001b[39m(\u001b[39mtype\u001b[39m(\u001b[39mself\u001b[39m), fun_name)(\u001b[39mself\u001b[39m, \u001b[39m*\u001b[39margs, \u001b[39m*\u001b[39m\u001b[39m*\u001b[39mkwargs)\n",
      "File \u001b[1;32mc:\\Users\\rifat\\miniconda3\\envs\\tf\\lib\\site-packages\\tensordict\\nn\\functional_modules.py:492\u001b[0m, in \u001b[0;36m_assign_params\u001b[1;34m(module, params, make_stateless, return_old_tensordict)\u001b[0m\n\u001b[0;32m    485\u001b[0m \u001b[39mdef\u001b[39;00m \u001b[39m_assign_params\u001b[39m(\n\u001b[0;32m    486\u001b[0m     module: nn\u001b[39m.\u001b[39mModule,\n\u001b[0;32m    487\u001b[0m     params: TensorDict,\n\u001b[0;32m    488\u001b[0m     make_stateless: \u001b[39mbool\u001b[39m,\n\u001b[0;32m    489\u001b[0m     return_old_tensordict: \u001b[39mbool\u001b[39m,\n\u001b[0;32m    490\u001b[0m ) \u001b[39m-\u001b[39m\u001b[39m>\u001b[39m TensorDict \u001b[39m|\u001b[39m \u001b[39mNone\u001b[39;00m:\n\u001b[0;32m    491\u001b[0m     \u001b[39mif\u001b[39;00m params \u001b[39mis\u001b[39;00m \u001b[39mnot\u001b[39;00m \u001b[39mNone\u001b[39;00m:\n\u001b[1;32m--> 492\u001b[0m         \u001b[39mreturn\u001b[39;00m _swap_state(module, params, make_stateless, return_old_tensordict)\n\u001b[0;32m    494\u001b[0m     \u001b[39mreturn\u001b[39;00m \u001b[39mNone\u001b[39;00m\n",
      "File \u001b[1;32mc:\\Users\\rifat\\miniconda3\\envs\\tf\\lib\\site-packages\\tensordict\\nn\\functional_modules.py:314\u001b[0m, in \u001b[0;36m_swap_state\u001b[1;34m(model, tensordict, is_stateless, return_old_tensordict, old_tensordict)\u001b[0m\n\u001b[0;32m    312\u001b[0m is_param \u001b[39m=\u001b[39m key \u001b[39min\u001b[39;00m model\u001b[39m.\u001b[39m\u001b[39m__dict__\u001b[39m\u001b[39m.\u001b[39mget(\u001b[39m\"\u001b[39m\u001b[39m_parameters\u001b[39m\u001b[39m\"\u001b[39m)\n\u001b[0;32m    313\u001b[0m \u001b[39mif\u001b[39;00m return_old_tensordict:\n\u001b[1;32m--> 314\u001b[0m     old_attr \u001b[39m=\u001b[39m \u001b[39mgetattr\u001b[39;49m(model, key)\n\u001b[0;32m    315\u001b[0m     \u001b[39mif\u001b[39;00m old_attr \u001b[39mis\u001b[39;00m \u001b[39mNone\u001b[39;00m:\n\u001b[0;32m    316\u001b[0m         old_attr \u001b[39m=\u001b[39m torch\u001b[39m.\u001b[39mzeros(\u001b[39m*\u001b[39mvalue\u001b[39m.\u001b[39mshape, \u001b[39m0\u001b[39m)\n",
      "File \u001b[1;32mc:\\Users\\rifat\\miniconda3\\envs\\tf\\lib\\site-packages\\tensordict\\nn\\common.py:842\u001b[0m, in \u001b[0;36mTensorDictModule.__getattr__\u001b[1;34m(self, name)\u001b[0m\n\u001b[0;32m    840\u001b[0m     \u001b[39mreturn\u001b[39;00m \u001b[39mgetattr\u001b[39m(\u001b[39msuper\u001b[39m()\u001b[39m.\u001b[39m\u001b[39m__getattr__\u001b[39m(\u001b[39m\"\u001b[39m\u001b[39mmodule\u001b[39m\u001b[39m\"\u001b[39m), name)\n\u001b[0;32m    841\u001b[0m \u001b[39mexcept\u001b[39;00m \u001b[39mException\u001b[39;00m \u001b[39mas\u001b[39;00m err2:\n\u001b[1;32m--> 842\u001b[0m     \u001b[39mraise\u001b[39;00m err2 \u001b[39mfrom\u001b[39;00m \u001b[39merr1\u001b[39;00m\n",
      "File \u001b[1;32mc:\\Users\\rifat\\miniconda3\\envs\\tf\\lib\\site-packages\\tensordict\\nn\\common.py:840\u001b[0m, in \u001b[0;36mTensorDictModule.__getattr__\u001b[1;34m(self, name)\u001b[0m\n\u001b[0;32m    838\u001b[0m \u001b[39mexcept\u001b[39;00m \u001b[39mAttributeError\u001b[39;00m \u001b[39mas\u001b[39;00m err1:\n\u001b[0;32m    839\u001b[0m     \u001b[39mtry\u001b[39;00m:\n\u001b[1;32m--> 840\u001b[0m         \u001b[39mreturn\u001b[39;00m \u001b[39mgetattr\u001b[39;49m(\u001b[39msuper\u001b[39;49m()\u001b[39m.\u001b[39;49m\u001b[39m__getattr__\u001b[39;49m(\u001b[39m\"\u001b[39;49m\u001b[39mmodule\u001b[39;49m\u001b[39m\"\u001b[39;49m), name)\n\u001b[0;32m    841\u001b[0m     \u001b[39mexcept\u001b[39;00m \u001b[39mException\u001b[39;00m \u001b[39mas\u001b[39;00m err2:\n\u001b[0;32m    842\u001b[0m         \u001b[39mraise\u001b[39;00m err2 \u001b[39mfrom\u001b[39;00m \u001b[39merr1\u001b[39;00m\n",
      "File \u001b[1;32mc:\\Users\\rifat\\miniconda3\\envs\\tf\\lib\\site-packages\\torch\\nn\\modules\\module.py:1614\u001b[0m, in \u001b[0;36mModule.__getattr__\u001b[1;34m(self, name)\u001b[0m\n\u001b[0;32m   1612\u001b[0m     \u001b[39mif\u001b[39;00m name \u001b[39min\u001b[39;00m modules:\n\u001b[0;32m   1613\u001b[0m         \u001b[39mreturn\u001b[39;00m modules[name]\n\u001b[1;32m-> 1614\u001b[0m \u001b[39mraise\u001b[39;00m \u001b[39mAttributeError\u001b[39;00m(\u001b[39m\"\u001b[39m\u001b[39m'\u001b[39m\u001b[39m{}\u001b[39;00m\u001b[39m'\u001b[39m\u001b[39m object has no attribute \u001b[39m\u001b[39m'\u001b[39m\u001b[39m{}\u001b[39;00m\u001b[39m'\u001b[39m\u001b[39m\"\u001b[39m\u001b[39m.\u001b[39mformat(\n\u001b[0;32m   1615\u001b[0m     \u001b[39mtype\u001b[39m(\u001b[39mself\u001b[39m)\u001b[39m.\u001b[39m\u001b[39m__name__\u001b[39m, name))\n",
      "\u001b[1;31mAttributeError\u001b[0m: 'ModuleList' object has no attribute 'param_name'"
     ]
    }
   ],
   "source": [
    "# Test the policy module\n",
    "\n",
    "policy_module(x, params=params)\n"
   ]
  },
  {
   "cell_type": "code",
   "execution_count": 38,
   "metadata": {},
   "outputs": [
    {
     "ename": "TypeError",
     "evalue": "It seems you tried to provide the parameters as an argument to the module when the module was not stateless. If this is the case, this error should vanish by providing the parameters using the ``module(..., params=params)`` syntax.",
     "output_type": "error",
     "traceback": [
      "\u001b[1;31m---------------------------------------------------------------------------\u001b[0m",
      "\u001b[1;31mTypeError\u001b[0m                                 Traceback (most recent call last)",
      "File \u001b[1;32mc:\\Users\\rifat\\miniconda3\\envs\\tf\\lib\\site-packages\\tensordict\\nn\\functional_modules.py:431\u001b[0m, in \u001b[0;36m_make_decorator.<locals>.new_fun\u001b[1;34m(self, *args, **kwargs)\u001b[0m\n\u001b[0;32m    430\u001b[0m \u001b[39mtry\u001b[39;00m:\n\u001b[1;32m--> 431\u001b[0m     \u001b[39mreturn\u001b[39;00m \u001b[39mgetattr\u001b[39;49m(\u001b[39mtype\u001b[39;49m(\u001b[39mself\u001b[39;49m), fun_name)(\u001b[39mself\u001b[39;49m, \u001b[39m*\u001b[39;49margs, \u001b[39m*\u001b[39;49m\u001b[39m*\u001b[39;49mkwargs)\n\u001b[0;32m    432\u001b[0m \u001b[39mexcept\u001b[39;00m \u001b[39mTypeError\u001b[39;00m \u001b[39mas\u001b[39;00m err:\n",
      "File \u001b[1;32mc:\\Users\\rifat\\miniconda3\\envs\\tf\\lib\\site-packages\\tensordict\\nn\\common.py:273\u001b[0m, in \u001b[0;36mdispatch.__call__.<locals>.wrapper\u001b[1;34m(_self, *args, **kwargs)\u001b[0m\n\u001b[0;32m    272\u001b[0m     \u001b[39mreturn\u001b[39;00m out[\u001b[39m0\u001b[39m] \u001b[39mif\u001b[39;00m \u001b[39mlen\u001b[39m(out) \u001b[39m==\u001b[39m \u001b[39m1\u001b[39m \u001b[39melse\u001b[39;00m out\n\u001b[1;32m--> 273\u001b[0m \u001b[39mreturn\u001b[39;00m func(_self, tensordict, \u001b[39m*\u001b[39;49margs, \u001b[39m*\u001b[39;49m\u001b[39m*\u001b[39;49mkwargs)\n",
      "File \u001b[1;32mc:\\Users\\rifat\\miniconda3\\envs\\tf\\lib\\site-packages\\tensordict\\_contextlib.py:126\u001b[0m, in \u001b[0;36mcontext_decorator.<locals>.decorate_context\u001b[1;34m(*args, **kwargs)\u001b[0m\n\u001b[0;32m    125\u001b[0m \u001b[39mwith\u001b[39;00m ctx_factory():\n\u001b[1;32m--> 126\u001b[0m     \u001b[39mreturn\u001b[39;00m func(\u001b[39m*\u001b[39;49margs, \u001b[39m*\u001b[39;49m\u001b[39m*\u001b[39;49mkwargs)\n",
      "File \u001b[1;32mc:\\Users\\rifat\\miniconda3\\envs\\tf\\lib\\site-packages\\tensordict\\nn\\utils.py:253\u001b[0m, in \u001b[0;36mset_skip_existing.__call__.<locals>.wrapper\u001b[1;34m(_self, tensordict, *args, **kwargs)\u001b[0m\n\u001b[0;32m    252\u001b[0m     \u001b[39mreturn\u001b[39;00m tensordict\n\u001b[1;32m--> 253\u001b[0m \u001b[39mreturn\u001b[39;00m func(_self, tensordict, \u001b[39m*\u001b[39;49margs, \u001b[39m*\u001b[39;49m\u001b[39m*\u001b[39;49mkwargs)\n",
      "File \u001b[1;32mc:\\Users\\rifat\\miniconda3\\envs\\tf\\lib\\site-packages\\tensordict\\nn\\common.py:810\u001b[0m, in \u001b[0;36mTensorDictModule.forward\u001b[1;34m(self, tensordict, tensordict_out, *args, **kwargs)\u001b[0m\n\u001b[0;32m    809\u001b[0m     \u001b[39melse\u001b[39;00m:\n\u001b[1;32m--> 810\u001b[0m         \u001b[39mraise\u001b[39;00m err\n\u001b[0;32m    811\u001b[0m \u001b[39mif\u001b[39;00m \u001b[39misinstance\u001b[39m(tensors, (\u001b[39mdict\u001b[39m, TensorDictBase)):\n",
      "File \u001b[1;32mc:\\Users\\rifat\\miniconda3\\envs\\tf\\lib\\site-packages\\tensordict\\nn\\common.py:798\u001b[0m, in \u001b[0;36mTensorDictModule.forward\u001b[1;34m(self, tensordict, tensordict_out, *args, **kwargs)\u001b[0m\n\u001b[0;32m    797\u001b[0m \u001b[39mtry\u001b[39;00m:\n\u001b[1;32m--> 798\u001b[0m     tensors \u001b[39m=\u001b[39m \u001b[39mself\u001b[39;49m\u001b[39m.\u001b[39;49m_call_module(tensors, \u001b[39m*\u001b[39;49m\u001b[39m*\u001b[39;49mkwargs)\n\u001b[0;32m    799\u001b[0m \u001b[39mexcept\u001b[39;00m \u001b[39mException\u001b[39;00m \u001b[39mas\u001b[39;00m err:\n",
      "File \u001b[1;32mc:\\Users\\rifat\\miniconda3\\envs\\tf\\lib\\site-packages\\tensordict\\nn\\common.py:766\u001b[0m, in \u001b[0;36mTensorDictModule._call_module\u001b[1;34m(self, tensors, **kwargs)\u001b[0m\n\u001b[0;32m    763\u001b[0m \u001b[39mdef\u001b[39;00m \u001b[39m_call_module\u001b[39m(\n\u001b[0;32m    764\u001b[0m     \u001b[39mself\u001b[39m, tensors: Sequence[Tensor], \u001b[39m*\u001b[39m\u001b[39m*\u001b[39mkwargs: Any\n\u001b[0;32m    765\u001b[0m ) \u001b[39m-\u001b[39m\u001b[39m>\u001b[39m Tensor \u001b[39m|\u001b[39m Sequence[Tensor]:\n\u001b[1;32m--> 766\u001b[0m     out \u001b[39m=\u001b[39m \u001b[39mself\u001b[39;49m\u001b[39m.\u001b[39;49mmodule(\u001b[39m*\u001b[39;49mtensors, \u001b[39m*\u001b[39;49m\u001b[39m*\u001b[39;49mkwargs)\n\u001b[0;32m    767\u001b[0m     \u001b[39mreturn\u001b[39;00m out\n",
      "File \u001b[1;32mc:\\Users\\rifat\\miniconda3\\envs\\tf\\lib\\site-packages\\torch\\nn\\modules\\module.py:1501\u001b[0m, in \u001b[0;36mModule._call_impl\u001b[1;34m(self, *args, **kwargs)\u001b[0m\n\u001b[0;32m   1498\u001b[0m \u001b[39mif\u001b[39;00m \u001b[39mnot\u001b[39;00m (\u001b[39mself\u001b[39m\u001b[39m.\u001b[39m_backward_hooks \u001b[39mor\u001b[39;00m \u001b[39mself\u001b[39m\u001b[39m.\u001b[39m_backward_pre_hooks \u001b[39mor\u001b[39;00m \u001b[39mself\u001b[39m\u001b[39m.\u001b[39m_forward_hooks \u001b[39mor\u001b[39;00m \u001b[39mself\u001b[39m\u001b[39m.\u001b[39m_forward_pre_hooks\n\u001b[0;32m   1499\u001b[0m         \u001b[39mor\u001b[39;00m _global_backward_pre_hooks \u001b[39mor\u001b[39;00m _global_backward_hooks\n\u001b[0;32m   1500\u001b[0m         \u001b[39mor\u001b[39;00m _global_forward_hooks \u001b[39mor\u001b[39;00m _global_forward_pre_hooks):\n\u001b[1;32m-> 1501\u001b[0m     \u001b[39mreturn\u001b[39;00m forward_call(\u001b[39m*\u001b[39;49margs, \u001b[39m*\u001b[39;49m\u001b[39m*\u001b[39;49mkwargs)\n\u001b[0;32m   1502\u001b[0m \u001b[39m# Do not call functions when jit is used\u001b[39;00m\n",
      "File \u001b[1;32mc:\\Users\\rifat\\miniconda3\\envs\\tf\\lib\\site-packages\\tensordict\\nn\\functional_modules.py:443\u001b[0m, in \u001b[0;36m_make_decorator.<locals>.new_fun\u001b[1;34m(self, *args, **kwargs)\u001b[0m\n\u001b[0;32m    442\u001b[0m \u001b[39melse\u001b[39;00m:\n\u001b[1;32m--> 443\u001b[0m     \u001b[39mraise\u001b[39;00m err\n",
      "File \u001b[1;32mc:\\Users\\rifat\\miniconda3\\envs\\tf\\lib\\site-packages\\tensordict\\nn\\functional_modules.py:431\u001b[0m, in \u001b[0;36m_make_decorator.<locals>.new_fun\u001b[1;34m(self, *args, **kwargs)\u001b[0m\n\u001b[0;32m    430\u001b[0m \u001b[39mtry\u001b[39;00m:\n\u001b[1;32m--> 431\u001b[0m     \u001b[39mreturn\u001b[39;00m \u001b[39mgetattr\u001b[39;49m(\u001b[39mtype\u001b[39;49m(\u001b[39mself\u001b[39;49m), fun_name)(\u001b[39mself\u001b[39;49m, \u001b[39m*\u001b[39;49margs, \u001b[39m*\u001b[39;49m\u001b[39m*\u001b[39;49mkwargs)\n\u001b[0;32m    432\u001b[0m \u001b[39mexcept\u001b[39;00m \u001b[39mTypeError\u001b[39;00m \u001b[39mas\u001b[39;00m err:\n",
      "\u001b[1;31mTypeError\u001b[0m: forward() takes 2 positional arguments but 3 were given",
      "\nThe above exception was the direct cause of the following exception:\n",
      "\u001b[1;31mTypeError\u001b[0m                                 Traceback (most recent call last)",
      "\u001b[1;32md:\\RL_UNITY\\full_car_envs\\my_experiment\\Assets\\subAssets\\Python\\environment\\Env5000\\TORCH_RL.ipynb Cell 27\u001b[0m in \u001b[0;36m<cell line: 3>\u001b[1;34m()\u001b[0m\n\u001b[0;32m      <a href='vscode-notebook-cell:/d%3A/RL_UNITY/full_car_envs/my_experiment/Assets/subAssets/Python/environment/Env5000/TORCH_RL.ipynb#Y110sZmlsZQ%3D%3D?line=0'>1</a>\u001b[0m \u001b[39m#test the policy module\u001b[39;00m\n\u001b[0;32m      <a href='vscode-notebook-cell:/d%3A/RL_UNITY/full_car_envs/my_experiment/Assets/subAssets/Python/environment/Env5000/TORCH_RL.ipynb#Y110sZmlsZQ%3D%3D?line=1'>2</a>\u001b[0m x \u001b[39m=\u001b[39m torch\u001b[39m.\u001b[39mrandn(\u001b[39m20\u001b[39m,\u001b[39m70\u001b[39m)\u001b[39m.\u001b[39mto(device)\n\u001b[1;32m----> <a href='vscode-notebook-cell:/d%3A/RL_UNITY/full_car_envs/my_experiment/Assets/subAssets/Python/environment/Env5000/TORCH_RL.ipynb#Y110sZmlsZQ%3D%3D?line=2'>3</a>\u001b[0m policy_module(x)\n",
      "File \u001b[1;32mc:\\Users\\rifat\\miniconda3\\envs\\tf\\lib\\site-packages\\torch\\nn\\modules\\module.py:1501\u001b[0m, in \u001b[0;36mModule._call_impl\u001b[1;34m(self, *args, **kwargs)\u001b[0m\n\u001b[0;32m   1496\u001b[0m \u001b[39m# If we don't have any hooks, we want to skip the rest of the logic in\u001b[39;00m\n\u001b[0;32m   1497\u001b[0m \u001b[39m# this function, and just call forward.\u001b[39;00m\n\u001b[0;32m   1498\u001b[0m \u001b[39mif\u001b[39;00m \u001b[39mnot\u001b[39;00m (\u001b[39mself\u001b[39m\u001b[39m.\u001b[39m_backward_hooks \u001b[39mor\u001b[39;00m \u001b[39mself\u001b[39m\u001b[39m.\u001b[39m_backward_pre_hooks \u001b[39mor\u001b[39;00m \u001b[39mself\u001b[39m\u001b[39m.\u001b[39m_forward_hooks \u001b[39mor\u001b[39;00m \u001b[39mself\u001b[39m\u001b[39m.\u001b[39m_forward_pre_hooks\n\u001b[0;32m   1499\u001b[0m         \u001b[39mor\u001b[39;00m _global_backward_pre_hooks \u001b[39mor\u001b[39;00m _global_backward_hooks\n\u001b[0;32m   1500\u001b[0m         \u001b[39mor\u001b[39;00m _global_forward_hooks \u001b[39mor\u001b[39;00m _global_forward_pre_hooks):\n\u001b[1;32m-> 1501\u001b[0m     \u001b[39mreturn\u001b[39;00m forward_call(\u001b[39m*\u001b[39;49margs, \u001b[39m*\u001b[39;49m\u001b[39m*\u001b[39;49mkwargs)\n\u001b[0;32m   1502\u001b[0m \u001b[39m# Do not call functions when jit is used\u001b[39;00m\n\u001b[0;32m   1503\u001b[0m full_backward_hooks, non_full_backward_hooks \u001b[39m=\u001b[39m [], []\n",
      "File \u001b[1;32mc:\\Users\\rifat\\miniconda3\\envs\\tf\\lib\\site-packages\\tensordict\\nn\\functional_modules.py:443\u001b[0m, in \u001b[0;36m_make_decorator.<locals>.new_fun\u001b[1;34m(self, *args, **kwargs)\u001b[0m\n\u001b[0;32m    437\u001b[0m     \u001b[39mraise\u001b[39;00m \u001b[39mTypeError\u001b[39;00m(\n\u001b[0;32m    438\u001b[0m         \u001b[39m\"\u001b[39m\u001b[39mIt seems you tried to provide the parameters as an argument to the module when the module was not stateless. \u001b[39m\u001b[39m\"\u001b[39m\n\u001b[0;32m    439\u001b[0m         \u001b[39m\"\u001b[39m\u001b[39mIf this is the case, this error should vanish by providing the parameters using the ``module(..., params=params)`` \u001b[39m\u001b[39m\"\u001b[39m\n\u001b[0;32m    440\u001b[0m         \u001b[39m\"\u001b[39m\u001b[39msyntax.\u001b[39m\u001b[39m\"\u001b[39m\n\u001b[0;32m    441\u001b[0m     ) \u001b[39mfrom\u001b[39;00m \u001b[39merr\u001b[39;00m\n\u001b[0;32m    442\u001b[0m \u001b[39melse\u001b[39;00m:\n\u001b[1;32m--> 443\u001b[0m     \u001b[39mraise\u001b[39;00m err\n",
      "File \u001b[1;32mc:\\Users\\rifat\\miniconda3\\envs\\tf\\lib\\site-packages\\tensordict\\nn\\functional_modules.py:431\u001b[0m, in \u001b[0;36m_make_decorator.<locals>.new_fun\u001b[1;34m(self, *args, **kwargs)\u001b[0m\n\u001b[0;32m    429\u001b[0m \u001b[39melse\u001b[39;00m:\n\u001b[0;32m    430\u001b[0m     \u001b[39mtry\u001b[39;00m:\n\u001b[1;32m--> 431\u001b[0m         \u001b[39mreturn\u001b[39;00m \u001b[39mgetattr\u001b[39;49m(\u001b[39mtype\u001b[39;49m(\u001b[39mself\u001b[39;49m), fun_name)(\u001b[39mself\u001b[39;49m, \u001b[39m*\u001b[39;49margs, \u001b[39m*\u001b[39;49m\u001b[39m*\u001b[39;49mkwargs)\n\u001b[0;32m    432\u001b[0m     \u001b[39mexcept\u001b[39;00m \u001b[39mTypeError\u001b[39;00m \u001b[39mas\u001b[39;00m err:\n\u001b[0;32m    433\u001b[0m         pattern \u001b[39m=\u001b[39m \u001b[39mr\u001b[39m\u001b[39m\"\u001b[39m\u001b[39m.*takes \u001b[39m\u001b[39m\\\u001b[39m\u001b[39md+ positional arguments but \u001b[39m\u001b[39m\\\u001b[39m\u001b[39md+ were given|got multiple values for argument\u001b[39m\u001b[39m\"\u001b[39m\n",
      "File \u001b[1;32mc:\\Users\\rifat\\miniconda3\\envs\\tf\\lib\\site-packages\\tensordict\\nn\\common.py:270\u001b[0m, in \u001b[0;36mdispatch.__call__.<locals>.wrapper\u001b[1;34m(_self, *args, **kwargs)\u001b[0m\n\u001b[0;32m    262\u001b[0m             \u001b[39mraise\u001b[39;00m \u001b[39mKeyError\u001b[39;00m(\n\u001b[0;32m    263\u001b[0m                 \u001b[39mf\u001b[39m\u001b[39m\"\u001b[39m\u001b[39mThe key \u001b[39m\u001b[39m{\u001b[39;00mexpected_key\u001b[39m}\u001b[39;00m\u001b[39m wasn\u001b[39m\u001b[39m'\u001b[39m\u001b[39mt found in the keyword arguments \u001b[39m\u001b[39m\"\u001b[39m\n\u001b[0;32m    264\u001b[0m                 \u001b[39mf\u001b[39m\u001b[39m\"\u001b[39m\u001b[39mbut is expected to execute that function.\u001b[39m\u001b[39m\"\u001b[39m\n\u001b[0;32m    265\u001b[0m             )\n\u001b[0;32m    266\u001b[0m tensordict \u001b[39m=\u001b[39m make_tensordict(\n\u001b[0;32m    267\u001b[0m     tensordict_values,\n\u001b[0;32m    268\u001b[0m     batch_size\u001b[39m=\u001b[39mtorch\u001b[39m.\u001b[39mSize([]) \u001b[39mif\u001b[39;00m \u001b[39mnot\u001b[39;00m \u001b[39mself\u001b[39m\u001b[39m.\u001b[39mauto_batch_size \u001b[39melse\u001b[39;00m \u001b[39mNone\u001b[39;00m,\n\u001b[0;32m    269\u001b[0m )\n\u001b[1;32m--> 270\u001b[0m out \u001b[39m=\u001b[39m func(_self, tensordict, \u001b[39m*\u001b[39;49margs, \u001b[39m*\u001b[39;49m\u001b[39m*\u001b[39;49mkwargs)\n\u001b[0;32m    271\u001b[0m out \u001b[39m=\u001b[39m \u001b[39mtuple\u001b[39m(out[key] \u001b[39mfor\u001b[39;00m key \u001b[39min\u001b[39;00m dest)\n\u001b[0;32m    272\u001b[0m \u001b[39mreturn\u001b[39;00m out[\u001b[39m0\u001b[39m] \u001b[39mif\u001b[39;00m \u001b[39mlen\u001b[39m(out) \u001b[39m==\u001b[39m \u001b[39m1\u001b[39m \u001b[39melse\u001b[39;00m out\n",
      "File \u001b[1;32mc:\\Users\\rifat\\miniconda3\\envs\\tf\\lib\\site-packages\\tensordict\\_contextlib.py:126\u001b[0m, in \u001b[0;36mcontext_decorator.<locals>.decorate_context\u001b[1;34m(*args, **kwargs)\u001b[0m\n\u001b[0;32m    123\u001b[0m \u001b[39m@functools\u001b[39m\u001b[39m.\u001b[39mwraps(func)\n\u001b[0;32m    124\u001b[0m \u001b[39mdef\u001b[39;00m \u001b[39mdecorate_context\u001b[39m(\u001b[39m*\u001b[39margs, \u001b[39m*\u001b[39m\u001b[39m*\u001b[39mkwargs):\n\u001b[0;32m    125\u001b[0m     \u001b[39mwith\u001b[39;00m ctx_factory():\n\u001b[1;32m--> 126\u001b[0m         \u001b[39mreturn\u001b[39;00m func(\u001b[39m*\u001b[39;49margs, \u001b[39m*\u001b[39;49m\u001b[39m*\u001b[39;49mkwargs)\n",
      "File \u001b[1;32mc:\\Users\\rifat\\miniconda3\\envs\\tf\\lib\\site-packages\\tensordict\\nn\\utils.py:253\u001b[0m, in \u001b[0;36mset_skip_existing.__call__.<locals>.wrapper\u001b[1;34m(_self, tensordict, *args, **kwargs)\u001b[0m\n\u001b[0;32m    247\u001b[0m \u001b[39mif\u001b[39;00m (\n\u001b[0;32m    248\u001b[0m     skip_existing()\n\u001b[0;32m    249\u001b[0m     \u001b[39mand\u001b[39;00m \u001b[39mall\u001b[39m(key \u001b[39min\u001b[39;00m tensordict\u001b[39m.\u001b[39mkeys(\u001b[39mTrue\u001b[39;00m) \u001b[39mfor\u001b[39;00m key \u001b[39min\u001b[39;00m out_keys)\n\u001b[0;32m    250\u001b[0m     \u001b[39mand\u001b[39;00m \u001b[39mnot\u001b[39;00m \u001b[39many\u001b[39m(key \u001b[39min\u001b[39;00m out_keys \u001b[39mfor\u001b[39;00m key \u001b[39min\u001b[39;00m in_keys)\n\u001b[0;32m    251\u001b[0m ):\n\u001b[0;32m    252\u001b[0m     \u001b[39mreturn\u001b[39;00m tensordict\n\u001b[1;32m--> 253\u001b[0m \u001b[39mreturn\u001b[39;00m func(_self, tensordict, \u001b[39m*\u001b[39;49margs, \u001b[39m*\u001b[39;49m\u001b[39m*\u001b[39;49mkwargs)\n",
      "File \u001b[1;32mc:\\Users\\rifat\\miniconda3\\envs\\tf\\lib\\site-packages\\tensordict\\nn\\probabilistic.py:511\u001b[0m, in \u001b[0;36mProbabilisticTensorDictSequential.forward\u001b[1;34m(self, tensordict, tensordict_out, **kwargs)\u001b[0m\n\u001b[0;32m    503\u001b[0m \u001b[39m@dispatch\u001b[39m(auto_batch_size\u001b[39m=\u001b[39m\u001b[39mFalse\u001b[39;00m)\n\u001b[0;32m    504\u001b[0m \u001b[39m@set_skip_existing\u001b[39m(\u001b[39mNone\u001b[39;00m)\n\u001b[0;32m    505\u001b[0m \u001b[39mdef\u001b[39;00m \u001b[39mforward\u001b[39m(\n\u001b[1;32m   (...)\u001b[0m\n\u001b[0;32m    509\u001b[0m     \u001b[39m*\u001b[39m\u001b[39m*\u001b[39mkwargs,\n\u001b[0;32m    510\u001b[0m ) \u001b[39m-\u001b[39m\u001b[39m>\u001b[39m TensorDictBase:\n\u001b[1;32m--> 511\u001b[0m     tensordict_out \u001b[39m=\u001b[39m \u001b[39mself\u001b[39;49m\u001b[39m.\u001b[39;49mget_dist_params(tensordict, tensordict_out, \u001b[39m*\u001b[39;49m\u001b[39m*\u001b[39;49mkwargs)\n\u001b[0;32m    512\u001b[0m     \u001b[39mreturn\u001b[39;00m \u001b[39mself\u001b[39m\u001b[39m.\u001b[39mmodule[\u001b[39m-\u001b[39m\u001b[39m1\u001b[39m](tensordict_out, _requires_sample\u001b[39m=\u001b[39m\u001b[39mself\u001b[39m\u001b[39m.\u001b[39m_requires_sample)\n",
      "File \u001b[1;32mc:\\Users\\rifat\\miniconda3\\envs\\tf\\lib\\site-packages\\tensordict\\nn\\probabilistic.py:487\u001b[0m, in \u001b[0;36mProbabilisticTensorDictSequential.get_dist_params\u001b[1;34m(self, tensordict, tensordict_out, **kwargs)\u001b[0m\n\u001b[0;32m    485\u001b[0m     \u001b[39mtype\u001b[39m \u001b[39m=\u001b[39m \u001b[39mself\u001b[39m\u001b[39m.\u001b[39mmodule[\u001b[39m-\u001b[39m\u001b[39m1\u001b[39m]\u001b[39m.\u001b[39mdefault_interaction_type\n\u001b[0;32m    486\u001b[0m \u001b[39mwith\u001b[39;00m set_interaction_type(\u001b[39mtype\u001b[39m):\n\u001b[1;32m--> 487\u001b[0m     \u001b[39mreturn\u001b[39;00m tds(tensordict, tensordict_out, \u001b[39m*\u001b[39;49m\u001b[39m*\u001b[39;49mkwargs)\n",
      "File \u001b[1;32mc:\\Users\\rifat\\miniconda3\\envs\\tf\\lib\\site-packages\\torch\\nn\\modules\\module.py:1501\u001b[0m, in \u001b[0;36mModule._call_impl\u001b[1;34m(self, *args, **kwargs)\u001b[0m\n\u001b[0;32m   1496\u001b[0m \u001b[39m# If we don't have any hooks, we want to skip the rest of the logic in\u001b[39;00m\n\u001b[0;32m   1497\u001b[0m \u001b[39m# this function, and just call forward.\u001b[39;00m\n\u001b[0;32m   1498\u001b[0m \u001b[39mif\u001b[39;00m \u001b[39mnot\u001b[39;00m (\u001b[39mself\u001b[39m\u001b[39m.\u001b[39m_backward_hooks \u001b[39mor\u001b[39;00m \u001b[39mself\u001b[39m\u001b[39m.\u001b[39m_backward_pre_hooks \u001b[39mor\u001b[39;00m \u001b[39mself\u001b[39m\u001b[39m.\u001b[39m_forward_hooks \u001b[39mor\u001b[39;00m \u001b[39mself\u001b[39m\u001b[39m.\u001b[39m_forward_pre_hooks\n\u001b[0;32m   1499\u001b[0m         \u001b[39mor\u001b[39;00m _global_backward_pre_hooks \u001b[39mor\u001b[39;00m _global_backward_hooks\n\u001b[0;32m   1500\u001b[0m         \u001b[39mor\u001b[39;00m _global_forward_hooks \u001b[39mor\u001b[39;00m _global_forward_pre_hooks):\n\u001b[1;32m-> 1501\u001b[0m     \u001b[39mreturn\u001b[39;00m forward_call(\u001b[39m*\u001b[39;49margs, \u001b[39m*\u001b[39;49m\u001b[39m*\u001b[39;49mkwargs)\n\u001b[0;32m   1502\u001b[0m \u001b[39m# Do not call functions when jit is used\u001b[39;00m\n\u001b[0;32m   1503\u001b[0m full_backward_hooks, non_full_backward_hooks \u001b[39m=\u001b[39m [], []\n",
      "File \u001b[1;32mc:\\Users\\rifat\\miniconda3\\envs\\tf\\lib\\site-packages\\tensordict\\nn\\functional_modules.py:443\u001b[0m, in \u001b[0;36m_make_decorator.<locals>.new_fun\u001b[1;34m(self, *args, **kwargs)\u001b[0m\n\u001b[0;32m    437\u001b[0m     \u001b[39mraise\u001b[39;00m \u001b[39mTypeError\u001b[39;00m(\n\u001b[0;32m    438\u001b[0m         \u001b[39m\"\u001b[39m\u001b[39mIt seems you tried to provide the parameters as an argument to the module when the module was not stateless. \u001b[39m\u001b[39m\"\u001b[39m\n\u001b[0;32m    439\u001b[0m         \u001b[39m\"\u001b[39m\u001b[39mIf this is the case, this error should vanish by providing the parameters using the ``module(..., params=params)`` \u001b[39m\u001b[39m\"\u001b[39m\n\u001b[0;32m    440\u001b[0m         \u001b[39m\"\u001b[39m\u001b[39msyntax.\u001b[39m\u001b[39m\"\u001b[39m\n\u001b[0;32m    441\u001b[0m     ) \u001b[39mfrom\u001b[39;00m \u001b[39merr\u001b[39;00m\n\u001b[0;32m    442\u001b[0m \u001b[39melse\u001b[39;00m:\n\u001b[1;32m--> 443\u001b[0m     \u001b[39mraise\u001b[39;00m err\n",
      "File \u001b[1;32mc:\\Users\\rifat\\miniconda3\\envs\\tf\\lib\\site-packages\\tensordict\\nn\\functional_modules.py:431\u001b[0m, in \u001b[0;36m_make_decorator.<locals>.new_fun\u001b[1;34m(self, *args, **kwargs)\u001b[0m\n\u001b[0;32m    429\u001b[0m \u001b[39melse\u001b[39;00m:\n\u001b[0;32m    430\u001b[0m     \u001b[39mtry\u001b[39;00m:\n\u001b[1;32m--> 431\u001b[0m         \u001b[39mreturn\u001b[39;00m \u001b[39mgetattr\u001b[39;49m(\u001b[39mtype\u001b[39;49m(\u001b[39mself\u001b[39;49m), fun_name)(\u001b[39mself\u001b[39;49m, \u001b[39m*\u001b[39;49margs, \u001b[39m*\u001b[39;49m\u001b[39m*\u001b[39;49mkwargs)\n\u001b[0;32m    432\u001b[0m     \u001b[39mexcept\u001b[39;00m \u001b[39mTypeError\u001b[39;00m \u001b[39mas\u001b[39;00m err:\n\u001b[0;32m    433\u001b[0m         pattern \u001b[39m=\u001b[39m \u001b[39mr\u001b[39m\u001b[39m\"\u001b[39m\u001b[39m.*takes \u001b[39m\u001b[39m\\\u001b[39m\u001b[39md+ positional arguments but \u001b[39m\u001b[39m\\\u001b[39m\u001b[39md+ were given|got multiple values for argument\u001b[39m\u001b[39m\"\u001b[39m\n",
      "File \u001b[1;32mc:\\Users\\rifat\\miniconda3\\envs\\tf\\lib\\site-packages\\tensordict\\nn\\common.py:273\u001b[0m, in \u001b[0;36mdispatch.__call__.<locals>.wrapper\u001b[1;34m(_self, *args, **kwargs)\u001b[0m\n\u001b[0;32m    271\u001b[0m     out \u001b[39m=\u001b[39m \u001b[39mtuple\u001b[39m(out[key] \u001b[39mfor\u001b[39;00m key \u001b[39min\u001b[39;00m dest)\n\u001b[0;32m    272\u001b[0m     \u001b[39mreturn\u001b[39;00m out[\u001b[39m0\u001b[39m] \u001b[39mif\u001b[39;00m \u001b[39mlen\u001b[39m(out) \u001b[39m==\u001b[39m \u001b[39m1\u001b[39m \u001b[39melse\u001b[39;00m out\n\u001b[1;32m--> 273\u001b[0m \u001b[39mreturn\u001b[39;00m func(_self, tensordict, \u001b[39m*\u001b[39;49margs, \u001b[39m*\u001b[39;49m\u001b[39m*\u001b[39;49mkwargs)\n",
      "File \u001b[1;32mc:\\Users\\rifat\\miniconda3\\envs\\tf\\lib\\site-packages\\tensordict\\_contextlib.py:126\u001b[0m, in \u001b[0;36mcontext_decorator.<locals>.decorate_context\u001b[1;34m(*args, **kwargs)\u001b[0m\n\u001b[0;32m    123\u001b[0m \u001b[39m@functools\u001b[39m\u001b[39m.\u001b[39mwraps(func)\n\u001b[0;32m    124\u001b[0m \u001b[39mdef\u001b[39;00m \u001b[39mdecorate_context\u001b[39m(\u001b[39m*\u001b[39margs, \u001b[39m*\u001b[39m\u001b[39m*\u001b[39mkwargs):\n\u001b[0;32m    125\u001b[0m     \u001b[39mwith\u001b[39;00m ctx_factory():\n\u001b[1;32m--> 126\u001b[0m         \u001b[39mreturn\u001b[39;00m func(\u001b[39m*\u001b[39;49margs, \u001b[39m*\u001b[39;49m\u001b[39m*\u001b[39;49mkwargs)\n",
      "File \u001b[1;32mc:\\Users\\rifat\\miniconda3\\envs\\tf\\lib\\site-packages\\tensordict\\nn\\utils.py:253\u001b[0m, in \u001b[0;36mset_skip_existing.__call__.<locals>.wrapper\u001b[1;34m(_self, tensordict, *args, **kwargs)\u001b[0m\n\u001b[0;32m    247\u001b[0m \u001b[39mif\u001b[39;00m (\n\u001b[0;32m    248\u001b[0m     skip_existing()\n\u001b[0;32m    249\u001b[0m     \u001b[39mand\u001b[39;00m \u001b[39mall\u001b[39m(key \u001b[39min\u001b[39;00m tensordict\u001b[39m.\u001b[39mkeys(\u001b[39mTrue\u001b[39;00m) \u001b[39mfor\u001b[39;00m key \u001b[39min\u001b[39;00m out_keys)\n\u001b[0;32m    250\u001b[0m     \u001b[39mand\u001b[39;00m \u001b[39mnot\u001b[39;00m \u001b[39many\u001b[39m(key \u001b[39min\u001b[39;00m out_keys \u001b[39mfor\u001b[39;00m key \u001b[39min\u001b[39;00m in_keys)\n\u001b[0;32m    251\u001b[0m ):\n\u001b[0;32m    252\u001b[0m     \u001b[39mreturn\u001b[39;00m tensordict\n\u001b[1;32m--> 253\u001b[0m \u001b[39mreturn\u001b[39;00m func(_self, tensordict, \u001b[39m*\u001b[39;49margs, \u001b[39m*\u001b[39;49m\u001b[39m*\u001b[39;49mkwargs)\n",
      "File \u001b[1;32mc:\\Users\\rifat\\miniconda3\\envs\\tf\\lib\\site-packages\\tensordict\\nn\\sequence.py:427\u001b[0m, in \u001b[0;36mTensorDictSequential.forward\u001b[1;34m(self, tensordict, tensordict_out, **kwargs)\u001b[0m\n\u001b[0;32m    425\u001b[0m \u001b[39mif\u001b[39;00m \u001b[39mnot\u001b[39;00m \u001b[39mlen\u001b[39m(kwargs):\n\u001b[0;32m    426\u001b[0m     \u001b[39mfor\u001b[39;00m module \u001b[39min\u001b[39;00m \u001b[39mself\u001b[39m\u001b[39m.\u001b[39mmodule:\n\u001b[1;32m--> 427\u001b[0m         tensordict \u001b[39m=\u001b[39m \u001b[39mself\u001b[39;49m\u001b[39m.\u001b[39;49m_run_module(module, tensordict, \u001b[39m*\u001b[39;49m\u001b[39m*\u001b[39;49mkwargs)\n\u001b[0;32m    428\u001b[0m \u001b[39melse\u001b[39;00m:\n\u001b[0;32m    429\u001b[0m     \u001b[39mraise\u001b[39;00m \u001b[39mRuntimeError\u001b[39;00m(\n\u001b[0;32m    430\u001b[0m         \u001b[39mf\u001b[39m\u001b[39m\"\u001b[39m\u001b[39mTensorDictSequential does not support keyword arguments other than \u001b[39m\u001b[39m'\u001b[39m\u001b[39mtensordict_out\u001b[39m\u001b[39m'\u001b[39m\u001b[39m or in_keys: \u001b[39m\u001b[39m{\u001b[39;00m\u001b[39mself\u001b[39m\u001b[39m.\u001b[39min_keys\u001b[39m}\u001b[39;00m\u001b[39m. Got \u001b[39m\u001b[39m{\u001b[39;00mkwargs\u001b[39m.\u001b[39mkeys()\u001b[39m}\u001b[39;00m\u001b[39m instead.\u001b[39m\u001b[39m\"\u001b[39m\n\u001b[0;32m    431\u001b[0m     )\n",
      "File \u001b[1;32mc:\\Users\\rifat\\miniconda3\\envs\\tf\\lib\\site-packages\\tensordict\\nn\\sequence.py:407\u001b[0m, in \u001b[0;36mTensorDictSequential._run_module\u001b[1;34m(self, module, tensordict, **kwargs)\u001b[0m\n\u001b[0;32m    398\u001b[0m \u001b[39mdef\u001b[39;00m \u001b[39m_run_module\u001b[39m(\n\u001b[0;32m    399\u001b[0m     \u001b[39mself\u001b[39m,\n\u001b[0;32m    400\u001b[0m     module: TensorDictModule,\n\u001b[0;32m    401\u001b[0m     tensordict: TensorDictBase,\n\u001b[0;32m    402\u001b[0m     \u001b[39m*\u001b[39m\u001b[39m*\u001b[39mkwargs: Any,\n\u001b[0;32m    403\u001b[0m ) \u001b[39m-\u001b[39m\u001b[39m>\u001b[39m Any:\n\u001b[0;32m    404\u001b[0m     \u001b[39mif\u001b[39;00m \u001b[39mnot\u001b[39;00m \u001b[39mself\u001b[39m\u001b[39m.\u001b[39mpartial_tolerant \u001b[39mor\u001b[39;00m \u001b[39mall\u001b[39m(\n\u001b[0;32m    405\u001b[0m         key \u001b[39min\u001b[39;00m tensordict\u001b[39m.\u001b[39mkeys(include_nested\u001b[39m=\u001b[39m\u001b[39mTrue\u001b[39;00m) \u001b[39mfor\u001b[39;00m key \u001b[39min\u001b[39;00m module\u001b[39m.\u001b[39min_keys\n\u001b[0;32m    406\u001b[0m     ):\n\u001b[1;32m--> 407\u001b[0m         tensordict \u001b[39m=\u001b[39m module(tensordict, \u001b[39m*\u001b[39;49m\u001b[39m*\u001b[39;49mkwargs)\n\u001b[0;32m    408\u001b[0m     \u001b[39melif\u001b[39;00m \u001b[39mself\u001b[39m\u001b[39m.\u001b[39mpartial_tolerant \u001b[39mand\u001b[39;00m \u001b[39misinstance\u001b[39m(tensordict, LazyStackedTensorDict):\n\u001b[0;32m    409\u001b[0m         \u001b[39mfor\u001b[39;00m sub_td \u001b[39min\u001b[39;00m tensordict\u001b[39m.\u001b[39mtensordicts:\n",
      "File \u001b[1;32mc:\\Users\\rifat\\miniconda3\\envs\\tf\\lib\\site-packages\\torch\\nn\\modules\\module.py:1501\u001b[0m, in \u001b[0;36mModule._call_impl\u001b[1;34m(self, *args, **kwargs)\u001b[0m\n\u001b[0;32m   1496\u001b[0m \u001b[39m# If we don't have any hooks, we want to skip the rest of the logic in\u001b[39;00m\n\u001b[0;32m   1497\u001b[0m \u001b[39m# this function, and just call forward.\u001b[39;00m\n\u001b[0;32m   1498\u001b[0m \u001b[39mif\u001b[39;00m \u001b[39mnot\u001b[39;00m (\u001b[39mself\u001b[39m\u001b[39m.\u001b[39m_backward_hooks \u001b[39mor\u001b[39;00m \u001b[39mself\u001b[39m\u001b[39m.\u001b[39m_backward_pre_hooks \u001b[39mor\u001b[39;00m \u001b[39mself\u001b[39m\u001b[39m.\u001b[39m_forward_hooks \u001b[39mor\u001b[39;00m \u001b[39mself\u001b[39m\u001b[39m.\u001b[39m_forward_pre_hooks\n\u001b[0;32m   1499\u001b[0m         \u001b[39mor\u001b[39;00m _global_backward_pre_hooks \u001b[39mor\u001b[39;00m _global_backward_hooks\n\u001b[0;32m   1500\u001b[0m         \u001b[39mor\u001b[39;00m _global_forward_hooks \u001b[39mor\u001b[39;00m _global_forward_pre_hooks):\n\u001b[1;32m-> 1501\u001b[0m     \u001b[39mreturn\u001b[39;00m forward_call(\u001b[39m*\u001b[39;49margs, \u001b[39m*\u001b[39;49m\u001b[39m*\u001b[39;49mkwargs)\n\u001b[0;32m   1502\u001b[0m \u001b[39m# Do not call functions when jit is used\u001b[39;00m\n\u001b[0;32m   1503\u001b[0m full_backward_hooks, non_full_backward_hooks \u001b[39m=\u001b[39m [], []\n",
      "File \u001b[1;32mc:\\Users\\rifat\\miniconda3\\envs\\tf\\lib\\site-packages\\tensordict\\nn\\functional_modules.py:443\u001b[0m, in \u001b[0;36m_make_decorator.<locals>.new_fun\u001b[1;34m(self, *args, **kwargs)\u001b[0m\n\u001b[0;32m    437\u001b[0m     \u001b[39mraise\u001b[39;00m \u001b[39mTypeError\u001b[39;00m(\n\u001b[0;32m    438\u001b[0m         \u001b[39m\"\u001b[39m\u001b[39mIt seems you tried to provide the parameters as an argument to the module when the module was not stateless. \u001b[39m\u001b[39m\"\u001b[39m\n\u001b[0;32m    439\u001b[0m         \u001b[39m\"\u001b[39m\u001b[39mIf this is the case, this error should vanish by providing the parameters using the ``module(..., params=params)`` \u001b[39m\u001b[39m\"\u001b[39m\n\u001b[0;32m    440\u001b[0m         \u001b[39m\"\u001b[39m\u001b[39msyntax.\u001b[39m\u001b[39m\"\u001b[39m\n\u001b[0;32m    441\u001b[0m     ) \u001b[39mfrom\u001b[39;00m \u001b[39merr\u001b[39;00m\n\u001b[0;32m    442\u001b[0m \u001b[39melse\u001b[39;00m:\n\u001b[1;32m--> 443\u001b[0m     \u001b[39mraise\u001b[39;00m err\n",
      "File \u001b[1;32mc:\\Users\\rifat\\miniconda3\\envs\\tf\\lib\\site-packages\\tensordict\\nn\\functional_modules.py:431\u001b[0m, in \u001b[0;36m_make_decorator.<locals>.new_fun\u001b[1;34m(self, *args, **kwargs)\u001b[0m\n\u001b[0;32m    429\u001b[0m \u001b[39melse\u001b[39;00m:\n\u001b[0;32m    430\u001b[0m     \u001b[39mtry\u001b[39;00m:\n\u001b[1;32m--> 431\u001b[0m         \u001b[39mreturn\u001b[39;00m \u001b[39mgetattr\u001b[39;49m(\u001b[39mtype\u001b[39;49m(\u001b[39mself\u001b[39;49m), fun_name)(\u001b[39mself\u001b[39;49m, \u001b[39m*\u001b[39;49margs, \u001b[39m*\u001b[39;49m\u001b[39m*\u001b[39;49mkwargs)\n\u001b[0;32m    432\u001b[0m     \u001b[39mexcept\u001b[39;00m \u001b[39mTypeError\u001b[39;00m \u001b[39mas\u001b[39;00m err:\n\u001b[0;32m    433\u001b[0m         pattern \u001b[39m=\u001b[39m \u001b[39mr\u001b[39m\u001b[39m\"\u001b[39m\u001b[39m.*takes \u001b[39m\u001b[39m\\\u001b[39m\u001b[39md+ positional arguments but \u001b[39m\u001b[39m\\\u001b[39m\u001b[39md+ were given|got multiple values for argument\u001b[39m\u001b[39m\"\u001b[39m\n",
      "File \u001b[1;32mc:\\Users\\rifat\\miniconda3\\envs\\tf\\lib\\site-packages\\tensordict\\nn\\common.py:273\u001b[0m, in \u001b[0;36mdispatch.__call__.<locals>.wrapper\u001b[1;34m(_self, *args, **kwargs)\u001b[0m\n\u001b[0;32m    271\u001b[0m     out \u001b[39m=\u001b[39m \u001b[39mtuple\u001b[39m(out[key] \u001b[39mfor\u001b[39;00m key \u001b[39min\u001b[39;00m dest)\n\u001b[0;32m    272\u001b[0m     \u001b[39mreturn\u001b[39;00m out[\u001b[39m0\u001b[39m] \u001b[39mif\u001b[39;00m \u001b[39mlen\u001b[39m(out) \u001b[39m==\u001b[39m \u001b[39m1\u001b[39m \u001b[39melse\u001b[39;00m out\n\u001b[1;32m--> 273\u001b[0m \u001b[39mreturn\u001b[39;00m func(_self, tensordict, \u001b[39m*\u001b[39;49margs, \u001b[39m*\u001b[39;49m\u001b[39m*\u001b[39;49mkwargs)\n",
      "File \u001b[1;32mc:\\Users\\rifat\\miniconda3\\envs\\tf\\lib\\site-packages\\tensordict\\_contextlib.py:126\u001b[0m, in \u001b[0;36mcontext_decorator.<locals>.decorate_context\u001b[1;34m(*args, **kwargs)\u001b[0m\n\u001b[0;32m    123\u001b[0m \u001b[39m@functools\u001b[39m\u001b[39m.\u001b[39mwraps(func)\n\u001b[0;32m    124\u001b[0m \u001b[39mdef\u001b[39;00m \u001b[39mdecorate_context\u001b[39m(\u001b[39m*\u001b[39margs, \u001b[39m*\u001b[39m\u001b[39m*\u001b[39mkwargs):\n\u001b[0;32m    125\u001b[0m     \u001b[39mwith\u001b[39;00m ctx_factory():\n\u001b[1;32m--> 126\u001b[0m         \u001b[39mreturn\u001b[39;00m func(\u001b[39m*\u001b[39;49margs, \u001b[39m*\u001b[39;49m\u001b[39m*\u001b[39;49mkwargs)\n",
      "File \u001b[1;32mc:\\Users\\rifat\\miniconda3\\envs\\tf\\lib\\site-packages\\tensordict\\nn\\utils.py:253\u001b[0m, in \u001b[0;36mset_skip_existing.__call__.<locals>.wrapper\u001b[1;34m(_self, tensordict, *args, **kwargs)\u001b[0m\n\u001b[0;32m    247\u001b[0m \u001b[39mif\u001b[39;00m (\n\u001b[0;32m    248\u001b[0m     skip_existing()\n\u001b[0;32m    249\u001b[0m     \u001b[39mand\u001b[39;00m \u001b[39mall\u001b[39m(key \u001b[39min\u001b[39;00m tensordict\u001b[39m.\u001b[39mkeys(\u001b[39mTrue\u001b[39;00m) \u001b[39mfor\u001b[39;00m key \u001b[39min\u001b[39;00m out_keys)\n\u001b[0;32m    250\u001b[0m     \u001b[39mand\u001b[39;00m \u001b[39mnot\u001b[39;00m \u001b[39many\u001b[39m(key \u001b[39min\u001b[39;00m out_keys \u001b[39mfor\u001b[39;00m key \u001b[39min\u001b[39;00m in_keys)\n\u001b[0;32m    251\u001b[0m ):\n\u001b[0;32m    252\u001b[0m     \u001b[39mreturn\u001b[39;00m tensordict\n\u001b[1;32m--> 253\u001b[0m \u001b[39mreturn\u001b[39;00m func(_self, tensordict, \u001b[39m*\u001b[39;49margs, \u001b[39m*\u001b[39;49m\u001b[39m*\u001b[39;49mkwargs)\n",
      "File \u001b[1;32mc:\\Users\\rifat\\miniconda3\\envs\\tf\\lib\\site-packages\\tensordict\\nn\\probabilistic.py:511\u001b[0m, in \u001b[0;36mProbabilisticTensorDictSequential.forward\u001b[1;34m(self, tensordict, tensordict_out, **kwargs)\u001b[0m\n\u001b[0;32m    503\u001b[0m \u001b[39m@dispatch\u001b[39m(auto_batch_size\u001b[39m=\u001b[39m\u001b[39mFalse\u001b[39;00m)\n\u001b[0;32m    504\u001b[0m \u001b[39m@set_skip_existing\u001b[39m(\u001b[39mNone\u001b[39;00m)\n\u001b[0;32m    505\u001b[0m \u001b[39mdef\u001b[39;00m \u001b[39mforward\u001b[39m(\n\u001b[1;32m   (...)\u001b[0m\n\u001b[0;32m    509\u001b[0m     \u001b[39m*\u001b[39m\u001b[39m*\u001b[39mkwargs,\n\u001b[0;32m    510\u001b[0m ) \u001b[39m-\u001b[39m\u001b[39m>\u001b[39m TensorDictBase:\n\u001b[1;32m--> 511\u001b[0m     tensordict_out \u001b[39m=\u001b[39m \u001b[39mself\u001b[39;49m\u001b[39m.\u001b[39;49mget_dist_params(tensordict, tensordict_out, \u001b[39m*\u001b[39;49m\u001b[39m*\u001b[39;49mkwargs)\n\u001b[0;32m    512\u001b[0m     \u001b[39mreturn\u001b[39;00m \u001b[39mself\u001b[39m\u001b[39m.\u001b[39mmodule[\u001b[39m-\u001b[39m\u001b[39m1\u001b[39m](tensordict_out, _requires_sample\u001b[39m=\u001b[39m\u001b[39mself\u001b[39m\u001b[39m.\u001b[39m_requires_sample)\n",
      "File \u001b[1;32mc:\\Users\\rifat\\miniconda3\\envs\\tf\\lib\\site-packages\\tensordict\\nn\\probabilistic.py:487\u001b[0m, in \u001b[0;36mProbabilisticTensorDictSequential.get_dist_params\u001b[1;34m(self, tensordict, tensordict_out, **kwargs)\u001b[0m\n\u001b[0;32m    485\u001b[0m     \u001b[39mtype\u001b[39m \u001b[39m=\u001b[39m \u001b[39mself\u001b[39m\u001b[39m.\u001b[39mmodule[\u001b[39m-\u001b[39m\u001b[39m1\u001b[39m]\u001b[39m.\u001b[39mdefault_interaction_type\n\u001b[0;32m    486\u001b[0m \u001b[39mwith\u001b[39;00m set_interaction_type(\u001b[39mtype\u001b[39m):\n\u001b[1;32m--> 487\u001b[0m     \u001b[39mreturn\u001b[39;00m tds(tensordict, tensordict_out, \u001b[39m*\u001b[39;49m\u001b[39m*\u001b[39;49mkwargs)\n",
      "File \u001b[1;32mc:\\Users\\rifat\\miniconda3\\envs\\tf\\lib\\site-packages\\torch\\nn\\modules\\module.py:1501\u001b[0m, in \u001b[0;36mModule._call_impl\u001b[1;34m(self, *args, **kwargs)\u001b[0m\n\u001b[0;32m   1496\u001b[0m \u001b[39m# If we don't have any hooks, we want to skip the rest of the logic in\u001b[39;00m\n\u001b[0;32m   1497\u001b[0m \u001b[39m# this function, and just call forward.\u001b[39;00m\n\u001b[0;32m   1498\u001b[0m \u001b[39mif\u001b[39;00m \u001b[39mnot\u001b[39;00m (\u001b[39mself\u001b[39m\u001b[39m.\u001b[39m_backward_hooks \u001b[39mor\u001b[39;00m \u001b[39mself\u001b[39m\u001b[39m.\u001b[39m_backward_pre_hooks \u001b[39mor\u001b[39;00m \u001b[39mself\u001b[39m\u001b[39m.\u001b[39m_forward_hooks \u001b[39mor\u001b[39;00m \u001b[39mself\u001b[39m\u001b[39m.\u001b[39m_forward_pre_hooks\n\u001b[0;32m   1499\u001b[0m         \u001b[39mor\u001b[39;00m _global_backward_pre_hooks \u001b[39mor\u001b[39;00m _global_backward_hooks\n\u001b[0;32m   1500\u001b[0m         \u001b[39mor\u001b[39;00m _global_forward_hooks \u001b[39mor\u001b[39;00m _global_forward_pre_hooks):\n\u001b[1;32m-> 1501\u001b[0m     \u001b[39mreturn\u001b[39;00m forward_call(\u001b[39m*\u001b[39;49margs, \u001b[39m*\u001b[39;49m\u001b[39m*\u001b[39;49mkwargs)\n\u001b[0;32m   1502\u001b[0m \u001b[39m# Do not call functions when jit is used\u001b[39;00m\n\u001b[0;32m   1503\u001b[0m full_backward_hooks, non_full_backward_hooks \u001b[39m=\u001b[39m [], []\n",
      "File \u001b[1;32mc:\\Users\\rifat\\miniconda3\\envs\\tf\\lib\\site-packages\\tensordict\\nn\\functional_modules.py:443\u001b[0m, in \u001b[0;36m_make_decorator.<locals>.new_fun\u001b[1;34m(self, *args, **kwargs)\u001b[0m\n\u001b[0;32m    437\u001b[0m     \u001b[39mraise\u001b[39;00m \u001b[39mTypeError\u001b[39;00m(\n\u001b[0;32m    438\u001b[0m         \u001b[39m\"\u001b[39m\u001b[39mIt seems you tried to provide the parameters as an argument to the module when the module was not stateless. \u001b[39m\u001b[39m\"\u001b[39m\n\u001b[0;32m    439\u001b[0m         \u001b[39m\"\u001b[39m\u001b[39mIf this is the case, this error should vanish by providing the parameters using the ``module(..., params=params)`` \u001b[39m\u001b[39m\"\u001b[39m\n\u001b[0;32m    440\u001b[0m         \u001b[39m\"\u001b[39m\u001b[39msyntax.\u001b[39m\u001b[39m\"\u001b[39m\n\u001b[0;32m    441\u001b[0m     ) \u001b[39mfrom\u001b[39;00m \u001b[39merr\u001b[39;00m\n\u001b[0;32m    442\u001b[0m \u001b[39melse\u001b[39;00m:\n\u001b[1;32m--> 443\u001b[0m     \u001b[39mraise\u001b[39;00m err\n",
      "File \u001b[1;32mc:\\Users\\rifat\\miniconda3\\envs\\tf\\lib\\site-packages\\tensordict\\nn\\functional_modules.py:431\u001b[0m, in \u001b[0;36m_make_decorator.<locals>.new_fun\u001b[1;34m(self, *args, **kwargs)\u001b[0m\n\u001b[0;32m    429\u001b[0m \u001b[39melse\u001b[39;00m:\n\u001b[0;32m    430\u001b[0m     \u001b[39mtry\u001b[39;00m:\n\u001b[1;32m--> 431\u001b[0m         \u001b[39mreturn\u001b[39;00m \u001b[39mgetattr\u001b[39;49m(\u001b[39mtype\u001b[39;49m(\u001b[39mself\u001b[39;49m), fun_name)(\u001b[39mself\u001b[39;49m, \u001b[39m*\u001b[39;49margs, \u001b[39m*\u001b[39;49m\u001b[39m*\u001b[39;49mkwargs)\n\u001b[0;32m    432\u001b[0m     \u001b[39mexcept\u001b[39;00m \u001b[39mTypeError\u001b[39;00m \u001b[39mas\u001b[39;00m err:\n\u001b[0;32m    433\u001b[0m         pattern \u001b[39m=\u001b[39m \u001b[39mr\u001b[39m\u001b[39m\"\u001b[39m\u001b[39m.*takes \u001b[39m\u001b[39m\\\u001b[39m\u001b[39md+ positional arguments but \u001b[39m\u001b[39m\\\u001b[39m\u001b[39md+ were given|got multiple values for argument\u001b[39m\u001b[39m\"\u001b[39m\n",
      "File \u001b[1;32mc:\\Users\\rifat\\miniconda3\\envs\\tf\\lib\\site-packages\\tensordict\\nn\\common.py:273\u001b[0m, in \u001b[0;36mdispatch.__call__.<locals>.wrapper\u001b[1;34m(_self, *args, **kwargs)\u001b[0m\n\u001b[0;32m    271\u001b[0m     out \u001b[39m=\u001b[39m \u001b[39mtuple\u001b[39m(out[key] \u001b[39mfor\u001b[39;00m key \u001b[39min\u001b[39;00m dest)\n\u001b[0;32m    272\u001b[0m     \u001b[39mreturn\u001b[39;00m out[\u001b[39m0\u001b[39m] \u001b[39mif\u001b[39;00m \u001b[39mlen\u001b[39m(out) \u001b[39m==\u001b[39m \u001b[39m1\u001b[39m \u001b[39melse\u001b[39;00m out\n\u001b[1;32m--> 273\u001b[0m \u001b[39mreturn\u001b[39;00m func(_self, tensordict, \u001b[39m*\u001b[39;49margs, \u001b[39m*\u001b[39;49m\u001b[39m*\u001b[39;49mkwargs)\n",
      "File \u001b[1;32mc:\\Users\\rifat\\miniconda3\\envs\\tf\\lib\\site-packages\\tensordict\\_contextlib.py:126\u001b[0m, in \u001b[0;36mcontext_decorator.<locals>.decorate_context\u001b[1;34m(*args, **kwargs)\u001b[0m\n\u001b[0;32m    123\u001b[0m \u001b[39m@functools\u001b[39m\u001b[39m.\u001b[39mwraps(func)\n\u001b[0;32m    124\u001b[0m \u001b[39mdef\u001b[39;00m \u001b[39mdecorate_context\u001b[39m(\u001b[39m*\u001b[39margs, \u001b[39m*\u001b[39m\u001b[39m*\u001b[39mkwargs):\n\u001b[0;32m    125\u001b[0m     \u001b[39mwith\u001b[39;00m ctx_factory():\n\u001b[1;32m--> 126\u001b[0m         \u001b[39mreturn\u001b[39;00m func(\u001b[39m*\u001b[39;49margs, \u001b[39m*\u001b[39;49m\u001b[39m*\u001b[39;49mkwargs)\n",
      "File \u001b[1;32mc:\\Users\\rifat\\miniconda3\\envs\\tf\\lib\\site-packages\\tensordict\\nn\\utils.py:253\u001b[0m, in \u001b[0;36mset_skip_existing.__call__.<locals>.wrapper\u001b[1;34m(_self, tensordict, *args, **kwargs)\u001b[0m\n\u001b[0;32m    247\u001b[0m \u001b[39mif\u001b[39;00m (\n\u001b[0;32m    248\u001b[0m     skip_existing()\n\u001b[0;32m    249\u001b[0m     \u001b[39mand\u001b[39;00m \u001b[39mall\u001b[39m(key \u001b[39min\u001b[39;00m tensordict\u001b[39m.\u001b[39mkeys(\u001b[39mTrue\u001b[39;00m) \u001b[39mfor\u001b[39;00m key \u001b[39min\u001b[39;00m out_keys)\n\u001b[0;32m    250\u001b[0m     \u001b[39mand\u001b[39;00m \u001b[39mnot\u001b[39;00m \u001b[39many\u001b[39m(key \u001b[39min\u001b[39;00m out_keys \u001b[39mfor\u001b[39;00m key \u001b[39min\u001b[39;00m in_keys)\n\u001b[0;32m    251\u001b[0m ):\n\u001b[0;32m    252\u001b[0m     \u001b[39mreturn\u001b[39;00m tensordict\n\u001b[1;32m--> 253\u001b[0m \u001b[39mreturn\u001b[39;00m func(_self, tensordict, \u001b[39m*\u001b[39;49margs, \u001b[39m*\u001b[39;49m\u001b[39m*\u001b[39;49mkwargs)\n",
      "File \u001b[1;32mc:\\Users\\rifat\\miniconda3\\envs\\tf\\lib\\site-packages\\tensordict\\nn\\sequence.py:427\u001b[0m, in \u001b[0;36mTensorDictSequential.forward\u001b[1;34m(self, tensordict, tensordict_out, **kwargs)\u001b[0m\n\u001b[0;32m    425\u001b[0m \u001b[39mif\u001b[39;00m \u001b[39mnot\u001b[39;00m \u001b[39mlen\u001b[39m(kwargs):\n\u001b[0;32m    426\u001b[0m     \u001b[39mfor\u001b[39;00m module \u001b[39min\u001b[39;00m \u001b[39mself\u001b[39m\u001b[39m.\u001b[39mmodule:\n\u001b[1;32m--> 427\u001b[0m         tensordict \u001b[39m=\u001b[39m \u001b[39mself\u001b[39;49m\u001b[39m.\u001b[39;49m_run_module(module, tensordict, \u001b[39m*\u001b[39;49m\u001b[39m*\u001b[39;49mkwargs)\n\u001b[0;32m    428\u001b[0m \u001b[39melse\u001b[39;00m:\n\u001b[0;32m    429\u001b[0m     \u001b[39mraise\u001b[39;00m \u001b[39mRuntimeError\u001b[39;00m(\n\u001b[0;32m    430\u001b[0m         \u001b[39mf\u001b[39m\u001b[39m\"\u001b[39m\u001b[39mTensorDictSequential does not support keyword arguments other than \u001b[39m\u001b[39m'\u001b[39m\u001b[39mtensordict_out\u001b[39m\u001b[39m'\u001b[39m\u001b[39m or in_keys: \u001b[39m\u001b[39m{\u001b[39;00m\u001b[39mself\u001b[39m\u001b[39m.\u001b[39min_keys\u001b[39m}\u001b[39;00m\u001b[39m. Got \u001b[39m\u001b[39m{\u001b[39;00mkwargs\u001b[39m.\u001b[39mkeys()\u001b[39m}\u001b[39;00m\u001b[39m instead.\u001b[39m\u001b[39m\"\u001b[39m\n\u001b[0;32m    431\u001b[0m     )\n",
      "File \u001b[1;32mc:\\Users\\rifat\\miniconda3\\envs\\tf\\lib\\site-packages\\tensordict\\nn\\sequence.py:407\u001b[0m, in \u001b[0;36mTensorDictSequential._run_module\u001b[1;34m(self, module, tensordict, **kwargs)\u001b[0m\n\u001b[0;32m    398\u001b[0m \u001b[39mdef\u001b[39;00m \u001b[39m_run_module\u001b[39m(\n\u001b[0;32m    399\u001b[0m     \u001b[39mself\u001b[39m,\n\u001b[0;32m    400\u001b[0m     module: TensorDictModule,\n\u001b[0;32m    401\u001b[0m     tensordict: TensorDictBase,\n\u001b[0;32m    402\u001b[0m     \u001b[39m*\u001b[39m\u001b[39m*\u001b[39mkwargs: Any,\n\u001b[0;32m    403\u001b[0m ) \u001b[39m-\u001b[39m\u001b[39m>\u001b[39m Any:\n\u001b[0;32m    404\u001b[0m     \u001b[39mif\u001b[39;00m \u001b[39mnot\u001b[39;00m \u001b[39mself\u001b[39m\u001b[39m.\u001b[39mpartial_tolerant \u001b[39mor\u001b[39;00m \u001b[39mall\u001b[39m(\n\u001b[0;32m    405\u001b[0m         key \u001b[39min\u001b[39;00m tensordict\u001b[39m.\u001b[39mkeys(include_nested\u001b[39m=\u001b[39m\u001b[39mTrue\u001b[39;00m) \u001b[39mfor\u001b[39;00m key \u001b[39min\u001b[39;00m module\u001b[39m.\u001b[39min_keys\n\u001b[0;32m    406\u001b[0m     ):\n\u001b[1;32m--> 407\u001b[0m         tensordict \u001b[39m=\u001b[39m module(tensordict, \u001b[39m*\u001b[39;49m\u001b[39m*\u001b[39;49mkwargs)\n\u001b[0;32m    408\u001b[0m     \u001b[39melif\u001b[39;00m \u001b[39mself\u001b[39m\u001b[39m.\u001b[39mpartial_tolerant \u001b[39mand\u001b[39;00m \u001b[39misinstance\u001b[39m(tensordict, LazyStackedTensorDict):\n\u001b[0;32m    409\u001b[0m         \u001b[39mfor\u001b[39;00m sub_td \u001b[39min\u001b[39;00m tensordict\u001b[39m.\u001b[39mtensordicts:\n",
      "File \u001b[1;32mc:\\Users\\rifat\\miniconda3\\envs\\tf\\lib\\site-packages\\torch\\nn\\modules\\module.py:1501\u001b[0m, in \u001b[0;36mModule._call_impl\u001b[1;34m(self, *args, **kwargs)\u001b[0m\n\u001b[0;32m   1496\u001b[0m \u001b[39m# If we don't have any hooks, we want to skip the rest of the logic in\u001b[39;00m\n\u001b[0;32m   1497\u001b[0m \u001b[39m# this function, and just call forward.\u001b[39;00m\n\u001b[0;32m   1498\u001b[0m \u001b[39mif\u001b[39;00m \u001b[39mnot\u001b[39;00m (\u001b[39mself\u001b[39m\u001b[39m.\u001b[39m_backward_hooks \u001b[39mor\u001b[39;00m \u001b[39mself\u001b[39m\u001b[39m.\u001b[39m_backward_pre_hooks \u001b[39mor\u001b[39;00m \u001b[39mself\u001b[39m\u001b[39m.\u001b[39m_forward_hooks \u001b[39mor\u001b[39;00m \u001b[39mself\u001b[39m\u001b[39m.\u001b[39m_forward_pre_hooks\n\u001b[0;32m   1499\u001b[0m         \u001b[39mor\u001b[39;00m _global_backward_pre_hooks \u001b[39mor\u001b[39;00m _global_backward_hooks\n\u001b[0;32m   1500\u001b[0m         \u001b[39mor\u001b[39;00m _global_forward_hooks \u001b[39mor\u001b[39;00m _global_forward_pre_hooks):\n\u001b[1;32m-> 1501\u001b[0m     \u001b[39mreturn\u001b[39;00m forward_call(\u001b[39m*\u001b[39;49margs, \u001b[39m*\u001b[39;49m\u001b[39m*\u001b[39;49mkwargs)\n\u001b[0;32m   1502\u001b[0m \u001b[39m# Do not call functions when jit is used\u001b[39;00m\n\u001b[0;32m   1503\u001b[0m full_backward_hooks, non_full_backward_hooks \u001b[39m=\u001b[39m [], []\n",
      "File \u001b[1;32mc:\\Users\\rifat\\miniconda3\\envs\\tf\\lib\\site-packages\\tensordict\\nn\\functional_modules.py:437\u001b[0m, in \u001b[0;36m_make_decorator.<locals>.new_fun\u001b[1;34m(self, *args, **kwargs)\u001b[0m\n\u001b[0;32m    434\u001b[0m pattern \u001b[39m=\u001b[39m re\u001b[39m.\u001b[39mcompile(pattern)\n\u001b[0;32m    435\u001b[0m \u001b[39mif\u001b[39;00m pattern\u001b[39m.\u001b[39msearch(\u001b[39mstr\u001b[39m(err)) \u001b[39mand\u001b[39;00m \u001b[39misinstance\u001b[39m(args[\u001b[39m-\u001b[39m\u001b[39m1\u001b[39m], TensorDictBase):\n\u001b[0;32m    436\u001b[0m     \u001b[39m# this is raised whenever the module is an nn.Module (not a TensorDictModuleBase)\u001b[39;00m\n\u001b[1;32m--> 437\u001b[0m     \u001b[39mraise\u001b[39;00m \u001b[39mTypeError\u001b[39;00m(\n\u001b[0;32m    438\u001b[0m         \u001b[39m\"\u001b[39m\u001b[39mIt seems you tried to provide the parameters as an argument to the module when the module was not stateless. \u001b[39m\u001b[39m\"\u001b[39m\n\u001b[0;32m    439\u001b[0m         \u001b[39m\"\u001b[39m\u001b[39mIf this is the case, this error should vanish by providing the parameters using the ``module(..., params=params)`` \u001b[39m\u001b[39m\"\u001b[39m\n\u001b[0;32m    440\u001b[0m         \u001b[39m\"\u001b[39m\u001b[39msyntax.\u001b[39m\u001b[39m\"\u001b[39m\n\u001b[0;32m    441\u001b[0m     ) \u001b[39mfrom\u001b[39;00m \u001b[39merr\u001b[39;00m\n\u001b[0;32m    442\u001b[0m \u001b[39melse\u001b[39;00m:\n\u001b[0;32m    443\u001b[0m     \u001b[39mraise\u001b[39;00m err\n",
      "\u001b[1;31mTypeError\u001b[0m: It seems you tried to provide the parameters as an argument to the module when the module was not stateless. If this is the case, this error should vanish by providing the parameters using the ``module(..., params=params)`` syntax."
     ]
    }
   ],
   "source": [
    "#test the policy module\n",
    "x = torch.randn(20,70).to(device)\n",
    "policy_module(x)"
   ]
  },
  {
   "cell_type": "code",
   "execution_count": 26,
   "metadata": {},
   "outputs": [
    {
     "data": {
      "text/plain": [
       "ProbabilisticActor(\n",
       "    module=ModuleList(\n",
       "      (0): ProbabilisticActor(\n",
       "          module=ModuleList(\n",
       "            (0): TensorDictModule(\n",
       "                module=Sequential(\n",
       "                  (0): Linear(in_features=20, out_features=256, bias=True)\n",
       "                  (1): Tanh()\n",
       "                  (2): Linear(in_features=256, out_features=128, bias=True)\n",
       "                  (3): Tanh()\n",
       "                  (4): Linear(in_features=128, out_features=15, bias=True)\n",
       "                  (5): NormalParamExtractor()\n",
       "                ),\n",
       "                device=cuda:0,\n",
       "                in_keys=['', ''],\n",
       "                out_keys=['loc', 'scale'])\n",
       "            (1): SafeProbabilisticModule()\n",
       "          ),\n",
       "          device=cuda:0,\n",
       "          in_keys=[''],\n",
       "          out_keys=['loc', 'scale', 'action', 'sample_log_prob'])\n",
       "      (1): SafeProbabilisticModule()\n",
       "    ),\n",
       "    device=cuda:0,\n",
       "    in_keys=[''],\n",
       "    out_keys=['loc', 'scale', 'action', 'sample_log_prob'])"
      ]
     },
     "execution_count": 26,
     "metadata": {},
     "output_type": "execute_result"
    }
   ],
   "source": [
    "policy_module"
   ]
  },
  {
   "cell_type": "code",
   "execution_count": 30,
   "metadata": {},
   "outputs": [],
   "source": [
    "num_cells=256"
   ]
  },
  {
   "cell_type": "code",
   "execution_count": 29,
   "metadata": {},
   "outputs": [],
   "source": [
    "value_net = nn.Sequential(\n",
    "    nn.Linear(20, 256, bias=True),\n",
    "    nn.Tanh(),\n",
    "    nn.Linear(256, 128, bias=True),\n",
    "    nn.Tanh(),\n",
    "    nn.Linear(128, 1, bias=True),\n",
    "    NormalParamExtractor()\n",
    ").to(device)\n",
    "\n",
    "value_module = ValueOperator(\n",
    "    module=value_net,\n",
    "    in_keys= ['' ,'' ],\n",
    ")\n"
   ]
  },
  {
   "cell_type": "code",
   "execution_count": null,
   "metadata": {},
   "outputs": [],
   "source": []
  },
  {
   "cell_type": "code",
   "execution_count": 30,
   "metadata": {},
   "outputs": [
    {
     "data": {
      "text/plain": [
       "ValueOperator(\n",
       "    module=Sequential(\n",
       "      (0): Linear(in_features=20, out_features=256, bias=True)\n",
       "      (1): Tanh()\n",
       "      (2): Linear(in_features=256, out_features=128, bias=True)\n",
       "      (3): Tanh()\n",
       "      (4): Linear(in_features=128, out_features=1, bias=True)\n",
       "      (5): NormalParamExtractor()\n",
       "    ),\n",
       "    device=cuda:0,\n",
       "    in_keys=['', ''],\n",
       "    out_keys=['state_value'])"
      ]
     },
     "execution_count": 30,
     "metadata": {},
     "output_type": "execute_result"
    }
   ],
   "source": [
    "value_module"
   ]
  },
  {
   "cell_type": "code",
   "execution_count": 32,
   "metadata": {},
   "outputs": [
    {
     "data": {
      "text/plain": [
       "Sequential(\n",
       "  (0): Linear(in_features=20, out_features=256, bias=True)\n",
       "  (1): Tanh()\n",
       "  (2): Linear(in_features=256, out_features=128, bias=True)\n",
       "  (3): Tanh()\n",
       "  (4): Linear(in_features=128, out_features=1, bias=True)\n",
       "  (5): NormalParamExtractor()\n",
       ")"
      ]
     },
     "execution_count": 32,
     "metadata": {},
     "output_type": "execute_result"
    }
   ],
   "source": [
    "value_net.to(device)"
   ]
  },
  {
   "cell_type": "code",
   "execution_count": 33,
   "metadata": {},
   "outputs": [
    {
     "data": {
      "text/plain": [
       "array([[[0., 0., 0., ..., 0., 0., 0.],\n",
       "        [0., 0., 0., ..., 0., 0., 0.],\n",
       "        [0., 0., 0., ..., 0., 0., 0.],\n",
       "        ...,\n",
       "        [0., 0., 0., ..., 0., 0., 0.],\n",
       "        [0., 0., 0., ..., 0., 0., 0.],\n",
       "        [0., 0., 0., ..., 0., 0., 0.]],\n",
       "\n",
       "       [[0., 0., 0., ..., 0., 0., 0.],\n",
       "        [0., 0., 0., ..., 0., 0., 0.],\n",
       "        [0., 0., 0., ..., 0., 0., 0.],\n",
       "        ...,\n",
       "        [0., 0., 0., ..., 0., 0., 0.],\n",
       "        [0., 0., 0., ..., 0., 0., 0.],\n",
       "        [0., 0., 0., ..., 0., 0., 0.]]], dtype=float32)"
      ]
     },
     "execution_count": 33,
     "metadata": {},
     "output_type": "execute_result"
    }
   ],
   "source": [
    "base_env.RayCast()"
   ]
  },
  {
   "cell_type": "code",
   "execution_count": 35,
   "metadata": {},
   "outputs": [
    {
     "ename": "TypeError",
     "evalue": "It seems you tried to provide the parameters as an argument to the module when the module was not stateless. If this is the case, this error should vanish by providing the parameters using the ``module(..., params=params)`` syntax.",
     "output_type": "error",
     "traceback": [
      "\u001b[1;31m---------------------------------------------------------------------------\u001b[0m",
      "\u001b[1;31mTypeError\u001b[0m                                 Traceback (most recent call last)",
      "File \u001b[1;32mc:\\Users\\rifat\\miniconda3\\envs\\tf\\lib\\site-packages\\tensordict\\nn\\functional_modules.py:431\u001b[0m, in \u001b[0;36m_make_decorator.<locals>.new_fun\u001b[1;34m(self, *args, **kwargs)\u001b[0m\n\u001b[0;32m    430\u001b[0m \u001b[39mtry\u001b[39;00m:\n\u001b[1;32m--> 431\u001b[0m     \u001b[39mreturn\u001b[39;00m \u001b[39mgetattr\u001b[39;49m(\u001b[39mtype\u001b[39;49m(\u001b[39mself\u001b[39;49m), fun_name)(\u001b[39mself\u001b[39;49m, \u001b[39m*\u001b[39;49margs, \u001b[39m*\u001b[39;49m\u001b[39m*\u001b[39;49mkwargs)\n\u001b[0;32m    432\u001b[0m \u001b[39mexcept\u001b[39;00m \u001b[39mTypeError\u001b[39;00m \u001b[39mas\u001b[39;00m err:\n",
      "File \u001b[1;32mc:\\Users\\rifat\\miniconda3\\envs\\tf\\lib\\site-packages\\tensordict\\nn\\common.py:273\u001b[0m, in \u001b[0;36mdispatch.__call__.<locals>.wrapper\u001b[1;34m(_self, *args, **kwargs)\u001b[0m\n\u001b[0;32m    272\u001b[0m     \u001b[39mreturn\u001b[39;00m out[\u001b[39m0\u001b[39m] \u001b[39mif\u001b[39;00m \u001b[39mlen\u001b[39m(out) \u001b[39m==\u001b[39m \u001b[39m1\u001b[39m \u001b[39melse\u001b[39;00m out\n\u001b[1;32m--> 273\u001b[0m \u001b[39mreturn\u001b[39;00m func(_self, tensordict, \u001b[39m*\u001b[39;49margs, \u001b[39m*\u001b[39;49m\u001b[39m*\u001b[39;49mkwargs)\n",
      "File \u001b[1;32mc:\\Users\\rifat\\miniconda3\\envs\\tf\\lib\\site-packages\\tensordict\\_contextlib.py:126\u001b[0m, in \u001b[0;36mcontext_decorator.<locals>.decorate_context\u001b[1;34m(*args, **kwargs)\u001b[0m\n\u001b[0;32m    125\u001b[0m \u001b[39mwith\u001b[39;00m ctx_factory():\n\u001b[1;32m--> 126\u001b[0m     \u001b[39mreturn\u001b[39;00m func(\u001b[39m*\u001b[39;49margs, \u001b[39m*\u001b[39;49m\u001b[39m*\u001b[39;49mkwargs)\n",
      "File \u001b[1;32mc:\\Users\\rifat\\miniconda3\\envs\\tf\\lib\\site-packages\\tensordict\\nn\\utils.py:253\u001b[0m, in \u001b[0;36mset_skip_existing.__call__.<locals>.wrapper\u001b[1;34m(_self, tensordict, *args, **kwargs)\u001b[0m\n\u001b[0;32m    252\u001b[0m     \u001b[39mreturn\u001b[39;00m tensordict\n\u001b[1;32m--> 253\u001b[0m \u001b[39mreturn\u001b[39;00m func(_self, tensordict, \u001b[39m*\u001b[39;49margs, \u001b[39m*\u001b[39;49m\u001b[39m*\u001b[39;49mkwargs)\n",
      "File \u001b[1;32mc:\\Users\\rifat\\miniconda3\\envs\\tf\\lib\\site-packages\\tensordict\\nn\\common.py:810\u001b[0m, in \u001b[0;36mTensorDictModule.forward\u001b[1;34m(self, tensordict, tensordict_out, *args, **kwargs)\u001b[0m\n\u001b[0;32m    809\u001b[0m     \u001b[39melse\u001b[39;00m:\n\u001b[1;32m--> 810\u001b[0m         \u001b[39mraise\u001b[39;00m err\n\u001b[0;32m    811\u001b[0m \u001b[39mif\u001b[39;00m \u001b[39misinstance\u001b[39m(tensors, (\u001b[39mdict\u001b[39m, TensorDictBase)):\n",
      "File \u001b[1;32mc:\\Users\\rifat\\miniconda3\\envs\\tf\\lib\\site-packages\\tensordict\\nn\\common.py:798\u001b[0m, in \u001b[0;36mTensorDictModule.forward\u001b[1;34m(self, tensordict, tensordict_out, *args, **kwargs)\u001b[0m\n\u001b[0;32m    797\u001b[0m \u001b[39mtry\u001b[39;00m:\n\u001b[1;32m--> 798\u001b[0m     tensors \u001b[39m=\u001b[39m \u001b[39mself\u001b[39;49m\u001b[39m.\u001b[39;49m_call_module(tensors, \u001b[39m*\u001b[39;49m\u001b[39m*\u001b[39;49mkwargs)\n\u001b[0;32m    799\u001b[0m \u001b[39mexcept\u001b[39;00m \u001b[39mException\u001b[39;00m \u001b[39mas\u001b[39;00m err:\n",
      "File \u001b[1;32mc:\\Users\\rifat\\miniconda3\\envs\\tf\\lib\\site-packages\\tensordict\\nn\\common.py:766\u001b[0m, in \u001b[0;36mTensorDictModule._call_module\u001b[1;34m(self, tensors, **kwargs)\u001b[0m\n\u001b[0;32m    763\u001b[0m \u001b[39mdef\u001b[39;00m \u001b[39m_call_module\u001b[39m(\n\u001b[0;32m    764\u001b[0m     \u001b[39mself\u001b[39m, tensors: Sequence[Tensor], \u001b[39m*\u001b[39m\u001b[39m*\u001b[39mkwargs: Any\n\u001b[0;32m    765\u001b[0m ) \u001b[39m-\u001b[39m\u001b[39m>\u001b[39m Tensor \u001b[39m|\u001b[39m Sequence[Tensor]:\n\u001b[1;32m--> 766\u001b[0m     out \u001b[39m=\u001b[39m \u001b[39mself\u001b[39;49m\u001b[39m.\u001b[39;49mmodule(\u001b[39m*\u001b[39;49mtensors, \u001b[39m*\u001b[39;49m\u001b[39m*\u001b[39;49mkwargs)\n\u001b[0;32m    767\u001b[0m     \u001b[39mreturn\u001b[39;00m out\n",
      "File \u001b[1;32mc:\\Users\\rifat\\miniconda3\\envs\\tf\\lib\\site-packages\\torch\\nn\\modules\\module.py:1501\u001b[0m, in \u001b[0;36mModule._call_impl\u001b[1;34m(self, *args, **kwargs)\u001b[0m\n\u001b[0;32m   1498\u001b[0m \u001b[39mif\u001b[39;00m \u001b[39mnot\u001b[39;00m (\u001b[39mself\u001b[39m\u001b[39m.\u001b[39m_backward_hooks \u001b[39mor\u001b[39;00m \u001b[39mself\u001b[39m\u001b[39m.\u001b[39m_backward_pre_hooks \u001b[39mor\u001b[39;00m \u001b[39mself\u001b[39m\u001b[39m.\u001b[39m_forward_hooks \u001b[39mor\u001b[39;00m \u001b[39mself\u001b[39m\u001b[39m.\u001b[39m_forward_pre_hooks\n\u001b[0;32m   1499\u001b[0m         \u001b[39mor\u001b[39;00m _global_backward_pre_hooks \u001b[39mor\u001b[39;00m _global_backward_hooks\n\u001b[0;32m   1500\u001b[0m         \u001b[39mor\u001b[39;00m _global_forward_hooks \u001b[39mor\u001b[39;00m _global_forward_pre_hooks):\n\u001b[1;32m-> 1501\u001b[0m     \u001b[39mreturn\u001b[39;00m forward_call(\u001b[39m*\u001b[39;49margs, \u001b[39m*\u001b[39;49m\u001b[39m*\u001b[39;49mkwargs)\n\u001b[0;32m   1502\u001b[0m \u001b[39m# Do not call functions when jit is used\u001b[39;00m\n",
      "File \u001b[1;32mc:\\Users\\rifat\\miniconda3\\envs\\tf\\lib\\site-packages\\tensordict\\nn\\functional_modules.py:443\u001b[0m, in \u001b[0;36m_make_decorator.<locals>.new_fun\u001b[1;34m(self, *args, **kwargs)\u001b[0m\n\u001b[0;32m    442\u001b[0m \u001b[39melse\u001b[39;00m:\n\u001b[1;32m--> 443\u001b[0m     \u001b[39mraise\u001b[39;00m err\n",
      "File \u001b[1;32mc:\\Users\\rifat\\miniconda3\\envs\\tf\\lib\\site-packages\\tensordict\\nn\\functional_modules.py:431\u001b[0m, in \u001b[0;36m_make_decorator.<locals>.new_fun\u001b[1;34m(self, *args, **kwargs)\u001b[0m\n\u001b[0;32m    430\u001b[0m \u001b[39mtry\u001b[39;00m:\n\u001b[1;32m--> 431\u001b[0m     \u001b[39mreturn\u001b[39;00m \u001b[39mgetattr\u001b[39;49m(\u001b[39mtype\u001b[39;49m(\u001b[39mself\u001b[39;49m), fun_name)(\u001b[39mself\u001b[39;49m, \u001b[39m*\u001b[39;49margs, \u001b[39m*\u001b[39;49m\u001b[39m*\u001b[39;49mkwargs)\n\u001b[0;32m    432\u001b[0m \u001b[39mexcept\u001b[39;00m \u001b[39mTypeError\u001b[39;00m \u001b[39mas\u001b[39;00m err:\n",
      "\u001b[1;31mTypeError\u001b[0m: forward() takes 2 positional arguments but 3 were given",
      "\nThe above exception was the direct cause of the following exception:\n",
      "\u001b[1;31mTypeError\u001b[0m                                 Traceback (most recent call last)",
      "\u001b[1;32md:\\RL_UNITY\\full_car_envs\\my_experiment\\Assets\\subAssets\\Python\\environment\\Env5000\\TORCH_RL.ipynb Cell 33\u001b[0m in \u001b[0;36m<cell line: 1>\u001b[1;34m()\u001b[0m\n\u001b[1;32m----> <a href='vscode-notebook-cell:/d%3A/RL_UNITY/full_car_envs/my_experiment/Assets/subAssets/Python/environment/Env5000/TORCH_RL.ipynb#X44sZmlsZQ%3D%3D?line=0'>1</a>\u001b[0m \u001b[39mprint\u001b[39m(\u001b[39m\"\u001b[39m\u001b[39mRunning policy:\u001b[39m\u001b[39m\"\u001b[39m, policy_module(base_env\u001b[39m.\u001b[39;49mRayCast()))\n",
      "File \u001b[1;32mc:\\Users\\rifat\\miniconda3\\envs\\tf\\lib\\site-packages\\torch\\nn\\modules\\module.py:1501\u001b[0m, in \u001b[0;36mModule._call_impl\u001b[1;34m(self, *args, **kwargs)\u001b[0m\n\u001b[0;32m   1496\u001b[0m \u001b[39m# If we don't have any hooks, we want to skip the rest of the logic in\u001b[39;00m\n\u001b[0;32m   1497\u001b[0m \u001b[39m# this function, and just call forward.\u001b[39;00m\n\u001b[0;32m   1498\u001b[0m \u001b[39mif\u001b[39;00m \u001b[39mnot\u001b[39;00m (\u001b[39mself\u001b[39m\u001b[39m.\u001b[39m_backward_hooks \u001b[39mor\u001b[39;00m \u001b[39mself\u001b[39m\u001b[39m.\u001b[39m_backward_pre_hooks \u001b[39mor\u001b[39;00m \u001b[39mself\u001b[39m\u001b[39m.\u001b[39m_forward_hooks \u001b[39mor\u001b[39;00m \u001b[39mself\u001b[39m\u001b[39m.\u001b[39m_forward_pre_hooks\n\u001b[0;32m   1499\u001b[0m         \u001b[39mor\u001b[39;00m _global_backward_pre_hooks \u001b[39mor\u001b[39;00m _global_backward_hooks\n\u001b[0;32m   1500\u001b[0m         \u001b[39mor\u001b[39;00m _global_forward_hooks \u001b[39mor\u001b[39;00m _global_forward_pre_hooks):\n\u001b[1;32m-> 1501\u001b[0m     \u001b[39mreturn\u001b[39;00m forward_call(\u001b[39m*\u001b[39;49margs, \u001b[39m*\u001b[39;49m\u001b[39m*\u001b[39;49mkwargs)\n\u001b[0;32m   1502\u001b[0m \u001b[39m# Do not call functions when jit is used\u001b[39;00m\n\u001b[0;32m   1503\u001b[0m full_backward_hooks, non_full_backward_hooks \u001b[39m=\u001b[39m [], []\n",
      "File \u001b[1;32mc:\\Users\\rifat\\miniconda3\\envs\\tf\\lib\\site-packages\\tensordict\\nn\\functional_modules.py:443\u001b[0m, in \u001b[0;36m_make_decorator.<locals>.new_fun\u001b[1;34m(self, *args, **kwargs)\u001b[0m\n\u001b[0;32m    437\u001b[0m     \u001b[39mraise\u001b[39;00m \u001b[39mTypeError\u001b[39;00m(\n\u001b[0;32m    438\u001b[0m         \u001b[39m\"\u001b[39m\u001b[39mIt seems you tried to provide the parameters as an argument to the module when the module was not stateless. \u001b[39m\u001b[39m\"\u001b[39m\n\u001b[0;32m    439\u001b[0m         \u001b[39m\"\u001b[39m\u001b[39mIf this is the case, this error should vanish by providing the parameters using the ``module(..., params=params)`` \u001b[39m\u001b[39m\"\u001b[39m\n\u001b[0;32m    440\u001b[0m         \u001b[39m\"\u001b[39m\u001b[39msyntax.\u001b[39m\u001b[39m\"\u001b[39m\n\u001b[0;32m    441\u001b[0m     ) \u001b[39mfrom\u001b[39;00m \u001b[39merr\u001b[39;00m\n\u001b[0;32m    442\u001b[0m \u001b[39melse\u001b[39;00m:\n\u001b[1;32m--> 443\u001b[0m     \u001b[39mraise\u001b[39;00m err\n",
      "File \u001b[1;32mc:\\Users\\rifat\\miniconda3\\envs\\tf\\lib\\site-packages\\tensordict\\nn\\functional_modules.py:431\u001b[0m, in \u001b[0;36m_make_decorator.<locals>.new_fun\u001b[1;34m(self, *args, **kwargs)\u001b[0m\n\u001b[0;32m    429\u001b[0m \u001b[39melse\u001b[39;00m:\n\u001b[0;32m    430\u001b[0m     \u001b[39mtry\u001b[39;00m:\n\u001b[1;32m--> 431\u001b[0m         \u001b[39mreturn\u001b[39;00m \u001b[39mgetattr\u001b[39;49m(\u001b[39mtype\u001b[39;49m(\u001b[39mself\u001b[39;49m), fun_name)(\u001b[39mself\u001b[39;49m, \u001b[39m*\u001b[39;49margs, \u001b[39m*\u001b[39;49m\u001b[39m*\u001b[39;49mkwargs)\n\u001b[0;32m    432\u001b[0m     \u001b[39mexcept\u001b[39;00m \u001b[39mTypeError\u001b[39;00m \u001b[39mas\u001b[39;00m err:\n\u001b[0;32m    433\u001b[0m         pattern \u001b[39m=\u001b[39m \u001b[39mr\u001b[39m\u001b[39m\"\u001b[39m\u001b[39m.*takes \u001b[39m\u001b[39m\\\u001b[39m\u001b[39md+ positional arguments but \u001b[39m\u001b[39m\\\u001b[39m\u001b[39md+ were given|got multiple values for argument\u001b[39m\u001b[39m\"\u001b[39m\n",
      "File \u001b[1;32mc:\\Users\\rifat\\miniconda3\\envs\\tf\\lib\\site-packages\\tensordict\\nn\\common.py:270\u001b[0m, in \u001b[0;36mdispatch.__call__.<locals>.wrapper\u001b[1;34m(_self, *args, **kwargs)\u001b[0m\n\u001b[0;32m    262\u001b[0m             \u001b[39mraise\u001b[39;00m \u001b[39mKeyError\u001b[39;00m(\n\u001b[0;32m    263\u001b[0m                 \u001b[39mf\u001b[39m\u001b[39m\"\u001b[39m\u001b[39mThe key \u001b[39m\u001b[39m{\u001b[39;00mexpected_key\u001b[39m}\u001b[39;00m\u001b[39m wasn\u001b[39m\u001b[39m'\u001b[39m\u001b[39mt found in the keyword arguments \u001b[39m\u001b[39m\"\u001b[39m\n\u001b[0;32m    264\u001b[0m                 \u001b[39mf\u001b[39m\u001b[39m\"\u001b[39m\u001b[39mbut is expected to execute that function.\u001b[39m\u001b[39m\"\u001b[39m\n\u001b[0;32m    265\u001b[0m             )\n\u001b[0;32m    266\u001b[0m tensordict \u001b[39m=\u001b[39m make_tensordict(\n\u001b[0;32m    267\u001b[0m     tensordict_values,\n\u001b[0;32m    268\u001b[0m     batch_size\u001b[39m=\u001b[39mtorch\u001b[39m.\u001b[39mSize([]) \u001b[39mif\u001b[39;00m \u001b[39mnot\u001b[39;00m \u001b[39mself\u001b[39m\u001b[39m.\u001b[39mauto_batch_size \u001b[39melse\u001b[39;00m \u001b[39mNone\u001b[39;00m,\n\u001b[0;32m    269\u001b[0m )\n\u001b[1;32m--> 270\u001b[0m out \u001b[39m=\u001b[39m func(_self, tensordict, \u001b[39m*\u001b[39;49margs, \u001b[39m*\u001b[39;49m\u001b[39m*\u001b[39;49mkwargs)\n\u001b[0;32m    271\u001b[0m out \u001b[39m=\u001b[39m \u001b[39mtuple\u001b[39m(out[key] \u001b[39mfor\u001b[39;00m key \u001b[39min\u001b[39;00m dest)\n\u001b[0;32m    272\u001b[0m \u001b[39mreturn\u001b[39;00m out[\u001b[39m0\u001b[39m] \u001b[39mif\u001b[39;00m \u001b[39mlen\u001b[39m(out) \u001b[39m==\u001b[39m \u001b[39m1\u001b[39m \u001b[39melse\u001b[39;00m out\n",
      "File \u001b[1;32mc:\\Users\\rifat\\miniconda3\\envs\\tf\\lib\\site-packages\\tensordict\\_contextlib.py:126\u001b[0m, in \u001b[0;36mcontext_decorator.<locals>.decorate_context\u001b[1;34m(*args, **kwargs)\u001b[0m\n\u001b[0;32m    123\u001b[0m \u001b[39m@functools\u001b[39m\u001b[39m.\u001b[39mwraps(func)\n\u001b[0;32m    124\u001b[0m \u001b[39mdef\u001b[39;00m \u001b[39mdecorate_context\u001b[39m(\u001b[39m*\u001b[39margs, \u001b[39m*\u001b[39m\u001b[39m*\u001b[39mkwargs):\n\u001b[0;32m    125\u001b[0m     \u001b[39mwith\u001b[39;00m ctx_factory():\n\u001b[1;32m--> 126\u001b[0m         \u001b[39mreturn\u001b[39;00m func(\u001b[39m*\u001b[39;49margs, \u001b[39m*\u001b[39;49m\u001b[39m*\u001b[39;49mkwargs)\n",
      "File \u001b[1;32mc:\\Users\\rifat\\miniconda3\\envs\\tf\\lib\\site-packages\\tensordict\\nn\\utils.py:253\u001b[0m, in \u001b[0;36mset_skip_existing.__call__.<locals>.wrapper\u001b[1;34m(_self, tensordict, *args, **kwargs)\u001b[0m\n\u001b[0;32m    247\u001b[0m \u001b[39mif\u001b[39;00m (\n\u001b[0;32m    248\u001b[0m     skip_existing()\n\u001b[0;32m    249\u001b[0m     \u001b[39mand\u001b[39;00m \u001b[39mall\u001b[39m(key \u001b[39min\u001b[39;00m tensordict\u001b[39m.\u001b[39mkeys(\u001b[39mTrue\u001b[39;00m) \u001b[39mfor\u001b[39;00m key \u001b[39min\u001b[39;00m out_keys)\n\u001b[0;32m    250\u001b[0m     \u001b[39mand\u001b[39;00m \u001b[39mnot\u001b[39;00m \u001b[39many\u001b[39m(key \u001b[39min\u001b[39;00m out_keys \u001b[39mfor\u001b[39;00m key \u001b[39min\u001b[39;00m in_keys)\n\u001b[0;32m    251\u001b[0m ):\n\u001b[0;32m    252\u001b[0m     \u001b[39mreturn\u001b[39;00m tensordict\n\u001b[1;32m--> 253\u001b[0m \u001b[39mreturn\u001b[39;00m func(_self, tensordict, \u001b[39m*\u001b[39;49margs, \u001b[39m*\u001b[39;49m\u001b[39m*\u001b[39;49mkwargs)\n",
      "File \u001b[1;32mc:\\Users\\rifat\\miniconda3\\envs\\tf\\lib\\site-packages\\tensordict\\nn\\probabilistic.py:511\u001b[0m, in \u001b[0;36mProbabilisticTensorDictSequential.forward\u001b[1;34m(self, tensordict, tensordict_out, **kwargs)\u001b[0m\n\u001b[0;32m    503\u001b[0m \u001b[39m@dispatch\u001b[39m(auto_batch_size\u001b[39m=\u001b[39m\u001b[39mFalse\u001b[39;00m)\n\u001b[0;32m    504\u001b[0m \u001b[39m@set_skip_existing\u001b[39m(\u001b[39mNone\u001b[39;00m)\n\u001b[0;32m    505\u001b[0m \u001b[39mdef\u001b[39;00m \u001b[39mforward\u001b[39m(\n\u001b[1;32m   (...)\u001b[0m\n\u001b[0;32m    509\u001b[0m     \u001b[39m*\u001b[39m\u001b[39m*\u001b[39mkwargs,\n\u001b[0;32m    510\u001b[0m ) \u001b[39m-\u001b[39m\u001b[39m>\u001b[39m TensorDictBase:\n\u001b[1;32m--> 511\u001b[0m     tensordict_out \u001b[39m=\u001b[39m \u001b[39mself\u001b[39;49m\u001b[39m.\u001b[39;49mget_dist_params(tensordict, tensordict_out, \u001b[39m*\u001b[39;49m\u001b[39m*\u001b[39;49mkwargs)\n\u001b[0;32m    512\u001b[0m     \u001b[39mreturn\u001b[39;00m \u001b[39mself\u001b[39m\u001b[39m.\u001b[39mmodule[\u001b[39m-\u001b[39m\u001b[39m1\u001b[39m](tensordict_out, _requires_sample\u001b[39m=\u001b[39m\u001b[39mself\u001b[39m\u001b[39m.\u001b[39m_requires_sample)\n",
      "File \u001b[1;32mc:\\Users\\rifat\\miniconda3\\envs\\tf\\lib\\site-packages\\tensordict\\nn\\probabilistic.py:487\u001b[0m, in \u001b[0;36mProbabilisticTensorDictSequential.get_dist_params\u001b[1;34m(self, tensordict, tensordict_out, **kwargs)\u001b[0m\n\u001b[0;32m    485\u001b[0m     \u001b[39mtype\u001b[39m \u001b[39m=\u001b[39m \u001b[39mself\u001b[39m\u001b[39m.\u001b[39mmodule[\u001b[39m-\u001b[39m\u001b[39m1\u001b[39m]\u001b[39m.\u001b[39mdefault_interaction_type\n\u001b[0;32m    486\u001b[0m \u001b[39mwith\u001b[39;00m set_interaction_type(\u001b[39mtype\u001b[39m):\n\u001b[1;32m--> 487\u001b[0m     \u001b[39mreturn\u001b[39;00m tds(tensordict, tensordict_out, \u001b[39m*\u001b[39;49m\u001b[39m*\u001b[39;49mkwargs)\n",
      "File \u001b[1;32mc:\\Users\\rifat\\miniconda3\\envs\\tf\\lib\\site-packages\\torch\\nn\\modules\\module.py:1501\u001b[0m, in \u001b[0;36mModule._call_impl\u001b[1;34m(self, *args, **kwargs)\u001b[0m\n\u001b[0;32m   1496\u001b[0m \u001b[39m# If we don't have any hooks, we want to skip the rest of the logic in\u001b[39;00m\n\u001b[0;32m   1497\u001b[0m \u001b[39m# this function, and just call forward.\u001b[39;00m\n\u001b[0;32m   1498\u001b[0m \u001b[39mif\u001b[39;00m \u001b[39mnot\u001b[39;00m (\u001b[39mself\u001b[39m\u001b[39m.\u001b[39m_backward_hooks \u001b[39mor\u001b[39;00m \u001b[39mself\u001b[39m\u001b[39m.\u001b[39m_backward_pre_hooks \u001b[39mor\u001b[39;00m \u001b[39mself\u001b[39m\u001b[39m.\u001b[39m_forward_hooks \u001b[39mor\u001b[39;00m \u001b[39mself\u001b[39m\u001b[39m.\u001b[39m_forward_pre_hooks\n\u001b[0;32m   1499\u001b[0m         \u001b[39mor\u001b[39;00m _global_backward_pre_hooks \u001b[39mor\u001b[39;00m _global_backward_hooks\n\u001b[0;32m   1500\u001b[0m         \u001b[39mor\u001b[39;00m _global_forward_hooks \u001b[39mor\u001b[39;00m _global_forward_pre_hooks):\n\u001b[1;32m-> 1501\u001b[0m     \u001b[39mreturn\u001b[39;00m forward_call(\u001b[39m*\u001b[39;49margs, \u001b[39m*\u001b[39;49m\u001b[39m*\u001b[39;49mkwargs)\n\u001b[0;32m   1502\u001b[0m \u001b[39m# Do not call functions when jit is used\u001b[39;00m\n\u001b[0;32m   1503\u001b[0m full_backward_hooks, non_full_backward_hooks \u001b[39m=\u001b[39m [], []\n",
      "File \u001b[1;32mc:\\Users\\rifat\\miniconda3\\envs\\tf\\lib\\site-packages\\tensordict\\nn\\functional_modules.py:443\u001b[0m, in \u001b[0;36m_make_decorator.<locals>.new_fun\u001b[1;34m(self, *args, **kwargs)\u001b[0m\n\u001b[0;32m    437\u001b[0m     \u001b[39mraise\u001b[39;00m \u001b[39mTypeError\u001b[39;00m(\n\u001b[0;32m    438\u001b[0m         \u001b[39m\"\u001b[39m\u001b[39mIt seems you tried to provide the parameters as an argument to the module when the module was not stateless. \u001b[39m\u001b[39m\"\u001b[39m\n\u001b[0;32m    439\u001b[0m         \u001b[39m\"\u001b[39m\u001b[39mIf this is the case, this error should vanish by providing the parameters using the ``module(..., params=params)`` \u001b[39m\u001b[39m\"\u001b[39m\n\u001b[0;32m    440\u001b[0m         \u001b[39m\"\u001b[39m\u001b[39msyntax.\u001b[39m\u001b[39m\"\u001b[39m\n\u001b[0;32m    441\u001b[0m     ) \u001b[39mfrom\u001b[39;00m \u001b[39merr\u001b[39;00m\n\u001b[0;32m    442\u001b[0m \u001b[39melse\u001b[39;00m:\n\u001b[1;32m--> 443\u001b[0m     \u001b[39mraise\u001b[39;00m err\n",
      "File \u001b[1;32mc:\\Users\\rifat\\miniconda3\\envs\\tf\\lib\\site-packages\\tensordict\\nn\\functional_modules.py:431\u001b[0m, in \u001b[0;36m_make_decorator.<locals>.new_fun\u001b[1;34m(self, *args, **kwargs)\u001b[0m\n\u001b[0;32m    429\u001b[0m \u001b[39melse\u001b[39;00m:\n\u001b[0;32m    430\u001b[0m     \u001b[39mtry\u001b[39;00m:\n\u001b[1;32m--> 431\u001b[0m         \u001b[39mreturn\u001b[39;00m \u001b[39mgetattr\u001b[39;49m(\u001b[39mtype\u001b[39;49m(\u001b[39mself\u001b[39;49m), fun_name)(\u001b[39mself\u001b[39;49m, \u001b[39m*\u001b[39;49margs, \u001b[39m*\u001b[39;49m\u001b[39m*\u001b[39;49mkwargs)\n\u001b[0;32m    432\u001b[0m     \u001b[39mexcept\u001b[39;00m \u001b[39mTypeError\u001b[39;00m \u001b[39mas\u001b[39;00m err:\n\u001b[0;32m    433\u001b[0m         pattern \u001b[39m=\u001b[39m \u001b[39mr\u001b[39m\u001b[39m\"\u001b[39m\u001b[39m.*takes \u001b[39m\u001b[39m\\\u001b[39m\u001b[39md+ positional arguments but \u001b[39m\u001b[39m\\\u001b[39m\u001b[39md+ were given|got multiple values for argument\u001b[39m\u001b[39m\"\u001b[39m\n",
      "File \u001b[1;32mc:\\Users\\rifat\\miniconda3\\envs\\tf\\lib\\site-packages\\tensordict\\nn\\common.py:273\u001b[0m, in \u001b[0;36mdispatch.__call__.<locals>.wrapper\u001b[1;34m(_self, *args, **kwargs)\u001b[0m\n\u001b[0;32m    271\u001b[0m     out \u001b[39m=\u001b[39m \u001b[39mtuple\u001b[39m(out[key] \u001b[39mfor\u001b[39;00m key \u001b[39min\u001b[39;00m dest)\n\u001b[0;32m    272\u001b[0m     \u001b[39mreturn\u001b[39;00m out[\u001b[39m0\u001b[39m] \u001b[39mif\u001b[39;00m \u001b[39mlen\u001b[39m(out) \u001b[39m==\u001b[39m \u001b[39m1\u001b[39m \u001b[39melse\u001b[39;00m out\n\u001b[1;32m--> 273\u001b[0m \u001b[39mreturn\u001b[39;00m func(_self, tensordict, \u001b[39m*\u001b[39;49margs, \u001b[39m*\u001b[39;49m\u001b[39m*\u001b[39;49mkwargs)\n",
      "File \u001b[1;32mc:\\Users\\rifat\\miniconda3\\envs\\tf\\lib\\site-packages\\tensordict\\_contextlib.py:126\u001b[0m, in \u001b[0;36mcontext_decorator.<locals>.decorate_context\u001b[1;34m(*args, **kwargs)\u001b[0m\n\u001b[0;32m    123\u001b[0m \u001b[39m@functools\u001b[39m\u001b[39m.\u001b[39mwraps(func)\n\u001b[0;32m    124\u001b[0m \u001b[39mdef\u001b[39;00m \u001b[39mdecorate_context\u001b[39m(\u001b[39m*\u001b[39margs, \u001b[39m*\u001b[39m\u001b[39m*\u001b[39mkwargs):\n\u001b[0;32m    125\u001b[0m     \u001b[39mwith\u001b[39;00m ctx_factory():\n\u001b[1;32m--> 126\u001b[0m         \u001b[39mreturn\u001b[39;00m func(\u001b[39m*\u001b[39;49margs, \u001b[39m*\u001b[39;49m\u001b[39m*\u001b[39;49mkwargs)\n",
      "File \u001b[1;32mc:\\Users\\rifat\\miniconda3\\envs\\tf\\lib\\site-packages\\tensordict\\nn\\utils.py:253\u001b[0m, in \u001b[0;36mset_skip_existing.__call__.<locals>.wrapper\u001b[1;34m(_self, tensordict, *args, **kwargs)\u001b[0m\n\u001b[0;32m    247\u001b[0m \u001b[39mif\u001b[39;00m (\n\u001b[0;32m    248\u001b[0m     skip_existing()\n\u001b[0;32m    249\u001b[0m     \u001b[39mand\u001b[39;00m \u001b[39mall\u001b[39m(key \u001b[39min\u001b[39;00m tensordict\u001b[39m.\u001b[39mkeys(\u001b[39mTrue\u001b[39;00m) \u001b[39mfor\u001b[39;00m key \u001b[39min\u001b[39;00m out_keys)\n\u001b[0;32m    250\u001b[0m     \u001b[39mand\u001b[39;00m \u001b[39mnot\u001b[39;00m \u001b[39many\u001b[39m(key \u001b[39min\u001b[39;00m out_keys \u001b[39mfor\u001b[39;00m key \u001b[39min\u001b[39;00m in_keys)\n\u001b[0;32m    251\u001b[0m ):\n\u001b[0;32m    252\u001b[0m     \u001b[39mreturn\u001b[39;00m tensordict\n\u001b[1;32m--> 253\u001b[0m \u001b[39mreturn\u001b[39;00m func(_self, tensordict, \u001b[39m*\u001b[39;49margs, \u001b[39m*\u001b[39;49m\u001b[39m*\u001b[39;49mkwargs)\n",
      "File \u001b[1;32mc:\\Users\\rifat\\miniconda3\\envs\\tf\\lib\\site-packages\\tensordict\\nn\\sequence.py:427\u001b[0m, in \u001b[0;36mTensorDictSequential.forward\u001b[1;34m(self, tensordict, tensordict_out, **kwargs)\u001b[0m\n\u001b[0;32m    425\u001b[0m \u001b[39mif\u001b[39;00m \u001b[39mnot\u001b[39;00m \u001b[39mlen\u001b[39m(kwargs):\n\u001b[0;32m    426\u001b[0m     \u001b[39mfor\u001b[39;00m module \u001b[39min\u001b[39;00m \u001b[39mself\u001b[39m\u001b[39m.\u001b[39mmodule:\n\u001b[1;32m--> 427\u001b[0m         tensordict \u001b[39m=\u001b[39m \u001b[39mself\u001b[39;49m\u001b[39m.\u001b[39;49m_run_module(module, tensordict, \u001b[39m*\u001b[39;49m\u001b[39m*\u001b[39;49mkwargs)\n\u001b[0;32m    428\u001b[0m \u001b[39melse\u001b[39;00m:\n\u001b[0;32m    429\u001b[0m     \u001b[39mraise\u001b[39;00m \u001b[39mRuntimeError\u001b[39;00m(\n\u001b[0;32m    430\u001b[0m         \u001b[39mf\u001b[39m\u001b[39m\"\u001b[39m\u001b[39mTensorDictSequential does not support keyword arguments other than \u001b[39m\u001b[39m'\u001b[39m\u001b[39mtensordict_out\u001b[39m\u001b[39m'\u001b[39m\u001b[39m or in_keys: \u001b[39m\u001b[39m{\u001b[39;00m\u001b[39mself\u001b[39m\u001b[39m.\u001b[39min_keys\u001b[39m}\u001b[39;00m\u001b[39m. Got \u001b[39m\u001b[39m{\u001b[39;00mkwargs\u001b[39m.\u001b[39mkeys()\u001b[39m}\u001b[39;00m\u001b[39m instead.\u001b[39m\u001b[39m\"\u001b[39m\n\u001b[0;32m    431\u001b[0m     )\n",
      "File \u001b[1;32mc:\\Users\\rifat\\miniconda3\\envs\\tf\\lib\\site-packages\\tensordict\\nn\\sequence.py:407\u001b[0m, in \u001b[0;36mTensorDictSequential._run_module\u001b[1;34m(self, module, tensordict, **kwargs)\u001b[0m\n\u001b[0;32m    398\u001b[0m \u001b[39mdef\u001b[39;00m \u001b[39m_run_module\u001b[39m(\n\u001b[0;32m    399\u001b[0m     \u001b[39mself\u001b[39m,\n\u001b[0;32m    400\u001b[0m     module: TensorDictModule,\n\u001b[0;32m    401\u001b[0m     tensordict: TensorDictBase,\n\u001b[0;32m    402\u001b[0m     \u001b[39m*\u001b[39m\u001b[39m*\u001b[39mkwargs: Any,\n\u001b[0;32m    403\u001b[0m ) \u001b[39m-\u001b[39m\u001b[39m>\u001b[39m Any:\n\u001b[0;32m    404\u001b[0m     \u001b[39mif\u001b[39;00m \u001b[39mnot\u001b[39;00m \u001b[39mself\u001b[39m\u001b[39m.\u001b[39mpartial_tolerant \u001b[39mor\u001b[39;00m \u001b[39mall\u001b[39m(\n\u001b[0;32m    405\u001b[0m         key \u001b[39min\u001b[39;00m tensordict\u001b[39m.\u001b[39mkeys(include_nested\u001b[39m=\u001b[39m\u001b[39mTrue\u001b[39;00m) \u001b[39mfor\u001b[39;00m key \u001b[39min\u001b[39;00m module\u001b[39m.\u001b[39min_keys\n\u001b[0;32m    406\u001b[0m     ):\n\u001b[1;32m--> 407\u001b[0m         tensordict \u001b[39m=\u001b[39m module(tensordict, \u001b[39m*\u001b[39;49m\u001b[39m*\u001b[39;49mkwargs)\n\u001b[0;32m    408\u001b[0m     \u001b[39melif\u001b[39;00m \u001b[39mself\u001b[39m\u001b[39m.\u001b[39mpartial_tolerant \u001b[39mand\u001b[39;00m \u001b[39misinstance\u001b[39m(tensordict, LazyStackedTensorDict):\n\u001b[0;32m    409\u001b[0m         \u001b[39mfor\u001b[39;00m sub_td \u001b[39min\u001b[39;00m tensordict\u001b[39m.\u001b[39mtensordicts:\n",
      "File \u001b[1;32mc:\\Users\\rifat\\miniconda3\\envs\\tf\\lib\\site-packages\\torch\\nn\\modules\\module.py:1501\u001b[0m, in \u001b[0;36mModule._call_impl\u001b[1;34m(self, *args, **kwargs)\u001b[0m\n\u001b[0;32m   1496\u001b[0m \u001b[39m# If we don't have any hooks, we want to skip the rest of the logic in\u001b[39;00m\n\u001b[0;32m   1497\u001b[0m \u001b[39m# this function, and just call forward.\u001b[39;00m\n\u001b[0;32m   1498\u001b[0m \u001b[39mif\u001b[39;00m \u001b[39mnot\u001b[39;00m (\u001b[39mself\u001b[39m\u001b[39m.\u001b[39m_backward_hooks \u001b[39mor\u001b[39;00m \u001b[39mself\u001b[39m\u001b[39m.\u001b[39m_backward_pre_hooks \u001b[39mor\u001b[39;00m \u001b[39mself\u001b[39m\u001b[39m.\u001b[39m_forward_hooks \u001b[39mor\u001b[39;00m \u001b[39mself\u001b[39m\u001b[39m.\u001b[39m_forward_pre_hooks\n\u001b[0;32m   1499\u001b[0m         \u001b[39mor\u001b[39;00m _global_backward_pre_hooks \u001b[39mor\u001b[39;00m _global_backward_hooks\n\u001b[0;32m   1500\u001b[0m         \u001b[39mor\u001b[39;00m _global_forward_hooks \u001b[39mor\u001b[39;00m _global_forward_pre_hooks):\n\u001b[1;32m-> 1501\u001b[0m     \u001b[39mreturn\u001b[39;00m forward_call(\u001b[39m*\u001b[39;49margs, \u001b[39m*\u001b[39;49m\u001b[39m*\u001b[39;49mkwargs)\n\u001b[0;32m   1502\u001b[0m \u001b[39m# Do not call functions when jit is used\u001b[39;00m\n\u001b[0;32m   1503\u001b[0m full_backward_hooks, non_full_backward_hooks \u001b[39m=\u001b[39m [], []\n",
      "File \u001b[1;32mc:\\Users\\rifat\\miniconda3\\envs\\tf\\lib\\site-packages\\tensordict\\nn\\functional_modules.py:443\u001b[0m, in \u001b[0;36m_make_decorator.<locals>.new_fun\u001b[1;34m(self, *args, **kwargs)\u001b[0m\n\u001b[0;32m    437\u001b[0m     \u001b[39mraise\u001b[39;00m \u001b[39mTypeError\u001b[39;00m(\n\u001b[0;32m    438\u001b[0m         \u001b[39m\"\u001b[39m\u001b[39mIt seems you tried to provide the parameters as an argument to the module when the module was not stateless. \u001b[39m\u001b[39m\"\u001b[39m\n\u001b[0;32m    439\u001b[0m         \u001b[39m\"\u001b[39m\u001b[39mIf this is the case, this error should vanish by providing the parameters using the ``module(..., params=params)`` \u001b[39m\u001b[39m\"\u001b[39m\n\u001b[0;32m    440\u001b[0m         \u001b[39m\"\u001b[39m\u001b[39msyntax.\u001b[39m\u001b[39m\"\u001b[39m\n\u001b[0;32m    441\u001b[0m     ) \u001b[39mfrom\u001b[39;00m \u001b[39merr\u001b[39;00m\n\u001b[0;32m    442\u001b[0m \u001b[39melse\u001b[39;00m:\n\u001b[1;32m--> 443\u001b[0m     \u001b[39mraise\u001b[39;00m err\n",
      "File \u001b[1;32mc:\\Users\\rifat\\miniconda3\\envs\\tf\\lib\\site-packages\\tensordict\\nn\\functional_modules.py:431\u001b[0m, in \u001b[0;36m_make_decorator.<locals>.new_fun\u001b[1;34m(self, *args, **kwargs)\u001b[0m\n\u001b[0;32m    429\u001b[0m \u001b[39melse\u001b[39;00m:\n\u001b[0;32m    430\u001b[0m     \u001b[39mtry\u001b[39;00m:\n\u001b[1;32m--> 431\u001b[0m         \u001b[39mreturn\u001b[39;00m \u001b[39mgetattr\u001b[39;49m(\u001b[39mtype\u001b[39;49m(\u001b[39mself\u001b[39;49m), fun_name)(\u001b[39mself\u001b[39;49m, \u001b[39m*\u001b[39;49margs, \u001b[39m*\u001b[39;49m\u001b[39m*\u001b[39;49mkwargs)\n\u001b[0;32m    432\u001b[0m     \u001b[39mexcept\u001b[39;00m \u001b[39mTypeError\u001b[39;00m \u001b[39mas\u001b[39;00m err:\n\u001b[0;32m    433\u001b[0m         pattern \u001b[39m=\u001b[39m \u001b[39mr\u001b[39m\u001b[39m\"\u001b[39m\u001b[39m.*takes \u001b[39m\u001b[39m\\\u001b[39m\u001b[39md+ positional arguments but \u001b[39m\u001b[39m\\\u001b[39m\u001b[39md+ were given|got multiple values for argument\u001b[39m\u001b[39m\"\u001b[39m\n",
      "File \u001b[1;32mc:\\Users\\rifat\\miniconda3\\envs\\tf\\lib\\site-packages\\tensordict\\nn\\common.py:273\u001b[0m, in \u001b[0;36mdispatch.__call__.<locals>.wrapper\u001b[1;34m(_self, *args, **kwargs)\u001b[0m\n\u001b[0;32m    271\u001b[0m     out \u001b[39m=\u001b[39m \u001b[39mtuple\u001b[39m(out[key] \u001b[39mfor\u001b[39;00m key \u001b[39min\u001b[39;00m dest)\n\u001b[0;32m    272\u001b[0m     \u001b[39mreturn\u001b[39;00m out[\u001b[39m0\u001b[39m] \u001b[39mif\u001b[39;00m \u001b[39mlen\u001b[39m(out) \u001b[39m==\u001b[39m \u001b[39m1\u001b[39m \u001b[39melse\u001b[39;00m out\n\u001b[1;32m--> 273\u001b[0m \u001b[39mreturn\u001b[39;00m func(_self, tensordict, \u001b[39m*\u001b[39;49margs, \u001b[39m*\u001b[39;49m\u001b[39m*\u001b[39;49mkwargs)\n",
      "File \u001b[1;32mc:\\Users\\rifat\\miniconda3\\envs\\tf\\lib\\site-packages\\tensordict\\_contextlib.py:126\u001b[0m, in \u001b[0;36mcontext_decorator.<locals>.decorate_context\u001b[1;34m(*args, **kwargs)\u001b[0m\n\u001b[0;32m    123\u001b[0m \u001b[39m@functools\u001b[39m\u001b[39m.\u001b[39mwraps(func)\n\u001b[0;32m    124\u001b[0m \u001b[39mdef\u001b[39;00m \u001b[39mdecorate_context\u001b[39m(\u001b[39m*\u001b[39margs, \u001b[39m*\u001b[39m\u001b[39m*\u001b[39mkwargs):\n\u001b[0;32m    125\u001b[0m     \u001b[39mwith\u001b[39;00m ctx_factory():\n\u001b[1;32m--> 126\u001b[0m         \u001b[39mreturn\u001b[39;00m func(\u001b[39m*\u001b[39;49margs, \u001b[39m*\u001b[39;49m\u001b[39m*\u001b[39;49mkwargs)\n",
      "File \u001b[1;32mc:\\Users\\rifat\\miniconda3\\envs\\tf\\lib\\site-packages\\tensordict\\nn\\utils.py:253\u001b[0m, in \u001b[0;36mset_skip_existing.__call__.<locals>.wrapper\u001b[1;34m(_self, tensordict, *args, **kwargs)\u001b[0m\n\u001b[0;32m    247\u001b[0m \u001b[39mif\u001b[39;00m (\n\u001b[0;32m    248\u001b[0m     skip_existing()\n\u001b[0;32m    249\u001b[0m     \u001b[39mand\u001b[39;00m \u001b[39mall\u001b[39m(key \u001b[39min\u001b[39;00m tensordict\u001b[39m.\u001b[39mkeys(\u001b[39mTrue\u001b[39;00m) \u001b[39mfor\u001b[39;00m key \u001b[39min\u001b[39;00m out_keys)\n\u001b[0;32m    250\u001b[0m     \u001b[39mand\u001b[39;00m \u001b[39mnot\u001b[39;00m \u001b[39many\u001b[39m(key \u001b[39min\u001b[39;00m out_keys \u001b[39mfor\u001b[39;00m key \u001b[39min\u001b[39;00m in_keys)\n\u001b[0;32m    251\u001b[0m ):\n\u001b[0;32m    252\u001b[0m     \u001b[39mreturn\u001b[39;00m tensordict\n\u001b[1;32m--> 253\u001b[0m \u001b[39mreturn\u001b[39;00m func(_self, tensordict, \u001b[39m*\u001b[39;49margs, \u001b[39m*\u001b[39;49m\u001b[39m*\u001b[39;49mkwargs)\n",
      "File \u001b[1;32mc:\\Users\\rifat\\miniconda3\\envs\\tf\\lib\\site-packages\\tensordict\\nn\\probabilistic.py:511\u001b[0m, in \u001b[0;36mProbabilisticTensorDictSequential.forward\u001b[1;34m(self, tensordict, tensordict_out, **kwargs)\u001b[0m\n\u001b[0;32m    503\u001b[0m \u001b[39m@dispatch\u001b[39m(auto_batch_size\u001b[39m=\u001b[39m\u001b[39mFalse\u001b[39;00m)\n\u001b[0;32m    504\u001b[0m \u001b[39m@set_skip_existing\u001b[39m(\u001b[39mNone\u001b[39;00m)\n\u001b[0;32m    505\u001b[0m \u001b[39mdef\u001b[39;00m \u001b[39mforward\u001b[39m(\n\u001b[1;32m   (...)\u001b[0m\n\u001b[0;32m    509\u001b[0m     \u001b[39m*\u001b[39m\u001b[39m*\u001b[39mkwargs,\n\u001b[0;32m    510\u001b[0m ) \u001b[39m-\u001b[39m\u001b[39m>\u001b[39m TensorDictBase:\n\u001b[1;32m--> 511\u001b[0m     tensordict_out \u001b[39m=\u001b[39m \u001b[39mself\u001b[39;49m\u001b[39m.\u001b[39;49mget_dist_params(tensordict, tensordict_out, \u001b[39m*\u001b[39;49m\u001b[39m*\u001b[39;49mkwargs)\n\u001b[0;32m    512\u001b[0m     \u001b[39mreturn\u001b[39;00m \u001b[39mself\u001b[39m\u001b[39m.\u001b[39mmodule[\u001b[39m-\u001b[39m\u001b[39m1\u001b[39m](tensordict_out, _requires_sample\u001b[39m=\u001b[39m\u001b[39mself\u001b[39m\u001b[39m.\u001b[39m_requires_sample)\n",
      "File \u001b[1;32mc:\\Users\\rifat\\miniconda3\\envs\\tf\\lib\\site-packages\\tensordict\\nn\\probabilistic.py:487\u001b[0m, in \u001b[0;36mProbabilisticTensorDictSequential.get_dist_params\u001b[1;34m(self, tensordict, tensordict_out, **kwargs)\u001b[0m\n\u001b[0;32m    485\u001b[0m     \u001b[39mtype\u001b[39m \u001b[39m=\u001b[39m \u001b[39mself\u001b[39m\u001b[39m.\u001b[39mmodule[\u001b[39m-\u001b[39m\u001b[39m1\u001b[39m]\u001b[39m.\u001b[39mdefault_interaction_type\n\u001b[0;32m    486\u001b[0m \u001b[39mwith\u001b[39;00m set_interaction_type(\u001b[39mtype\u001b[39m):\n\u001b[1;32m--> 487\u001b[0m     \u001b[39mreturn\u001b[39;00m tds(tensordict, tensordict_out, \u001b[39m*\u001b[39;49m\u001b[39m*\u001b[39;49mkwargs)\n",
      "File \u001b[1;32mc:\\Users\\rifat\\miniconda3\\envs\\tf\\lib\\site-packages\\torch\\nn\\modules\\module.py:1501\u001b[0m, in \u001b[0;36mModule._call_impl\u001b[1;34m(self, *args, **kwargs)\u001b[0m\n\u001b[0;32m   1496\u001b[0m \u001b[39m# If we don't have any hooks, we want to skip the rest of the logic in\u001b[39;00m\n\u001b[0;32m   1497\u001b[0m \u001b[39m# this function, and just call forward.\u001b[39;00m\n\u001b[0;32m   1498\u001b[0m \u001b[39mif\u001b[39;00m \u001b[39mnot\u001b[39;00m (\u001b[39mself\u001b[39m\u001b[39m.\u001b[39m_backward_hooks \u001b[39mor\u001b[39;00m \u001b[39mself\u001b[39m\u001b[39m.\u001b[39m_backward_pre_hooks \u001b[39mor\u001b[39;00m \u001b[39mself\u001b[39m\u001b[39m.\u001b[39m_forward_hooks \u001b[39mor\u001b[39;00m \u001b[39mself\u001b[39m\u001b[39m.\u001b[39m_forward_pre_hooks\n\u001b[0;32m   1499\u001b[0m         \u001b[39mor\u001b[39;00m _global_backward_pre_hooks \u001b[39mor\u001b[39;00m _global_backward_hooks\n\u001b[0;32m   1500\u001b[0m         \u001b[39mor\u001b[39;00m _global_forward_hooks \u001b[39mor\u001b[39;00m _global_forward_pre_hooks):\n\u001b[1;32m-> 1501\u001b[0m     \u001b[39mreturn\u001b[39;00m forward_call(\u001b[39m*\u001b[39;49margs, \u001b[39m*\u001b[39;49m\u001b[39m*\u001b[39;49mkwargs)\n\u001b[0;32m   1502\u001b[0m \u001b[39m# Do not call functions when jit is used\u001b[39;00m\n\u001b[0;32m   1503\u001b[0m full_backward_hooks, non_full_backward_hooks \u001b[39m=\u001b[39m [], []\n",
      "File \u001b[1;32mc:\\Users\\rifat\\miniconda3\\envs\\tf\\lib\\site-packages\\tensordict\\nn\\functional_modules.py:443\u001b[0m, in \u001b[0;36m_make_decorator.<locals>.new_fun\u001b[1;34m(self, *args, **kwargs)\u001b[0m\n\u001b[0;32m    437\u001b[0m     \u001b[39mraise\u001b[39;00m \u001b[39mTypeError\u001b[39;00m(\n\u001b[0;32m    438\u001b[0m         \u001b[39m\"\u001b[39m\u001b[39mIt seems you tried to provide the parameters as an argument to the module when the module was not stateless. \u001b[39m\u001b[39m\"\u001b[39m\n\u001b[0;32m    439\u001b[0m         \u001b[39m\"\u001b[39m\u001b[39mIf this is the case, this error should vanish by providing the parameters using the ``module(..., params=params)`` \u001b[39m\u001b[39m\"\u001b[39m\n\u001b[0;32m    440\u001b[0m         \u001b[39m\"\u001b[39m\u001b[39msyntax.\u001b[39m\u001b[39m\"\u001b[39m\n\u001b[0;32m    441\u001b[0m     ) \u001b[39mfrom\u001b[39;00m \u001b[39merr\u001b[39;00m\n\u001b[0;32m    442\u001b[0m \u001b[39melse\u001b[39;00m:\n\u001b[1;32m--> 443\u001b[0m     \u001b[39mraise\u001b[39;00m err\n",
      "File \u001b[1;32mc:\\Users\\rifat\\miniconda3\\envs\\tf\\lib\\site-packages\\tensordict\\nn\\functional_modules.py:431\u001b[0m, in \u001b[0;36m_make_decorator.<locals>.new_fun\u001b[1;34m(self, *args, **kwargs)\u001b[0m\n\u001b[0;32m    429\u001b[0m \u001b[39melse\u001b[39;00m:\n\u001b[0;32m    430\u001b[0m     \u001b[39mtry\u001b[39;00m:\n\u001b[1;32m--> 431\u001b[0m         \u001b[39mreturn\u001b[39;00m \u001b[39mgetattr\u001b[39;49m(\u001b[39mtype\u001b[39;49m(\u001b[39mself\u001b[39;49m), fun_name)(\u001b[39mself\u001b[39;49m, \u001b[39m*\u001b[39;49margs, \u001b[39m*\u001b[39;49m\u001b[39m*\u001b[39;49mkwargs)\n\u001b[0;32m    432\u001b[0m     \u001b[39mexcept\u001b[39;00m \u001b[39mTypeError\u001b[39;00m \u001b[39mas\u001b[39;00m err:\n\u001b[0;32m    433\u001b[0m         pattern \u001b[39m=\u001b[39m \u001b[39mr\u001b[39m\u001b[39m\"\u001b[39m\u001b[39m.*takes \u001b[39m\u001b[39m\\\u001b[39m\u001b[39md+ positional arguments but \u001b[39m\u001b[39m\\\u001b[39m\u001b[39md+ were given|got multiple values for argument\u001b[39m\u001b[39m\"\u001b[39m\n",
      "File \u001b[1;32mc:\\Users\\rifat\\miniconda3\\envs\\tf\\lib\\site-packages\\tensordict\\nn\\common.py:273\u001b[0m, in \u001b[0;36mdispatch.__call__.<locals>.wrapper\u001b[1;34m(_self, *args, **kwargs)\u001b[0m\n\u001b[0;32m    271\u001b[0m     out \u001b[39m=\u001b[39m \u001b[39mtuple\u001b[39m(out[key] \u001b[39mfor\u001b[39;00m key \u001b[39min\u001b[39;00m dest)\n\u001b[0;32m    272\u001b[0m     \u001b[39mreturn\u001b[39;00m out[\u001b[39m0\u001b[39m] \u001b[39mif\u001b[39;00m \u001b[39mlen\u001b[39m(out) \u001b[39m==\u001b[39m \u001b[39m1\u001b[39m \u001b[39melse\u001b[39;00m out\n\u001b[1;32m--> 273\u001b[0m \u001b[39mreturn\u001b[39;00m func(_self, tensordict, \u001b[39m*\u001b[39;49margs, \u001b[39m*\u001b[39;49m\u001b[39m*\u001b[39;49mkwargs)\n",
      "File \u001b[1;32mc:\\Users\\rifat\\miniconda3\\envs\\tf\\lib\\site-packages\\tensordict\\_contextlib.py:126\u001b[0m, in \u001b[0;36mcontext_decorator.<locals>.decorate_context\u001b[1;34m(*args, **kwargs)\u001b[0m\n\u001b[0;32m    123\u001b[0m \u001b[39m@functools\u001b[39m\u001b[39m.\u001b[39mwraps(func)\n\u001b[0;32m    124\u001b[0m \u001b[39mdef\u001b[39;00m \u001b[39mdecorate_context\u001b[39m(\u001b[39m*\u001b[39margs, \u001b[39m*\u001b[39m\u001b[39m*\u001b[39mkwargs):\n\u001b[0;32m    125\u001b[0m     \u001b[39mwith\u001b[39;00m ctx_factory():\n\u001b[1;32m--> 126\u001b[0m         \u001b[39mreturn\u001b[39;00m func(\u001b[39m*\u001b[39;49margs, \u001b[39m*\u001b[39;49m\u001b[39m*\u001b[39;49mkwargs)\n",
      "File \u001b[1;32mc:\\Users\\rifat\\miniconda3\\envs\\tf\\lib\\site-packages\\tensordict\\nn\\utils.py:253\u001b[0m, in \u001b[0;36mset_skip_existing.__call__.<locals>.wrapper\u001b[1;34m(_self, tensordict, *args, **kwargs)\u001b[0m\n\u001b[0;32m    247\u001b[0m \u001b[39mif\u001b[39;00m (\n\u001b[0;32m    248\u001b[0m     skip_existing()\n\u001b[0;32m    249\u001b[0m     \u001b[39mand\u001b[39;00m \u001b[39mall\u001b[39m(key \u001b[39min\u001b[39;00m tensordict\u001b[39m.\u001b[39mkeys(\u001b[39mTrue\u001b[39;00m) \u001b[39mfor\u001b[39;00m key \u001b[39min\u001b[39;00m out_keys)\n\u001b[0;32m    250\u001b[0m     \u001b[39mand\u001b[39;00m \u001b[39mnot\u001b[39;00m \u001b[39many\u001b[39m(key \u001b[39min\u001b[39;00m out_keys \u001b[39mfor\u001b[39;00m key \u001b[39min\u001b[39;00m in_keys)\n\u001b[0;32m    251\u001b[0m ):\n\u001b[0;32m    252\u001b[0m     \u001b[39mreturn\u001b[39;00m tensordict\n\u001b[1;32m--> 253\u001b[0m \u001b[39mreturn\u001b[39;00m func(_self, tensordict, \u001b[39m*\u001b[39;49margs, \u001b[39m*\u001b[39;49m\u001b[39m*\u001b[39;49mkwargs)\n",
      "File \u001b[1;32mc:\\Users\\rifat\\miniconda3\\envs\\tf\\lib\\site-packages\\tensordict\\nn\\sequence.py:427\u001b[0m, in \u001b[0;36mTensorDictSequential.forward\u001b[1;34m(self, tensordict, tensordict_out, **kwargs)\u001b[0m\n\u001b[0;32m    425\u001b[0m \u001b[39mif\u001b[39;00m \u001b[39mnot\u001b[39;00m \u001b[39mlen\u001b[39m(kwargs):\n\u001b[0;32m    426\u001b[0m     \u001b[39mfor\u001b[39;00m module \u001b[39min\u001b[39;00m \u001b[39mself\u001b[39m\u001b[39m.\u001b[39mmodule:\n\u001b[1;32m--> 427\u001b[0m         tensordict \u001b[39m=\u001b[39m \u001b[39mself\u001b[39;49m\u001b[39m.\u001b[39;49m_run_module(module, tensordict, \u001b[39m*\u001b[39;49m\u001b[39m*\u001b[39;49mkwargs)\n\u001b[0;32m    428\u001b[0m \u001b[39melse\u001b[39;00m:\n\u001b[0;32m    429\u001b[0m     \u001b[39mraise\u001b[39;00m \u001b[39mRuntimeError\u001b[39;00m(\n\u001b[0;32m    430\u001b[0m         \u001b[39mf\u001b[39m\u001b[39m\"\u001b[39m\u001b[39mTensorDictSequential does not support keyword arguments other than \u001b[39m\u001b[39m'\u001b[39m\u001b[39mtensordict_out\u001b[39m\u001b[39m'\u001b[39m\u001b[39m or in_keys: \u001b[39m\u001b[39m{\u001b[39;00m\u001b[39mself\u001b[39m\u001b[39m.\u001b[39min_keys\u001b[39m}\u001b[39;00m\u001b[39m. Got \u001b[39m\u001b[39m{\u001b[39;00mkwargs\u001b[39m.\u001b[39mkeys()\u001b[39m}\u001b[39;00m\u001b[39m instead.\u001b[39m\u001b[39m\"\u001b[39m\n\u001b[0;32m    431\u001b[0m     )\n",
      "File \u001b[1;32mc:\\Users\\rifat\\miniconda3\\envs\\tf\\lib\\site-packages\\tensordict\\nn\\sequence.py:407\u001b[0m, in \u001b[0;36mTensorDictSequential._run_module\u001b[1;34m(self, module, tensordict, **kwargs)\u001b[0m\n\u001b[0;32m    398\u001b[0m \u001b[39mdef\u001b[39;00m \u001b[39m_run_module\u001b[39m(\n\u001b[0;32m    399\u001b[0m     \u001b[39mself\u001b[39m,\n\u001b[0;32m    400\u001b[0m     module: TensorDictModule,\n\u001b[0;32m    401\u001b[0m     tensordict: TensorDictBase,\n\u001b[0;32m    402\u001b[0m     \u001b[39m*\u001b[39m\u001b[39m*\u001b[39mkwargs: Any,\n\u001b[0;32m    403\u001b[0m ) \u001b[39m-\u001b[39m\u001b[39m>\u001b[39m Any:\n\u001b[0;32m    404\u001b[0m     \u001b[39mif\u001b[39;00m \u001b[39mnot\u001b[39;00m \u001b[39mself\u001b[39m\u001b[39m.\u001b[39mpartial_tolerant \u001b[39mor\u001b[39;00m \u001b[39mall\u001b[39m(\n\u001b[0;32m    405\u001b[0m         key \u001b[39min\u001b[39;00m tensordict\u001b[39m.\u001b[39mkeys(include_nested\u001b[39m=\u001b[39m\u001b[39mTrue\u001b[39;00m) \u001b[39mfor\u001b[39;00m key \u001b[39min\u001b[39;00m module\u001b[39m.\u001b[39min_keys\n\u001b[0;32m    406\u001b[0m     ):\n\u001b[1;32m--> 407\u001b[0m         tensordict \u001b[39m=\u001b[39m module(tensordict, \u001b[39m*\u001b[39;49m\u001b[39m*\u001b[39;49mkwargs)\n\u001b[0;32m    408\u001b[0m     \u001b[39melif\u001b[39;00m \u001b[39mself\u001b[39m\u001b[39m.\u001b[39mpartial_tolerant \u001b[39mand\u001b[39;00m \u001b[39misinstance\u001b[39m(tensordict, LazyStackedTensorDict):\n\u001b[0;32m    409\u001b[0m         \u001b[39mfor\u001b[39;00m sub_td \u001b[39min\u001b[39;00m tensordict\u001b[39m.\u001b[39mtensordicts:\n",
      "File \u001b[1;32mc:\\Users\\rifat\\miniconda3\\envs\\tf\\lib\\site-packages\\torch\\nn\\modules\\module.py:1501\u001b[0m, in \u001b[0;36mModule._call_impl\u001b[1;34m(self, *args, **kwargs)\u001b[0m\n\u001b[0;32m   1496\u001b[0m \u001b[39m# If we don't have any hooks, we want to skip the rest of the logic in\u001b[39;00m\n\u001b[0;32m   1497\u001b[0m \u001b[39m# this function, and just call forward.\u001b[39;00m\n\u001b[0;32m   1498\u001b[0m \u001b[39mif\u001b[39;00m \u001b[39mnot\u001b[39;00m (\u001b[39mself\u001b[39m\u001b[39m.\u001b[39m_backward_hooks \u001b[39mor\u001b[39;00m \u001b[39mself\u001b[39m\u001b[39m.\u001b[39m_backward_pre_hooks \u001b[39mor\u001b[39;00m \u001b[39mself\u001b[39m\u001b[39m.\u001b[39m_forward_hooks \u001b[39mor\u001b[39;00m \u001b[39mself\u001b[39m\u001b[39m.\u001b[39m_forward_pre_hooks\n\u001b[0;32m   1499\u001b[0m         \u001b[39mor\u001b[39;00m _global_backward_pre_hooks \u001b[39mor\u001b[39;00m _global_backward_hooks\n\u001b[0;32m   1500\u001b[0m         \u001b[39mor\u001b[39;00m _global_forward_hooks \u001b[39mor\u001b[39;00m _global_forward_pre_hooks):\n\u001b[1;32m-> 1501\u001b[0m     \u001b[39mreturn\u001b[39;00m forward_call(\u001b[39m*\u001b[39;49margs, \u001b[39m*\u001b[39;49m\u001b[39m*\u001b[39;49mkwargs)\n\u001b[0;32m   1502\u001b[0m \u001b[39m# Do not call functions when jit is used\u001b[39;00m\n\u001b[0;32m   1503\u001b[0m full_backward_hooks, non_full_backward_hooks \u001b[39m=\u001b[39m [], []\n",
      "File \u001b[1;32mc:\\Users\\rifat\\miniconda3\\envs\\tf\\lib\\site-packages\\tensordict\\nn\\functional_modules.py:437\u001b[0m, in \u001b[0;36m_make_decorator.<locals>.new_fun\u001b[1;34m(self, *args, **kwargs)\u001b[0m\n\u001b[0;32m    434\u001b[0m pattern \u001b[39m=\u001b[39m re\u001b[39m.\u001b[39mcompile(pattern)\n\u001b[0;32m    435\u001b[0m \u001b[39mif\u001b[39;00m pattern\u001b[39m.\u001b[39msearch(\u001b[39mstr\u001b[39m(err)) \u001b[39mand\u001b[39;00m \u001b[39misinstance\u001b[39m(args[\u001b[39m-\u001b[39m\u001b[39m1\u001b[39m], TensorDictBase):\n\u001b[0;32m    436\u001b[0m     \u001b[39m# this is raised whenever the module is an nn.Module (not a TensorDictModuleBase)\u001b[39;00m\n\u001b[1;32m--> 437\u001b[0m     \u001b[39mraise\u001b[39;00m \u001b[39mTypeError\u001b[39;00m(\n\u001b[0;32m    438\u001b[0m         \u001b[39m\"\u001b[39m\u001b[39mIt seems you tried to provide the parameters as an argument to the module when the module was not stateless. \u001b[39m\u001b[39m\"\u001b[39m\n\u001b[0;32m    439\u001b[0m         \u001b[39m\"\u001b[39m\u001b[39mIf this is the case, this error should vanish by providing the parameters using the ``module(..., params=params)`` \u001b[39m\u001b[39m\"\u001b[39m\n\u001b[0;32m    440\u001b[0m         \u001b[39m\"\u001b[39m\u001b[39msyntax.\u001b[39m\u001b[39m\"\u001b[39m\n\u001b[0;32m    441\u001b[0m     ) \u001b[39mfrom\u001b[39;00m \u001b[39merr\u001b[39;00m\n\u001b[0;32m    442\u001b[0m \u001b[39melse\u001b[39;00m:\n\u001b[0;32m    443\u001b[0m     \u001b[39mraise\u001b[39;00m err\n",
      "\u001b[1;31mTypeError\u001b[0m: It seems you tried to provide the parameters as an argument to the module when the module was not stateless. If this is the case, this error should vanish by providing the parameters using the ``module(..., params=params)`` syntax."
     ]
    }
   ],
   "source": [
    "print(\"Running policy:\", policy_module(base_env.RayCast()))"
   ]
  },
  {
   "cell_type": "code",
   "execution_count": 54,
   "metadata": {},
   "outputs": [
    {
     "ename": "RuntimeError",
     "evalue": "Expected all tensors to be on the same device, but found at least two devices, cpu and cuda:0! (when checking argument for argument mat2 in method wrapper_CUDA_mm)",
     "output_type": "error",
     "traceback": [
      "\u001b[1;31m---------------------------------------------------------------------------\u001b[0m",
      "\u001b[1;31mRuntimeError\u001b[0m                              Traceback (most recent call last)",
      "\u001b[1;32md:\\RL_UNITY\\full_car_envs\\my_experiment\\Assets\\subAssets\\Python\\environment\\Env5000\\TORCH_RL.ipynb Cell 34\u001b[0m in \u001b[0;36m<cell line: 1>\u001b[1;34m()\u001b[0m\n\u001b[1;32m----> <a href='vscode-notebook-cell:/d%3A/RL_UNITY/full_car_envs/my_experiment/Assets/subAssets/Python/environment/Env5000/TORCH_RL.ipynb#X44sZmlsZQ%3D%3D?line=0'>1</a>\u001b[0m \u001b[39mprint\u001b[39m(\u001b[39m\"\u001b[39m\u001b[39mRunning value:\u001b[39m\u001b[39m\"\u001b[39m, value_module(base_env\u001b[39m.\u001b[39;49mreset()))\n",
      "File \u001b[1;32mc:\\Users\\rifat\\miniconda3\\envs\\tf\\lib\\site-packages\\torch\\nn\\modules\\module.py:1501\u001b[0m, in \u001b[0;36mModule._call_impl\u001b[1;34m(self, *args, **kwargs)\u001b[0m\n\u001b[0;32m   1496\u001b[0m \u001b[39m# If we don't have any hooks, we want to skip the rest of the logic in\u001b[39;00m\n\u001b[0;32m   1497\u001b[0m \u001b[39m# this function, and just call forward.\u001b[39;00m\n\u001b[0;32m   1498\u001b[0m \u001b[39mif\u001b[39;00m \u001b[39mnot\u001b[39;00m (\u001b[39mself\u001b[39m\u001b[39m.\u001b[39m_backward_hooks \u001b[39mor\u001b[39;00m \u001b[39mself\u001b[39m\u001b[39m.\u001b[39m_backward_pre_hooks \u001b[39mor\u001b[39;00m \u001b[39mself\u001b[39m\u001b[39m.\u001b[39m_forward_hooks \u001b[39mor\u001b[39;00m \u001b[39mself\u001b[39m\u001b[39m.\u001b[39m_forward_pre_hooks\n\u001b[0;32m   1499\u001b[0m         \u001b[39mor\u001b[39;00m _global_backward_pre_hooks \u001b[39mor\u001b[39;00m _global_backward_hooks\n\u001b[0;32m   1500\u001b[0m         \u001b[39mor\u001b[39;00m _global_forward_hooks \u001b[39mor\u001b[39;00m _global_forward_pre_hooks):\n\u001b[1;32m-> 1501\u001b[0m     \u001b[39mreturn\u001b[39;00m forward_call(\u001b[39m*\u001b[39;49margs, \u001b[39m*\u001b[39;49m\u001b[39m*\u001b[39;49mkwargs)\n\u001b[0;32m   1502\u001b[0m \u001b[39m# Do not call functions when jit is used\u001b[39;00m\n\u001b[0;32m   1503\u001b[0m full_backward_hooks, non_full_backward_hooks \u001b[39m=\u001b[39m [], []\n",
      "File \u001b[1;32mc:\\Users\\rifat\\miniconda3\\envs\\tf\\lib\\site-packages\\tensordict\\nn\\functional_modules.py:431\u001b[0m, in \u001b[0;36m_make_decorator.<locals>.new_fun\u001b[1;34m(self, *args, **kwargs)\u001b[0m\n\u001b[0;32m    429\u001b[0m \u001b[39melse\u001b[39;00m:\n\u001b[0;32m    430\u001b[0m     \u001b[39mtry\u001b[39;00m:\n\u001b[1;32m--> 431\u001b[0m         \u001b[39mreturn\u001b[39;00m \u001b[39mgetattr\u001b[39;49m(\u001b[39mtype\u001b[39;49m(\u001b[39mself\u001b[39;49m), fun_name)(\u001b[39mself\u001b[39;49m, \u001b[39m*\u001b[39;49margs, \u001b[39m*\u001b[39;49m\u001b[39m*\u001b[39;49mkwargs)\n\u001b[0;32m    432\u001b[0m     \u001b[39mexcept\u001b[39;00m \u001b[39mTypeError\u001b[39;00m \u001b[39mas\u001b[39;00m err:\n\u001b[0;32m    433\u001b[0m         pattern \u001b[39m=\u001b[39m \u001b[39mr\u001b[39m\u001b[39m\"\u001b[39m\u001b[39m.*takes \u001b[39m\u001b[39m\\\u001b[39m\u001b[39md+ positional arguments but \u001b[39m\u001b[39m\\\u001b[39m\u001b[39md+ were given|got multiple values for argument\u001b[39m\u001b[39m\"\u001b[39m\n",
      "File \u001b[1;32mc:\\Users\\rifat\\miniconda3\\envs\\tf\\lib\\site-packages\\tensordict\\nn\\common.py:270\u001b[0m, in \u001b[0;36mdispatch.__call__.<locals>.wrapper\u001b[1;34m(_self, *args, **kwargs)\u001b[0m\n\u001b[0;32m    262\u001b[0m             \u001b[39mraise\u001b[39;00m \u001b[39mKeyError\u001b[39;00m(\n\u001b[0;32m    263\u001b[0m                 \u001b[39mf\u001b[39m\u001b[39m\"\u001b[39m\u001b[39mThe key \u001b[39m\u001b[39m{\u001b[39;00mexpected_key\u001b[39m}\u001b[39;00m\u001b[39m wasn\u001b[39m\u001b[39m'\u001b[39m\u001b[39mt found in the keyword arguments \u001b[39m\u001b[39m\"\u001b[39m\n\u001b[0;32m    264\u001b[0m                 \u001b[39mf\u001b[39m\u001b[39m\"\u001b[39m\u001b[39mbut is expected to execute that function.\u001b[39m\u001b[39m\"\u001b[39m\n\u001b[0;32m    265\u001b[0m             )\n\u001b[0;32m    266\u001b[0m tensordict \u001b[39m=\u001b[39m make_tensordict(\n\u001b[0;32m    267\u001b[0m     tensordict_values,\n\u001b[0;32m    268\u001b[0m     batch_size\u001b[39m=\u001b[39mtorch\u001b[39m.\u001b[39mSize([]) \u001b[39mif\u001b[39;00m \u001b[39mnot\u001b[39;00m \u001b[39mself\u001b[39m\u001b[39m.\u001b[39mauto_batch_size \u001b[39melse\u001b[39;00m \u001b[39mNone\u001b[39;00m,\n\u001b[0;32m    269\u001b[0m )\n\u001b[1;32m--> 270\u001b[0m out \u001b[39m=\u001b[39m func(_self, tensordict, \u001b[39m*\u001b[39;49margs, \u001b[39m*\u001b[39;49m\u001b[39m*\u001b[39;49mkwargs)\n\u001b[0;32m    271\u001b[0m out \u001b[39m=\u001b[39m \u001b[39mtuple\u001b[39m(out[key] \u001b[39mfor\u001b[39;00m key \u001b[39min\u001b[39;00m dest)\n\u001b[0;32m    272\u001b[0m \u001b[39mreturn\u001b[39;00m out[\u001b[39m0\u001b[39m] \u001b[39mif\u001b[39;00m \u001b[39mlen\u001b[39m(out) \u001b[39m==\u001b[39m \u001b[39m1\u001b[39m \u001b[39melse\u001b[39;00m out\n",
      "File \u001b[1;32mc:\\Users\\rifat\\miniconda3\\envs\\tf\\lib\\site-packages\\tensordict\\_contextlib.py:126\u001b[0m, in \u001b[0;36mcontext_decorator.<locals>.decorate_context\u001b[1;34m(*args, **kwargs)\u001b[0m\n\u001b[0;32m    123\u001b[0m \u001b[39m@functools\u001b[39m\u001b[39m.\u001b[39mwraps(func)\n\u001b[0;32m    124\u001b[0m \u001b[39mdef\u001b[39;00m \u001b[39mdecorate_context\u001b[39m(\u001b[39m*\u001b[39margs, \u001b[39m*\u001b[39m\u001b[39m*\u001b[39mkwargs):\n\u001b[0;32m    125\u001b[0m     \u001b[39mwith\u001b[39;00m ctx_factory():\n\u001b[1;32m--> 126\u001b[0m         \u001b[39mreturn\u001b[39;00m func(\u001b[39m*\u001b[39;49margs, \u001b[39m*\u001b[39;49m\u001b[39m*\u001b[39;49mkwargs)\n",
      "File \u001b[1;32mc:\\Users\\rifat\\miniconda3\\envs\\tf\\lib\\site-packages\\tensordict\\nn\\utils.py:253\u001b[0m, in \u001b[0;36mset_skip_existing.__call__.<locals>.wrapper\u001b[1;34m(_self, tensordict, *args, **kwargs)\u001b[0m\n\u001b[0;32m    247\u001b[0m \u001b[39mif\u001b[39;00m (\n\u001b[0;32m    248\u001b[0m     skip_existing()\n\u001b[0;32m    249\u001b[0m     \u001b[39mand\u001b[39;00m \u001b[39mall\u001b[39m(key \u001b[39min\u001b[39;00m tensordict\u001b[39m.\u001b[39mkeys(\u001b[39mTrue\u001b[39;00m) \u001b[39mfor\u001b[39;00m key \u001b[39min\u001b[39;00m out_keys)\n\u001b[0;32m    250\u001b[0m     \u001b[39mand\u001b[39;00m \u001b[39mnot\u001b[39;00m \u001b[39many\u001b[39m(key \u001b[39min\u001b[39;00m out_keys \u001b[39mfor\u001b[39;00m key \u001b[39min\u001b[39;00m in_keys)\n\u001b[0;32m    251\u001b[0m ):\n\u001b[0;32m    252\u001b[0m     \u001b[39mreturn\u001b[39;00m tensordict\n\u001b[1;32m--> 253\u001b[0m \u001b[39mreturn\u001b[39;00m func(_self, tensordict, \u001b[39m*\u001b[39;49margs, \u001b[39m*\u001b[39;49m\u001b[39m*\u001b[39;49mkwargs)\n",
      "File \u001b[1;32mc:\\Users\\rifat\\miniconda3\\envs\\tf\\lib\\site-packages\\tensordict\\nn\\common.py:810\u001b[0m, in \u001b[0;36mTensorDictModule.forward\u001b[1;34m(self, tensordict, tensordict_out, *args, **kwargs)\u001b[0m\n\u001b[0;32m    804\u001b[0m         \u001b[39mraise\u001b[39;00m \u001b[39mKeyError\u001b[39;00m(\n\u001b[0;32m    805\u001b[0m             \u001b[39m\"\u001b[39m\u001b[39mSome tensors that are necessary for the module call may \u001b[39m\u001b[39m\"\u001b[39m\n\u001b[0;32m    806\u001b[0m             \u001b[39m\"\u001b[39m\u001b[39mnot have not been found in the input tensordict: \u001b[39m\u001b[39m\"\u001b[39m\n\u001b[0;32m    807\u001b[0m             \u001b[39mf\u001b[39m\u001b[39m\"\u001b[39m\u001b[39mthe following inputs are None: \u001b[39m\u001b[39m{\u001b[39;00mnone_set\u001b[39m}\u001b[39;00m\u001b[39m.\u001b[39m\u001b[39m\"\u001b[39m\n\u001b[0;32m    808\u001b[0m         ) \u001b[39mfrom\u001b[39;00m \u001b[39merr\u001b[39;00m\n\u001b[0;32m    809\u001b[0m     \u001b[39melse\u001b[39;00m:\n\u001b[1;32m--> 810\u001b[0m         \u001b[39mraise\u001b[39;00m err\n\u001b[0;32m    811\u001b[0m \u001b[39mif\u001b[39;00m \u001b[39misinstance\u001b[39m(tensors, (\u001b[39mdict\u001b[39m, TensorDictBase)):\n\u001b[0;32m    812\u001b[0m     tensors \u001b[39m=\u001b[39m \u001b[39mtuple\u001b[39m(tensors\u001b[39m.\u001b[39mget(key, \u001b[39mNone\u001b[39;00m) \u001b[39mfor\u001b[39;00m key \u001b[39min\u001b[39;00m \u001b[39mself\u001b[39m\u001b[39m.\u001b[39mout_keys)\n",
      "File \u001b[1;32mc:\\Users\\rifat\\miniconda3\\envs\\tf\\lib\\site-packages\\tensordict\\nn\\common.py:798\u001b[0m, in \u001b[0;36mTensorDictModule.forward\u001b[1;34m(self, tensordict, tensordict_out, *args, **kwargs)\u001b[0m\n\u001b[0;32m    796\u001b[0m tensors \u001b[39m=\u001b[39m \u001b[39mtuple\u001b[39m(tensordict\u001b[39m.\u001b[39mget(in_key, \u001b[39mNone\u001b[39;00m) \u001b[39mfor\u001b[39;00m in_key \u001b[39min\u001b[39;00m \u001b[39mself\u001b[39m\u001b[39m.\u001b[39min_keys)\n\u001b[0;32m    797\u001b[0m \u001b[39mtry\u001b[39;00m:\n\u001b[1;32m--> 798\u001b[0m     tensors \u001b[39m=\u001b[39m \u001b[39mself\u001b[39;49m\u001b[39m.\u001b[39;49m_call_module(tensors, \u001b[39m*\u001b[39;49m\u001b[39m*\u001b[39;49mkwargs)\n\u001b[0;32m    799\u001b[0m \u001b[39mexcept\u001b[39;00m \u001b[39mException\u001b[39;00m \u001b[39mas\u001b[39;00m err:\n\u001b[0;32m    800\u001b[0m     \u001b[39mif\u001b[39;00m \u001b[39many\u001b[39m(tensor \u001b[39mis\u001b[39;00m \u001b[39mNone\u001b[39;00m \u001b[39mfor\u001b[39;00m tensor \u001b[39min\u001b[39;00m tensors) \u001b[39mand\u001b[39;00m \u001b[39m\"\u001b[39m\u001b[39mNone\u001b[39m\u001b[39m\"\u001b[39m \u001b[39min\u001b[39;00m \u001b[39mstr\u001b[39m(err):\n",
      "File \u001b[1;32mc:\\Users\\rifat\\miniconda3\\envs\\tf\\lib\\site-packages\\tensordict\\nn\\common.py:766\u001b[0m, in \u001b[0;36mTensorDictModule._call_module\u001b[1;34m(self, tensors, **kwargs)\u001b[0m\n\u001b[0;32m    763\u001b[0m \u001b[39mdef\u001b[39;00m \u001b[39m_call_module\u001b[39m(\n\u001b[0;32m    764\u001b[0m     \u001b[39mself\u001b[39m, tensors: Sequence[Tensor], \u001b[39m*\u001b[39m\u001b[39m*\u001b[39mkwargs: Any\n\u001b[0;32m    765\u001b[0m ) \u001b[39m-\u001b[39m\u001b[39m>\u001b[39m Tensor \u001b[39m|\u001b[39m Sequence[Tensor]:\n\u001b[1;32m--> 766\u001b[0m     out \u001b[39m=\u001b[39m \u001b[39mself\u001b[39;49m\u001b[39m.\u001b[39;49mmodule(\u001b[39m*\u001b[39;49mtensors, \u001b[39m*\u001b[39;49m\u001b[39m*\u001b[39;49mkwargs)\n\u001b[0;32m    767\u001b[0m     \u001b[39mreturn\u001b[39;00m out\n",
      "File \u001b[1;32mc:\\Users\\rifat\\miniconda3\\envs\\tf\\lib\\site-packages\\torch\\nn\\modules\\module.py:1501\u001b[0m, in \u001b[0;36mModule._call_impl\u001b[1;34m(self, *args, **kwargs)\u001b[0m\n\u001b[0;32m   1496\u001b[0m \u001b[39m# If we don't have any hooks, we want to skip the rest of the logic in\u001b[39;00m\n\u001b[0;32m   1497\u001b[0m \u001b[39m# this function, and just call forward.\u001b[39;00m\n\u001b[0;32m   1498\u001b[0m \u001b[39mif\u001b[39;00m \u001b[39mnot\u001b[39;00m (\u001b[39mself\u001b[39m\u001b[39m.\u001b[39m_backward_hooks \u001b[39mor\u001b[39;00m \u001b[39mself\u001b[39m\u001b[39m.\u001b[39m_backward_pre_hooks \u001b[39mor\u001b[39;00m \u001b[39mself\u001b[39m\u001b[39m.\u001b[39m_forward_hooks \u001b[39mor\u001b[39;00m \u001b[39mself\u001b[39m\u001b[39m.\u001b[39m_forward_pre_hooks\n\u001b[0;32m   1499\u001b[0m         \u001b[39mor\u001b[39;00m _global_backward_pre_hooks \u001b[39mor\u001b[39;00m _global_backward_hooks\n\u001b[0;32m   1500\u001b[0m         \u001b[39mor\u001b[39;00m _global_forward_hooks \u001b[39mor\u001b[39;00m _global_forward_pre_hooks):\n\u001b[1;32m-> 1501\u001b[0m     \u001b[39mreturn\u001b[39;00m forward_call(\u001b[39m*\u001b[39;49margs, \u001b[39m*\u001b[39;49m\u001b[39m*\u001b[39;49mkwargs)\n\u001b[0;32m   1502\u001b[0m \u001b[39m# Do not call functions when jit is used\u001b[39;00m\n\u001b[0;32m   1503\u001b[0m full_backward_hooks, non_full_backward_hooks \u001b[39m=\u001b[39m [], []\n",
      "File \u001b[1;32mc:\\Users\\rifat\\miniconda3\\envs\\tf\\lib\\site-packages\\tensordict\\nn\\functional_modules.py:431\u001b[0m, in \u001b[0;36m_make_decorator.<locals>.new_fun\u001b[1;34m(self, *args, **kwargs)\u001b[0m\n\u001b[0;32m    429\u001b[0m \u001b[39melse\u001b[39;00m:\n\u001b[0;32m    430\u001b[0m     \u001b[39mtry\u001b[39;00m:\n\u001b[1;32m--> 431\u001b[0m         \u001b[39mreturn\u001b[39;00m \u001b[39mgetattr\u001b[39;49m(\u001b[39mtype\u001b[39;49m(\u001b[39mself\u001b[39;49m), fun_name)(\u001b[39mself\u001b[39;49m, \u001b[39m*\u001b[39;49margs, \u001b[39m*\u001b[39;49m\u001b[39m*\u001b[39;49mkwargs)\n\u001b[0;32m    432\u001b[0m     \u001b[39mexcept\u001b[39;00m \u001b[39mTypeError\u001b[39;00m \u001b[39mas\u001b[39;00m err:\n\u001b[0;32m    433\u001b[0m         pattern \u001b[39m=\u001b[39m \u001b[39mr\u001b[39m\u001b[39m\"\u001b[39m\u001b[39m.*takes \u001b[39m\u001b[39m\\\u001b[39m\u001b[39md+ positional arguments but \u001b[39m\u001b[39m\\\u001b[39m\u001b[39md+ were given|got multiple values for argument\u001b[39m\u001b[39m\"\u001b[39m\n",
      "File \u001b[1;32mc:\\Users\\rifat\\miniconda3\\envs\\tf\\lib\\site-packages\\torch\\nn\\modules\\container.py:217\u001b[0m, in \u001b[0;36mSequential.forward\u001b[1;34m(self, input)\u001b[0m\n\u001b[0;32m    215\u001b[0m \u001b[39mdef\u001b[39;00m \u001b[39mforward\u001b[39m(\u001b[39mself\u001b[39m, \u001b[39minput\u001b[39m):\n\u001b[0;32m    216\u001b[0m     \u001b[39mfor\u001b[39;00m module \u001b[39min\u001b[39;00m \u001b[39mself\u001b[39m:\n\u001b[1;32m--> 217\u001b[0m         \u001b[39minput\u001b[39m \u001b[39m=\u001b[39m module(\u001b[39minput\u001b[39;49m)\n\u001b[0;32m    218\u001b[0m     \u001b[39mreturn\u001b[39;00m \u001b[39minput\u001b[39m\n",
      "File \u001b[1;32mc:\\Users\\rifat\\miniconda3\\envs\\tf\\lib\\site-packages\\torch\\nn\\modules\\module.py:1501\u001b[0m, in \u001b[0;36mModule._call_impl\u001b[1;34m(self, *args, **kwargs)\u001b[0m\n\u001b[0;32m   1496\u001b[0m \u001b[39m# If we don't have any hooks, we want to skip the rest of the logic in\u001b[39;00m\n\u001b[0;32m   1497\u001b[0m \u001b[39m# this function, and just call forward.\u001b[39;00m\n\u001b[0;32m   1498\u001b[0m \u001b[39mif\u001b[39;00m \u001b[39mnot\u001b[39;00m (\u001b[39mself\u001b[39m\u001b[39m.\u001b[39m_backward_hooks \u001b[39mor\u001b[39;00m \u001b[39mself\u001b[39m\u001b[39m.\u001b[39m_backward_pre_hooks \u001b[39mor\u001b[39;00m \u001b[39mself\u001b[39m\u001b[39m.\u001b[39m_forward_hooks \u001b[39mor\u001b[39;00m \u001b[39mself\u001b[39m\u001b[39m.\u001b[39m_forward_pre_hooks\n\u001b[0;32m   1499\u001b[0m         \u001b[39mor\u001b[39;00m _global_backward_pre_hooks \u001b[39mor\u001b[39;00m _global_backward_hooks\n\u001b[0;32m   1500\u001b[0m         \u001b[39mor\u001b[39;00m _global_forward_hooks \u001b[39mor\u001b[39;00m _global_forward_pre_hooks):\n\u001b[1;32m-> 1501\u001b[0m     \u001b[39mreturn\u001b[39;00m forward_call(\u001b[39m*\u001b[39;49margs, \u001b[39m*\u001b[39;49m\u001b[39m*\u001b[39;49mkwargs)\n\u001b[0;32m   1502\u001b[0m \u001b[39m# Do not call functions when jit is used\u001b[39;00m\n\u001b[0;32m   1503\u001b[0m full_backward_hooks, non_full_backward_hooks \u001b[39m=\u001b[39m [], []\n",
      "File \u001b[1;32mc:\\Users\\rifat\\miniconda3\\envs\\tf\\lib\\site-packages\\tensordict\\nn\\functional_modules.py:431\u001b[0m, in \u001b[0;36m_make_decorator.<locals>.new_fun\u001b[1;34m(self, *args, **kwargs)\u001b[0m\n\u001b[0;32m    429\u001b[0m \u001b[39melse\u001b[39;00m:\n\u001b[0;32m    430\u001b[0m     \u001b[39mtry\u001b[39;00m:\n\u001b[1;32m--> 431\u001b[0m         \u001b[39mreturn\u001b[39;00m \u001b[39mgetattr\u001b[39;49m(\u001b[39mtype\u001b[39;49m(\u001b[39mself\u001b[39;49m), fun_name)(\u001b[39mself\u001b[39;49m, \u001b[39m*\u001b[39;49margs, \u001b[39m*\u001b[39;49m\u001b[39m*\u001b[39;49mkwargs)\n\u001b[0;32m    432\u001b[0m     \u001b[39mexcept\u001b[39;00m \u001b[39mTypeError\u001b[39;00m \u001b[39mas\u001b[39;00m err:\n\u001b[0;32m    433\u001b[0m         pattern \u001b[39m=\u001b[39m \u001b[39mr\u001b[39m\u001b[39m\"\u001b[39m\u001b[39m.*takes \u001b[39m\u001b[39m\\\u001b[39m\u001b[39md+ positional arguments but \u001b[39m\u001b[39m\\\u001b[39m\u001b[39md+ were given|got multiple values for argument\u001b[39m\u001b[39m\"\u001b[39m\n",
      "File \u001b[1;32mc:\\Users\\rifat\\miniconda3\\envs\\tf\\lib\\site-packages\\torch\\nn\\modules\\linear.py:114\u001b[0m, in \u001b[0;36mLinear.forward\u001b[1;34m(self, input)\u001b[0m\n\u001b[0;32m    113\u001b[0m \u001b[39mdef\u001b[39;00m \u001b[39mforward\u001b[39m(\u001b[39mself\u001b[39m, \u001b[39minput\u001b[39m: Tensor) \u001b[39m-\u001b[39m\u001b[39m>\u001b[39m Tensor:\n\u001b[1;32m--> 114\u001b[0m     \u001b[39mreturn\u001b[39;00m F\u001b[39m.\u001b[39;49mlinear(\u001b[39minput\u001b[39;49m, \u001b[39mself\u001b[39;49m\u001b[39m.\u001b[39;49mweight, \u001b[39mself\u001b[39;49m\u001b[39m.\u001b[39;49mbias)\n",
      "\u001b[1;31mRuntimeError\u001b[0m: Expected all tensors to be on the same device, but found at least two devices, cpu and cuda:0! (when checking argument for argument mat2 in method wrapper_CUDA_mm)"
     ]
    }
   ],
   "source": [
    "\n",
    "print(\"Running value:\", value_module(base_env.reset()))"
   ]
  },
  {
   "cell_type": "code",
   "execution_count": null,
   "metadata": {},
   "outputs": [],
   "source": []
  },
  {
   "cell_type": "code",
   "execution_count": null,
   "metadata": {},
   "outputs": [],
   "source": [
    "base_env.observation_space"
   ]
  },
  {
   "cell_type": "code",
   "execution_count": null,
   "metadata": {},
   "outputs": [],
   "source": [
    "device = torch.device(\"cuda\" if torch.cuda.is_available() else \"cpu\")"
   ]
  },
  {
   "cell_type": "code",
   "execution_count": null,
   "metadata": {},
   "outputs": [],
   "source": [
    "base_env.to(device)"
   ]
  },
  {
   "cell_type": "code",
   "execution_count": null,
   "metadata": {},
   "outputs": [],
   "source": [
    "base_env.observation_space"
   ]
  },
  {
   "cell_type": "code",
   "execution_count": null,
   "metadata": {},
   "outputs": [],
   "source": []
  },
  {
   "cell_type": "code",
   "execution_count": null,
   "metadata": {},
   "outputs": [],
   "source": [
    "from torchrl.envs import (\n",
    "    Compose,\n",
    "    DoubleToFloat,\n",
    "    ObservationNorm,\n",
    "    StepCounter,\n",
    "    TransformedEnv,\n",
    ")"
   ]
  },
  {
   "cell_type": "code",
   "execution_count": null,
   "metadata": {},
   "outputs": [],
   "source": [
    "env = TransformedEnv(\n",
    "    base_env,\n",
    "    Compose(\n",
    "        ObservationNorm(in_keys=base_env.observation_space),\n",
    "        DoubleToFloat(in_keys=base_env.observation_space),\n",
    "        StepCounter(),\n",
    "    ),\n",
    ")\n"
   ]
  },
  {
   "cell_type": "code",
   "execution_count": null,
   "metadata": {},
   "outputs": [],
   "source": [
    "env = UnityEnv(unity_comms,5000)"
   ]
  },
  {
   "cell_type": "code",
   "execution_count": null,
   "metadata": {},
   "outputs": [],
   "source": [
    "from torchrl.envs.utils import check_env_specs, ExplorationType, set_exploration_type"
   ]
  },
  {
   "cell_type": "code",
   "execution_count": null,
   "metadata": {},
   "outputs": [],
   "source": [
    "check = check_env_specs(env)"
   ]
  },
  {
   "cell_type": "code",
   "execution_count": null,
   "metadata": {},
   "outputs": [],
   "source": [
    "# Define the frame skip frequency\n",
    "frame_skip_frequency = 5\n",
    "\n",
    "# Define the number of training steps\n",
    "total_timesteps = 100000\n",
    "\n",
    "# Define the directory paths\n",
    "LOG_DIR = './logs/'\n",
    "OPT_DIR = './opt_modeldata/'\n",
    "CHECKPOINT_DIR = './train_modeldata/'\n",
    "\n",
    "# Create the directories if they don't exist\n",
    "os.makedirs(LOG_DIR, exist_ok=True)\n",
    "os.makedirs(OPT_DIR, exist_ok=True)\n",
    "os.makedirs(CHECKPOINT_DIR, exist_ok=True)\n"
   ]
  },
  {
   "cell_type": "code",
   "execution_count": null,
   "metadata": {},
   "outputs": [],
   "source": [
    "# Import optuna for HPO\n",
    "import optuna\n",
    "# Import PPO for algos\n",
    "from stable_baselines3 import PPO\n",
    "# Evaluate Policy\n",
    "from stable_baselines3.common.evaluation import evaluate_policy\n",
    "# Import wrappers\n",
    "from stable_baselines3.common.monitor import Monitor\n",
    "from stable_baselines3.common.vec_env import DummyVecEnv, VecFrameStack\n",
    "import os\n",
    "LOG_DIR = './logs/'\n",
    "if not os.path.exists(LOG_DIR):\n",
    "    os.makedirs(LOG_DIR)\n",
    "\n",
    "OPT_DIR = './opt_modeldata/'\n",
    "if not os.path.exists(OPT_DIR):\n",
    "    os.makedirs(OPT_DIR)\n",
    "\n"
   ]
  },
  {
   "cell_type": "code",
   "execution_count": null,
   "metadata": {},
   "outputs": [],
   "source": [
    "# #https://github.com/araffin/rl-baselines-zoo/issues/29\n",
    "def optimize_ppo(trial):\n",
    "    \"\"\" Learning hyperparamters we want to optimise\"\"\"\n",
    "    return {\n",
    "        'n_steps': trial.suggest_int('n_steps', 2048, 20480),\n",
    "        'gamma': trial.suggest_loguniform('gamma', 0.8, 0.9999),\n",
    "        'learning_rate': trial.suggest_loguniform('learning_rate', 1e-5, 1e-4),\n",
    "        'clip_range': trial.suggest_uniform('clip_range', 0.1, 0.4),\n",
    "        'gae_lambda': trial.suggest_uniform('gae_lambda', 0.8, .99)\n",
    "    }\n",
    "\n"
   ]
  },
  {
   "cell_type": "code",
   "execution_count": null,
   "metadata": {},
   "outputs": [],
   "source": [
    "1024*20"
   ]
  },
  {
   "cell_type": "code",
   "execution_count": null,
   "metadata": {},
   "outputs": [],
   "source": [
    "\n",
    "def optimize_agent(trial):\n",
    "    try:\n",
    "        model_params = optimize_ppo(trial)\n",
    "        env = UnityEnv(unity_comms,5000)\n",
    "        env = Monitor(env, LOG_DIR)\n",
    "        env = DummyVecEnv([lambda: env])\n",
    "        env = VecFrameStack(env, 4, channels_order='last')\n",
    "        model = PPO('MlpPolicy', env,batch_size=1024, tensorboard_log=LOG_DIR, verbose=0, **model_params)\n",
    "        model.learn(total_timesteps=20480)\n",
    "        mean_reward, _ = evaluate_policy(model, env, n_eval_episodes=5)\n",
    "        env.close()\n",
    "        SAVE_PATH = os.path.join(OPT_DIR, 'trial_{}_best_model'.format(trial.number))\n",
    "        model.save(SAVE_PATH)\n",
    "        return mean_reward\n",
    "    except Exception as e: \n",
    "        return -1000\n"
   ]
  },
  {
   "cell_type": "code",
   "execution_count": null,
   "metadata": {},
   "outputs": [],
   "source": [
    "study = optuna.create_study(direction='maximize')\n",
    "study.optimize(optimize_agent, n_trials=5, n_jobs=1)\n",
    "model_params = study.best_params\n"
   ]
  },
  {
   "cell_type": "code",
   "execution_count": null,
   "metadata": {},
   "outputs": [],
   "source": [
    "\n",
    "\n",
    "import os\n",
    "from stable_baselines3.common.callbacks import BaseCallback\n",
    "\n",
    "class TrainAndLoggingCallback(BaseCallback):\n",
    "    def __init__(self, check_freq, save_path, verbose=1):\n",
    "        super(TrainAndLoggingCallback, self).__init__(verbose)\n",
    "        self.check_freq = check_freq\n",
    "        self.save_path = save_path\n",
    "\n",
    "    def _init_callback(self):\n",
    "        if self.save_path is not None:\n",
    "            os.makedirs(self.save_path, exist_ok=True)\n",
    "\n",
    "    def _on_step(self):\n",
    "        if self.n_calls % self.check_freq == 0:\n",
    "            model_path = os.path.join(self.save_path, 'best_model_{}'.format(self.n_calls))\n",
    "            self.model.save(model_path)\n",
    "\n",
    "        return True\n",
    "\n",
    "CHECKPOINT_DIR = './train_modeldata/'\n",
    "if not os.path.exists(CHECKPOINT_DIR):\n",
    "    os.makedirs(CHECKPOINT_DIR)\n",
    "\n",
    "callback = TrainAndLoggingCallback(check_freq=10000, save_path=CHECKPOINT_DIR)\n",
    "\n",
    "env = UnityEnv(unity_comms, 5000)\n",
    "env = Monitor(env, LOG_DIR)\n",
    "env = DummyVecEnv([lambda: env])\n",
    "env = VecFrameStack(env, 4, channels_order='last')\n",
    "\n",
    "model = PPO('MlpPolicy', env, tensorboard_log=LOG_DIR, verbose=1, **model_params)\n",
    "\n",
    "# Adjust the total timesteps\n",
    "total_timesteps = 20480 \n",
    "\n",
    "model.learn(total_timesteps=total_timesteps, callback=callback)\n"
   ]
  }
 ],
 "metadata": {
  "kernelspec": {
   "display_name": "tf",
   "language": "python",
   "name": "python3"
  },
  "language_info": {
   "codemirror_mode": {
    "name": "ipython",
    "version": 3
   },
   "file_extension": ".py",
   "mimetype": "text/x-python",
   "name": "python",
   "nbconvert_exporter": "python",
   "pygments_lexer": "ipython3",
   "version": "3.8.16"
  },
  "orig_nbformat": 4
 },
 "nbformat": 4,
 "nbformat_minor": 2
}
