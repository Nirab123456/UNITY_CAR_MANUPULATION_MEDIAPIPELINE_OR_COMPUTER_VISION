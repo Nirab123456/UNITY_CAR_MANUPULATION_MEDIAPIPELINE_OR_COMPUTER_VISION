{
 "cells": [
  {
   "attachments": {},
   "cell_type": "markdown",
   "metadata": {},
   "source": [
    "# 1. Install and Import Dependencies"
   ]
  },
  {
   "cell_type": "code",
   "execution_count": null,
   "metadata": {},
   "outputs": [],
   "source": [
    "import torch\n",
    "from matplotlib import pyplot as plt\n",
    "import numpy as np\n",
    "import cv2"
   ]
  },
  {
   "attachments": {},
   "cell_type": "markdown",
   "metadata": {},
   "source": [
    "# 2. Load Model"
   ]
  },
  {
   "cell_type": "code",
   "execution_count": null,
   "metadata": {},
   "outputs": [],
   "source": [
    "model = torch.hub.load('ultralytics/yolov5', 'yolov5s')"
   ]
  },
  {
   "attachments": {},
   "cell_type": "markdown",
   "metadata": {},
   "source": [
    "# 4. Real Time Detections"
   ]
  },
  {
   "cell_type": "code",
   "execution_count": null,
   "metadata": {},
   "outputs": [],
   "source": [
    "import cv2\n",
    "\n",
    "def list_capture_devices():\n",
    "    # Get the list of available capture devices\n",
    "    devices = []\n",
    "    for i in range(10):\n",
    "        try:\n",
    "            # Try to open the capture device\n",
    "            capture = cv2.VideoCapture(i)\n",
    "            if capture is not None and capture.isOpened():\n",
    "                # If the capture device was opened successfully, add it to the list\n",
    "                devices.append(f\"Device {i}\")\n",
    "                capture.release()\n",
    "        except:\n",
    "            pass\n",
    "\n",
    "    return devices\n",
    "\n",
    "# Call the function to list the capture devices\n",
    "capture_devices = list_capture_devices()\n",
    "\n",
    "# Print the list of capture devices\n",
    "if capture_devices:\n",
    "    print(\"Available Capture Devices:\")\n",
    "    for device in capture_devices:\n",
    "        print(device)\n",
    "else:\n",
    "    print(\"No capture devices found.\")\n"
   ]
  },
  {
   "cell_type": "code",
   "execution_count": null,
   "metadata": {},
   "outputs": [],
   "source": [
    "cap = cv2.VideoCapture(2)"
   ]
  },
  {
   "cell_type": "code",
   "execution_count": null,
   "metadata": {},
   "outputs": [],
   "source": [
    "cap"
   ]
  },
  {
   "cell_type": "code",
   "execution_count": null,
   "metadata": {},
   "outputs": [],
   "source": [
    "\n",
    "while cap.isOpened():\n",
    "    ret, frame = cap.read()\n",
    "    \n",
    "    # Make detections \n",
    "    results = model(frame)\n",
    "    \n",
    "    cv2.imshow('YOLO', np.squeeze(results.render()))\n",
    "    \n",
    "    if cv2.waitKey(10) & 0xFF == ord('q'):\n",
    "        break\n",
    "cap.release()\n",
    "cv2.destroyAllWindows()"
   ]
  },
  {
   "attachments": {},
   "cell_type": "markdown",
   "metadata": {},
   "source": [
    "# 5. Train from scratch"
   ]
  },
  {
   "cell_type": "code",
   "execution_count": 15,
   "metadata": {},
   "outputs": [],
   "source": [
    "import uuid   # Unique identifier\n",
    "import os\n",
    "import time"
   ]
  },
  {
   "cell_type": "code",
   "execution_count": 16,
   "metadata": {},
   "outputs": [],
   "source": [
    "img_path ='./data_1/images'\n",
    "if not os.path.exists(img_path):\n",
    "    os.makedirs(img_path)"
   ]
  },
  {
   "cell_type": "code",
   "execution_count": 21,
   "metadata": {},
   "outputs": [],
   "source": [
    "IMAGES_PATH = os.path.join('data', 'images') #/data/images\n",
    "labels = ['goforward', 'stop', 'goforward_turnleft', 'goforward_turnright']\n",
    "number_imgs = 20"
   ]
  },
  {
   "cell_type": "code",
   "execution_count": 22,
   "metadata": {},
   "outputs": [],
   "source": [
    "import cv2"
   ]
  },
  {
   "cell_type": "code",
   "execution_count": 23,
   "metadata": {},
   "outputs": [],
   "source": [
    "cap = cv2.VideoCapture(2)"
   ]
  },
  {
   "cell_type": "code",
   "execution_count": 24,
   "metadata": {},
   "outputs": [
    {
     "name": "stdout",
     "output_type": "stream",
     "text": [
      "Collecting images for goforward\n",
      "Collecting images for goforward, image number 0\n",
      "Collecting images for goforward, image number 1\n",
      "Collecting images for goforward, image number 2\n",
      "Collecting images for goforward, image number 3\n",
      "Collecting images for goforward, image number 4\n",
      "Collecting images for goforward, image number 5\n",
      "Collecting images for goforward, image number 6\n",
      "Collecting images for goforward, image number 7\n",
      "Collecting images for goforward, image number 8\n",
      "Collecting images for goforward, image number 9\n",
      "Collecting images for goforward, image number 10\n",
      "Collecting images for goforward, image number 11\n",
      "Collecting images for goforward, image number 12\n",
      "Collecting images for goforward, image number 13\n",
      "Collecting images for goforward, image number 14\n",
      "Collecting images for goforward, image number 15\n",
      "Collecting images for goforward, image number 16\n",
      "Collecting images for goforward, image number 17\n",
      "Collecting images for goforward, image number 18\n",
      "Collecting images for goforward, image number 19\n",
      "Collecting images for stop\n",
      "Collecting images for stop, image number 0\n",
      "Collecting images for stop, image number 1\n",
      "Collecting images for stop, image number 2\n",
      "Collecting images for stop, image number 3\n",
      "Collecting images for stop, image number 4\n",
      "Collecting images for stop, image number 5\n",
      "Collecting images for stop, image number 6\n",
      "Collecting images for stop, image number 7\n",
      "Collecting images for stop, image number 8\n",
      "Collecting images for stop, image number 9\n",
      "Collecting images for stop, image number 10\n",
      "Collecting images for stop, image number 11\n",
      "Collecting images for stop, image number 12\n",
      "Collecting images for stop, image number 13\n",
      "Collecting images for stop, image number 14\n",
      "Collecting images for stop, image number 15\n",
      "Collecting images for stop, image number 16\n",
      "Collecting images for stop, image number 17\n",
      "Collecting images for stop, image number 18\n",
      "Collecting images for stop, image number 19\n",
      "Collecting images for goforward_turnleft\n",
      "Collecting images for goforward_turnleft, image number 0\n",
      "Collecting images for goforward_turnleft, image number 1\n",
      "Collecting images for goforward_turnleft, image number 2\n",
      "Collecting images for goforward_turnleft, image number 3\n",
      "Collecting images for goforward_turnleft, image number 4\n",
      "Collecting images for goforward_turnleft, image number 5\n",
      "Collecting images for goforward_turnleft, image number 6\n",
      "Collecting images for goforward_turnleft, image number 7\n",
      "Collecting images for goforward_turnleft, image number 8\n",
      "Collecting images for goforward_turnleft, image number 9\n",
      "Collecting images for goforward_turnleft, image number 10\n",
      "Collecting images for goforward_turnleft, image number 11\n",
      "Collecting images for goforward_turnleft, image number 12\n",
      "Collecting images for goforward_turnleft, image number 13\n",
      "Collecting images for goforward_turnleft, image number 14\n",
      "Collecting images for goforward_turnleft, image number 15\n",
      "Collecting images for goforward_turnleft, image number 16\n",
      "Collecting images for goforward_turnleft, image number 17\n",
      "Collecting images for goforward_turnleft, image number 18\n",
      "Collecting images for goforward_turnleft, image number 19\n",
      "Collecting images for goforward_turnright\n",
      "Collecting images for goforward_turnright, image number 0\n",
      "Collecting images for goforward_turnright, image number 1\n",
      "Collecting images for goforward_turnright, image number 2\n",
      "Collecting images for goforward_turnright, image number 3\n",
      "Collecting images for goforward_turnright, image number 4\n",
      "Collecting images for goforward_turnright, image number 5\n",
      "Collecting images for goforward_turnright, image number 6\n",
      "Collecting images for goforward_turnright, image number 7\n",
      "Collecting images for goforward_turnright, image number 8\n",
      "Collecting images for goforward_turnright, image number 9\n",
      "Collecting images for goforward_turnright, image number 10\n",
      "Collecting images for goforward_turnright, image number 11\n",
      "Collecting images for goforward_turnright, image number 12\n",
      "Collecting images for goforward_turnright, image number 13\n",
      "Collecting images for goforward_turnright, image number 14\n",
      "Collecting images for goforward_turnright, image number 15\n",
      "Collecting images for goforward_turnright, image number 16\n",
      "Collecting images for goforward_turnright, image number 17\n",
      "Collecting images for goforward_turnright, image number 18\n",
      "Collecting images for goforward_turnright, image number 19\n"
     ]
    }
   ],
   "source": [
    "\n",
    "# Loop through labels\n",
    "for label in labels:\n",
    "    print('Collecting images for {}'.format(label))\n",
    "    time.sleep(5)\n",
    "    \n",
    "    # Loop through image range\n",
    "    for img_num in range(number_imgs):\n",
    "        print('Collecting images for {}, image number {}'.format(label, img_num))\n",
    "        \n",
    "        # Webcam feed\n",
    "        ret, frame = cap.read()\n",
    "        \n",
    "        # Naming out image path\n",
    "        imgname = os.path.join(IMAGES_PATH, label+'.'+str(uuid.uuid1())+'.jpg')\n",
    "        \n",
    "        # Writes out image to file \n",
    "        cv2.imwrite(imgname, frame)\n",
    "        \n",
    "        # Render to the screen\n",
    "        cv2.imshow('Image Collection', frame)\n",
    "        \n",
    "        # 2 second delay between captures\n",
    "        time.sleep(2)\n",
    "        \n",
    "        if cv2.waitKey(10) & 0xFF == ord('q'):\n",
    "            break\n",
    "cap.release()\n",
    "cv2.destroyAllWindows()"
   ]
  },
  {
   "cell_type": "code",
   "execution_count": null,
   "metadata": {},
   "outputs": [],
   "source": [
    "print(os.path.join(IMAGES_PATH, labels[3]+'.'+str(uuid.uuid1())+'.jpg'))"
   ]
  },
  {
   "cell_type": "code",
   "execution_count": null,
   "metadata": {},
   "outputs": [],
   "source": [
    "for label in labels:\n",
    "    print('Collecting images for {}'.format(label))\n",
    "    for img_num in range(number_imgs):\n",
    "        print('Collecting images for {}, image number {}'.format(label, img_num))\n",
    "        imgname = os.path.join(IMAGES_PATH, label+'.'+str(uuid.uuid1())+'.jpg')\n",
    "        print(imgname)   "
   ]
  },
  {
   "cell_type": "code",
   "execution_count": null,
   "metadata": {},
   "outputs": [],
   "source": [
    "!git clone https://github.com/tzutalin/labelImg"
   ]
  },
  {
   "cell_type": "code",
   "execution_count": null,
   "metadata": {
    "scrolled": true
   },
   "outputs": [],
   "source": [
    "!pip install pyqt5 lxml --upgrade\n",
    "!cd labelImg && pyrcc5 -o libs/resources.py resources.qrc"
   ]
  },
  {
   "cell_type": "code",
   "execution_count": 25,
   "metadata": {},
   "outputs": [],
   "source": [
    "labeling_path = './data/labels'\n",
    "if not os.path.exists(labeling_path):\n",
    "    os.makedirs(labeling_path)"
   ]
  },
  {
   "cell_type": "code",
   "execution_count": 1,
   "metadata": {},
   "outputs": [
    {
     "ename": "",
     "evalue": "",
     "output_type": "error",
     "traceback": [
      "\u001b[1;31mCannot execute code, session has been disposed. Please try restarting the Kernel."
     ]
    },
    {
     "ename": "",
     "evalue": "",
     "output_type": "error",
     "traceback": [
      "\u001b[1;31mThe Kernel crashed while executing code in the the current cell or a previous cell. Please review the code in the cell(s) to identify a possible cause of the failure. Click <a href='https://aka.ms/vscodeJupyterKernelCrash'>here</a> for more info. View Jupyter <a href='command:jupyter.viewOutput'>log</a> for further details."
     ]
    }
   ],
   "source": [
    "!cd yolov5 && python train.py --img 320 --batch 60 --epochs 5000 --data dataset.yml --weights yolov5s.pt --workers 14"
   ]
  },
  {
   "attachments": {},
   "cell_type": "markdown",
   "metadata": {},
   "source": [
    "# 6. Load Custom Model"
   ]
  },
  {
   "cell_type": "code",
   "execution_count": null,
   "metadata": {},
   "outputs": [],
   "source": [
    "model = torch.hub.load('ultralytics/yolov5', 'custom', path='yolov5/runs/train/exp15/weights/last.pt', force_reload=True)"
   ]
  },
  {
   "cell_type": "code",
   "execution_count": null,
   "metadata": {},
   "outputs": [],
   "source": [
    "img = os.path.join('data', 'images', 'awake.c9a24d48-e1f6-11eb-bbef-5cf3709bbcc6.jpg')"
   ]
  },
  {
   "cell_type": "code",
   "execution_count": null,
   "metadata": {},
   "outputs": [],
   "source": [
    "results = model(img)"
   ]
  },
  {
   "cell_type": "code",
   "execution_count": null,
   "metadata": {},
   "outputs": [],
   "source": [
    "results.print()"
   ]
  },
  {
   "cell_type": "code",
   "execution_count": null,
   "metadata": {},
   "outputs": [],
   "source": [
    "%matplotlib inline \n",
    "plt.imshow(np.squeeze(results.render()))\n",
    "plt.show()"
   ]
  },
  {
   "cell_type": "code",
   "execution_count": null,
   "metadata": {},
   "outputs": [],
   "source": [
    "cap = cv2.VideoCapture(0)\n",
    "while cap.isOpened():\n",
    "    ret, frame = cap.read()\n",
    "    \n",
    "    # Make detections \n",
    "    results = model(frame)\n",
    "    \n",
    "    cv2.imshow('YOLO', np.squeeze(results.render()))\n",
    "    \n",
    "    if cv2.waitKey(10) & 0xFF == ord('q'):\n",
    "        break\n",
    "cap.release()\n",
    "cv2.destroyAllWindows()"
   ]
  },
  {
   "cell_type": "code",
   "execution_count": null,
   "metadata": {},
   "outputs": [],
   "source": []
  }
 ],
 "metadata": {
  "kernelspec": {
   "display_name": "tf",
   "language": "python",
   "name": "python3"
  },
  "language_info": {
   "codemirror_mode": {
    "name": "ipython",
    "version": 3
   },
   "file_extension": ".py",
   "mimetype": "text/x-python",
   "name": "python",
   "nbconvert_exporter": "python",
   "pygments_lexer": "ipython3",
   "version": "3.8.16"
  }
 },
 "nbformat": 4,
 "nbformat_minor": 2
}
